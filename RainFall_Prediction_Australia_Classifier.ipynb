{
  "cells": [
    {
      "cell_type": "code",
      "execution_count": null,
      "metadata": {
        "id": "zeACNf1H1TY-"
      },
      "outputs": [],
      "source": [
        "import pandas as pd\n",
        "import numpy as np\n",
        "import matplotlib.pyplot as plt\n",
        "import seaborn as sb\n",
        "from imblearn.over_sampling import RandomOverSampler\n"
      ]
    },
    {
      "cell_type": "code",
      "execution_count": null,
      "metadata": {
        "colab": {
          "base_uri": "https://localhost:8080/",
          "height": 357
        },
        "id": "LRsjTIkm1TZG",
        "outputId": "5161c1e3-2b39-48ef-841e-e42efbe05cdd"
      },
      "outputs": [
        {
          "output_type": "execute_result",
          "data": {
            "text/html": [
              "\n",
              "  <div id=\"df-a086e800-59c3-49aa-830f-cbe68387d2de\">\n",
              "    <div class=\"colab-df-container\">\n",
              "      <div>\n",
              "<style scoped>\n",
              "    .dataframe tbody tr th:only-of-type {\n",
              "        vertical-align: middle;\n",
              "    }\n",
              "\n",
              "    .dataframe tbody tr th {\n",
              "        vertical-align: top;\n",
              "    }\n",
              "\n",
              "    .dataframe thead th {\n",
              "        text-align: right;\n",
              "    }\n",
              "</style>\n",
              "<table border=\"1\" class=\"dataframe\">\n",
              "  <thead>\n",
              "    <tr style=\"text-align: right;\">\n",
              "      <th></th>\n",
              "      <th>Date</th>\n",
              "      <th>Location</th>\n",
              "      <th>MinTemp</th>\n",
              "      <th>MaxTemp</th>\n",
              "      <th>Rainfall</th>\n",
              "      <th>Evaporation</th>\n",
              "      <th>Sunshine</th>\n",
              "      <th>WindGustDir</th>\n",
              "      <th>WindGustSpeed</th>\n",
              "      <th>WindDir9am</th>\n",
              "      <th>WindDir3pm</th>\n",
              "      <th>WindSpeed9am</th>\n",
              "      <th>WindSpeed3pm</th>\n",
              "      <th>Humidity9am</th>\n",
              "      <th>Humidity3pm</th>\n",
              "      <th>Pressure9am</th>\n",
              "      <th>Pressure3pm</th>\n",
              "      <th>Cloud9am</th>\n",
              "      <th>Cloud3pm</th>\n",
              "      <th>Temp9am</th>\n",
              "      <th>Temp3pm</th>\n",
              "      <th>RainToday</th>\n",
              "      <th>RainTomorrow</th>\n",
              "    </tr>\n",
              "  </thead>\n",
              "  <tbody>\n",
              "    <tr>\n",
              "      <th>0</th>\n",
              "      <td>2008-12-01</td>\n",
              "      <td>Albury</td>\n",
              "      <td>13.4</td>\n",
              "      <td>22.9</td>\n",
              "      <td>0.6</td>\n",
              "      <td>NaN</td>\n",
              "      <td>NaN</td>\n",
              "      <td>W</td>\n",
              "      <td>44.0</td>\n",
              "      <td>W</td>\n",
              "      <td>WNW</td>\n",
              "      <td>20.0</td>\n",
              "      <td>24.0</td>\n",
              "      <td>71.0</td>\n",
              "      <td>22.0</td>\n",
              "      <td>1007.7</td>\n",
              "      <td>1007.1</td>\n",
              "      <td>8.0</td>\n",
              "      <td>NaN</td>\n",
              "      <td>16.9</td>\n",
              "      <td>21.8</td>\n",
              "      <td>No</td>\n",
              "      <td>No</td>\n",
              "    </tr>\n",
              "    <tr>\n",
              "      <th>1</th>\n",
              "      <td>2008-12-02</td>\n",
              "      <td>Albury</td>\n",
              "      <td>7.4</td>\n",
              "      <td>25.1</td>\n",
              "      <td>0.0</td>\n",
              "      <td>NaN</td>\n",
              "      <td>NaN</td>\n",
              "      <td>WNW</td>\n",
              "      <td>44.0</td>\n",
              "      <td>NNW</td>\n",
              "      <td>WSW</td>\n",
              "      <td>4.0</td>\n",
              "      <td>22.0</td>\n",
              "      <td>44.0</td>\n",
              "      <td>25.0</td>\n",
              "      <td>1010.6</td>\n",
              "      <td>1007.8</td>\n",
              "      <td>NaN</td>\n",
              "      <td>NaN</td>\n",
              "      <td>17.2</td>\n",
              "      <td>24.3</td>\n",
              "      <td>No</td>\n",
              "      <td>No</td>\n",
              "    </tr>\n",
              "    <tr>\n",
              "      <th>2</th>\n",
              "      <td>2008-12-03</td>\n",
              "      <td>Albury</td>\n",
              "      <td>12.9</td>\n",
              "      <td>25.7</td>\n",
              "      <td>0.0</td>\n",
              "      <td>NaN</td>\n",
              "      <td>NaN</td>\n",
              "      <td>WSW</td>\n",
              "      <td>46.0</td>\n",
              "      <td>W</td>\n",
              "      <td>WSW</td>\n",
              "      <td>19.0</td>\n",
              "      <td>26.0</td>\n",
              "      <td>38.0</td>\n",
              "      <td>30.0</td>\n",
              "      <td>1007.6</td>\n",
              "      <td>1008.7</td>\n",
              "      <td>NaN</td>\n",
              "      <td>2.0</td>\n",
              "      <td>21.0</td>\n",
              "      <td>23.2</td>\n",
              "      <td>No</td>\n",
              "      <td>No</td>\n",
              "    </tr>\n",
              "    <tr>\n",
              "      <th>3</th>\n",
              "      <td>2008-12-04</td>\n",
              "      <td>Albury</td>\n",
              "      <td>9.2</td>\n",
              "      <td>28.0</td>\n",
              "      <td>0.0</td>\n",
              "      <td>NaN</td>\n",
              "      <td>NaN</td>\n",
              "      <td>NE</td>\n",
              "      <td>24.0</td>\n",
              "      <td>SE</td>\n",
              "      <td>E</td>\n",
              "      <td>11.0</td>\n",
              "      <td>9.0</td>\n",
              "      <td>45.0</td>\n",
              "      <td>16.0</td>\n",
              "      <td>1017.6</td>\n",
              "      <td>1012.8</td>\n",
              "      <td>NaN</td>\n",
              "      <td>NaN</td>\n",
              "      <td>18.1</td>\n",
              "      <td>26.5</td>\n",
              "      <td>No</td>\n",
              "      <td>No</td>\n",
              "    </tr>\n",
              "    <tr>\n",
              "      <th>4</th>\n",
              "      <td>2008-12-05</td>\n",
              "      <td>Albury</td>\n",
              "      <td>17.5</td>\n",
              "      <td>32.3</td>\n",
              "      <td>1.0</td>\n",
              "      <td>NaN</td>\n",
              "      <td>NaN</td>\n",
              "      <td>W</td>\n",
              "      <td>41.0</td>\n",
              "      <td>ENE</td>\n",
              "      <td>NW</td>\n",
              "      <td>7.0</td>\n",
              "      <td>20.0</td>\n",
              "      <td>82.0</td>\n",
              "      <td>33.0</td>\n",
              "      <td>1010.8</td>\n",
              "      <td>1006.0</td>\n",
              "      <td>7.0</td>\n",
              "      <td>8.0</td>\n",
              "      <td>17.8</td>\n",
              "      <td>29.7</td>\n",
              "      <td>No</td>\n",
              "      <td>No</td>\n",
              "    </tr>\n",
              "  </tbody>\n",
              "</table>\n",
              "</div>\n",
              "      <button class=\"colab-df-convert\" onclick=\"convertToInteractive('df-a086e800-59c3-49aa-830f-cbe68387d2de')\"\n",
              "              title=\"Convert this dataframe to an interactive table.\"\n",
              "              style=\"display:none;\">\n",
              "        \n",
              "  <svg xmlns=\"http://www.w3.org/2000/svg\" height=\"24px\"viewBox=\"0 0 24 24\"\n",
              "       width=\"24px\">\n",
              "    <path d=\"M0 0h24v24H0V0z\" fill=\"none\"/>\n",
              "    <path d=\"M18.56 5.44l.94 2.06.94-2.06 2.06-.94-2.06-.94-.94-2.06-.94 2.06-2.06.94zm-11 1L8.5 8.5l.94-2.06 2.06-.94-2.06-.94L8.5 2.5l-.94 2.06-2.06.94zm10 10l.94 2.06.94-2.06 2.06-.94-2.06-.94-.94-2.06-.94 2.06-2.06.94z\"/><path d=\"M17.41 7.96l-1.37-1.37c-.4-.4-.92-.59-1.43-.59-.52 0-1.04.2-1.43.59L10.3 9.45l-7.72 7.72c-.78.78-.78 2.05 0 2.83L4 21.41c.39.39.9.59 1.41.59.51 0 1.02-.2 1.41-.59l7.78-7.78 2.81-2.81c.8-.78.8-2.07 0-2.86zM5.41 20L4 18.59l7.72-7.72 1.47 1.35L5.41 20z\"/>\n",
              "  </svg>\n",
              "      </button>\n",
              "      \n",
              "  <style>\n",
              "    .colab-df-container {\n",
              "      display:flex;\n",
              "      flex-wrap:wrap;\n",
              "      gap: 12px;\n",
              "    }\n",
              "\n",
              "    .colab-df-convert {\n",
              "      background-color: #E8F0FE;\n",
              "      border: none;\n",
              "      border-radius: 50%;\n",
              "      cursor: pointer;\n",
              "      display: none;\n",
              "      fill: #1967D2;\n",
              "      height: 32px;\n",
              "      padding: 0 0 0 0;\n",
              "      width: 32px;\n",
              "    }\n",
              "\n",
              "    .colab-df-convert:hover {\n",
              "      background-color: #E2EBFA;\n",
              "      box-shadow: 0px 1px 2px rgba(60, 64, 67, 0.3), 0px 1px 3px 1px rgba(60, 64, 67, 0.15);\n",
              "      fill: #174EA6;\n",
              "    }\n",
              "\n",
              "    [theme=dark] .colab-df-convert {\n",
              "      background-color: #3B4455;\n",
              "      fill: #D2E3FC;\n",
              "    }\n",
              "\n",
              "    [theme=dark] .colab-df-convert:hover {\n",
              "      background-color: #434B5C;\n",
              "      box-shadow: 0px 1px 3px 1px rgba(0, 0, 0, 0.15);\n",
              "      filter: drop-shadow(0px 1px 2px rgba(0, 0, 0, 0.3));\n",
              "      fill: #FFFFFF;\n",
              "    }\n",
              "  </style>\n",
              "\n",
              "      <script>\n",
              "        const buttonEl =\n",
              "          document.querySelector('#df-a086e800-59c3-49aa-830f-cbe68387d2de button.colab-df-convert');\n",
              "        buttonEl.style.display =\n",
              "          google.colab.kernel.accessAllowed ? 'block' : 'none';\n",
              "\n",
              "        async function convertToInteractive(key) {\n",
              "          const element = document.querySelector('#df-a086e800-59c3-49aa-830f-cbe68387d2de');\n",
              "          const dataTable =\n",
              "            await google.colab.kernel.invokeFunction('convertToInteractive',\n",
              "                                                     [key], {});\n",
              "          if (!dataTable) return;\n",
              "\n",
              "          const docLinkHtml = 'Like what you see? Visit the ' +\n",
              "            '<a target=\"_blank\" href=https://colab.research.google.com/notebooks/data_table.ipynb>data table notebook</a>'\n",
              "            + ' to learn more about interactive tables.';\n",
              "          element.innerHTML = '';\n",
              "          dataTable['output_type'] = 'display_data';\n",
              "          await google.colab.output.renderOutput(dataTable, element);\n",
              "          const docLink = document.createElement('div');\n",
              "          docLink.innerHTML = docLinkHtml;\n",
              "          element.appendChild(docLink);\n",
              "        }\n",
              "      </script>\n",
              "    </div>\n",
              "  </div>\n",
              "  "
            ],
            "text/plain": [
              "         Date Location  MinTemp  ...  Temp3pm  RainToday  RainTomorrow\n",
              "0  2008-12-01   Albury     13.4  ...     21.8         No            No\n",
              "1  2008-12-02   Albury      7.4  ...     24.3         No            No\n",
              "2  2008-12-03   Albury     12.9  ...     23.2         No            No\n",
              "3  2008-12-04   Albury      9.2  ...     26.5         No            No\n",
              "4  2008-12-05   Albury     17.5  ...     29.7         No            No\n",
              "\n",
              "[5 rows x 23 columns]"
            ]
          },
          "metadata": {},
          "execution_count": 6
        }
      ],
      "source": [
        "rain_df= pd.read_csv('weatherAUS.csv')\n",
        "rain_df.head()"
      ]
    },
    {
      "cell_type": "code",
      "execution_count": null,
      "metadata": {
        "colab": {
          "base_uri": "https://localhost:8080/"
        },
        "id": "1x1BYwu7_W58",
        "outputId": "1de8283a-2d59-4175-cf4a-5c6252786cf2"
      },
      "outputs": [
        {
          "output_type": "execute_result",
          "data": {
            "text/plain": [
              "(145460, 23)"
            ]
          },
          "metadata": {},
          "execution_count": 7
        }
      ],
      "source": [
        "rain_df.shape"
      ]
    },
    {
      "cell_type": "code",
      "execution_count": null,
      "metadata": {
        "colab": {
          "base_uri": "https://localhost:8080/"
        },
        "id": "tayJuam91TZJ",
        "outputId": "e131cde9-ec0c-4f63-96f6-89cdfde9ae56"
      },
      "outputs": [
        {
          "output_type": "execute_result",
          "data": {
            "text/plain": [
              "Date              0.000000\n",
              "Location          0.000000\n",
              "MinTemp           1.020899\n",
              "MaxTemp           0.866905\n",
              "Rainfall          2.241853\n",
              "Evaporation      43.166506\n",
              "Sunshine         48.009762\n",
              "WindGustDir       7.098859\n",
              "WindGustSpeed     7.055548\n",
              "WindDir9am        7.263853\n",
              "WindDir3pm        2.906641\n",
              "WindSpeed9am      1.214767\n",
              "WindSpeed3pm      2.105046\n",
              "Humidity9am       1.824557\n",
              "Humidity3pm       3.098446\n",
              "Pressure9am      10.356799\n",
              "Pressure3pm      10.331363\n",
              "Cloud9am         38.421559\n",
              "Cloud3pm         40.807095\n",
              "Temp9am           1.214767\n",
              "Temp3pm           2.481094\n",
              "RainToday         2.241853\n",
              "RainTomorrow      2.245978\n",
              "dtype: float64"
            ]
          },
          "metadata": {},
          "execution_count": 8
        }
      ],
      "source": [
        "(rain_df.isnull().sum()*100)/(rain_df.shape[0])"
      ]
    },
    {
      "cell_type": "code",
      "execution_count": null,
      "metadata": {
        "id": "Vw7KQJAt1TZK"
      },
      "outputs": [],
      "source": [
        "### let's remove the features where missing values are more than 10%\n",
        "rain_df.drop(['Evaporation','Sunshine','Pressure9am','Pressure3pm','Cloud9am','Cloud3pm'],axis=1,inplace=True)"
      ]
    },
    {
      "cell_type": "code",
      "execution_count": null,
      "metadata": {
        "colab": {
          "base_uri": "https://localhost:8080/"
        },
        "id": "Dd_KS7Ma_RBO",
        "outputId": "4940f424-77f9-4ead-bdf8-9536c12b7cb1"
      },
      "outputs": [
        {
          "output_type": "execute_result",
          "data": {
            "text/plain": [
              "(145460, 17)"
            ]
          },
          "metadata": {},
          "execution_count": 10
        }
      ],
      "source": [
        "rain_df.shape"
      ]
    },
    {
      "cell_type": "code",
      "execution_count": null,
      "metadata": {
        "colab": {
          "base_uri": "https://localhost:8080/"
        },
        "id": "O63TgKGQ1TZL",
        "outputId": "db862f94-b41b-461e-915a-3394ace68906"
      },
      "outputs": [
        {
          "output_type": "execute_result",
          "data": {
            "text/plain": [
              "Date             0.000000\n",
              "Location         0.000000\n",
              "MinTemp          1.020899\n",
              "MaxTemp          0.866905\n",
              "Rainfall         2.241853\n",
              "WindGustDir      7.098859\n",
              "WindGustSpeed    7.055548\n",
              "WindDir9am       7.263853\n",
              "WindDir3pm       2.906641\n",
              "WindSpeed9am     1.214767\n",
              "WindSpeed3pm     2.105046\n",
              "Humidity9am      1.824557\n",
              "Humidity3pm      3.098446\n",
              "Temp9am          1.214767\n",
              "Temp3pm          2.481094\n",
              "RainToday        2.241853\n",
              "RainTomorrow     2.245978\n",
              "dtype: float64"
            ]
          },
          "metadata": {},
          "execution_count": 11
        }
      ],
      "source": [
        "(rain_df.isnull().sum()*100)/(rain_df.shape[0])"
      ]
    },
    {
      "cell_type": "code",
      "execution_count": null,
      "metadata": {
        "colab": {
          "base_uri": "https://localhost:8080/"
        },
        "id": "bcjv16_p1TZM",
        "outputId": "4e537af9-c5e8-4752-9e9c-f6432403a9df"
      },
      "outputs": [
        {
          "output_type": "execute_result",
          "data": {
            "text/plain": [
              "(145460, 17)"
            ]
          },
          "metadata": {},
          "execution_count": 12
        }
      ],
      "source": [
        "rain_df.shape"
      ]
    },
    {
      "cell_type": "code",
      "execution_count": null,
      "metadata": {
        "id": "AYynLdJ11TZO"
      },
      "outputs": [],
      "source": [
        "rain_df.dropna(axis=0,inplace=True)"
      ]
    },
    {
      "cell_type": "code",
      "execution_count": null,
      "metadata": {
        "colab": {
          "base_uri": "https://localhost:8080/"
        },
        "id": "WSvnE7_I1TZP",
        "outputId": "13a5cef8-7812-48ef-d602-67aeb01529f3"
      },
      "outputs": [
        {
          "output_type": "execute_result",
          "data": {
            "text/plain": [
              "(121790, 17)"
            ]
          },
          "metadata": {},
          "execution_count": 14
        }
      ],
      "source": [
        "rain_df.shape"
      ]
    },
    {
      "cell_type": "code",
      "execution_count": null,
      "metadata": {
        "colab": {
          "base_uri": "https://localhost:8080/"
        },
        "id": "tU8-0lvH1TZQ",
        "outputId": "d9ead87f-2e5c-4903-9d1a-8a1be6b9bc46"
      },
      "outputs": [
        {
          "output_type": "execute_result",
          "data": {
            "text/plain": [
              "Date             0.0\n",
              "Location         0.0\n",
              "MinTemp          0.0\n",
              "MaxTemp          0.0\n",
              "Rainfall         0.0\n",
              "WindGustDir      0.0\n",
              "WindGustSpeed    0.0\n",
              "WindDir9am       0.0\n",
              "WindDir3pm       0.0\n",
              "WindSpeed9am     0.0\n",
              "WindSpeed3pm     0.0\n",
              "Humidity9am      0.0\n",
              "Humidity3pm      0.0\n",
              "Temp9am          0.0\n",
              "Temp3pm          0.0\n",
              "RainToday        0.0\n",
              "RainTomorrow     0.0\n",
              "dtype: float64"
            ]
          },
          "metadata": {},
          "execution_count": 15
        }
      ],
      "source": [
        "(rain_df.isnull().sum()*100)/(rain_df.shape[0])"
      ]
    },
    {
      "cell_type": "code",
      "execution_count": null,
      "metadata": {
        "colab": {
          "base_uri": "https://localhost:8080/",
          "height": 357
        },
        "id": "dSYlwVJJ1TZS",
        "outputId": "bbd9a009-1724-40b3-df0d-9ec95c125ae4"
      },
      "outputs": [
        {
          "output_type": "execute_result",
          "data": {
            "text/html": [
              "\n",
              "  <div id=\"df-0f412f88-1bd3-420b-8190-53db6aa18f23\">\n",
              "    <div class=\"colab-df-container\">\n",
              "      <div>\n",
              "<style scoped>\n",
              "    .dataframe tbody tr th:only-of-type {\n",
              "        vertical-align: middle;\n",
              "    }\n",
              "\n",
              "    .dataframe tbody tr th {\n",
              "        vertical-align: top;\n",
              "    }\n",
              "\n",
              "    .dataframe thead th {\n",
              "        text-align: right;\n",
              "    }\n",
              "</style>\n",
              "<table border=\"1\" class=\"dataframe\">\n",
              "  <thead>\n",
              "    <tr style=\"text-align: right;\">\n",
              "      <th></th>\n",
              "      <th>Date</th>\n",
              "      <th>Location</th>\n",
              "      <th>MinTemp</th>\n",
              "      <th>MaxTemp</th>\n",
              "      <th>Rainfall</th>\n",
              "      <th>WindGustDir</th>\n",
              "      <th>WindGustSpeed</th>\n",
              "      <th>WindDir9am</th>\n",
              "      <th>WindDir3pm</th>\n",
              "      <th>WindSpeed9am</th>\n",
              "      <th>WindSpeed3pm</th>\n",
              "      <th>Humidity9am</th>\n",
              "      <th>Humidity3pm</th>\n",
              "      <th>Temp9am</th>\n",
              "      <th>Temp3pm</th>\n",
              "      <th>RainToday</th>\n",
              "      <th>RainTomorrow</th>\n",
              "    </tr>\n",
              "  </thead>\n",
              "  <tbody>\n",
              "    <tr>\n",
              "      <th>0</th>\n",
              "      <td>2008-12-01</td>\n",
              "      <td>Albury</td>\n",
              "      <td>13.4</td>\n",
              "      <td>22.9</td>\n",
              "      <td>0.6</td>\n",
              "      <td>W</td>\n",
              "      <td>44.0</td>\n",
              "      <td>W</td>\n",
              "      <td>WNW</td>\n",
              "      <td>20.0</td>\n",
              "      <td>24.0</td>\n",
              "      <td>71.0</td>\n",
              "      <td>22.0</td>\n",
              "      <td>16.9</td>\n",
              "      <td>21.8</td>\n",
              "      <td>No</td>\n",
              "      <td>No</td>\n",
              "    </tr>\n",
              "    <tr>\n",
              "      <th>1</th>\n",
              "      <td>2008-12-02</td>\n",
              "      <td>Albury</td>\n",
              "      <td>7.4</td>\n",
              "      <td>25.1</td>\n",
              "      <td>0.0</td>\n",
              "      <td>WNW</td>\n",
              "      <td>44.0</td>\n",
              "      <td>NNW</td>\n",
              "      <td>WSW</td>\n",
              "      <td>4.0</td>\n",
              "      <td>22.0</td>\n",
              "      <td>44.0</td>\n",
              "      <td>25.0</td>\n",
              "      <td>17.2</td>\n",
              "      <td>24.3</td>\n",
              "      <td>No</td>\n",
              "      <td>No</td>\n",
              "    </tr>\n",
              "    <tr>\n",
              "      <th>2</th>\n",
              "      <td>2008-12-03</td>\n",
              "      <td>Albury</td>\n",
              "      <td>12.9</td>\n",
              "      <td>25.7</td>\n",
              "      <td>0.0</td>\n",
              "      <td>WSW</td>\n",
              "      <td>46.0</td>\n",
              "      <td>W</td>\n",
              "      <td>WSW</td>\n",
              "      <td>19.0</td>\n",
              "      <td>26.0</td>\n",
              "      <td>38.0</td>\n",
              "      <td>30.0</td>\n",
              "      <td>21.0</td>\n",
              "      <td>23.2</td>\n",
              "      <td>No</td>\n",
              "      <td>No</td>\n",
              "    </tr>\n",
              "    <tr>\n",
              "      <th>3</th>\n",
              "      <td>2008-12-04</td>\n",
              "      <td>Albury</td>\n",
              "      <td>9.2</td>\n",
              "      <td>28.0</td>\n",
              "      <td>0.0</td>\n",
              "      <td>NE</td>\n",
              "      <td>24.0</td>\n",
              "      <td>SE</td>\n",
              "      <td>E</td>\n",
              "      <td>11.0</td>\n",
              "      <td>9.0</td>\n",
              "      <td>45.0</td>\n",
              "      <td>16.0</td>\n",
              "      <td>18.1</td>\n",
              "      <td>26.5</td>\n",
              "      <td>No</td>\n",
              "      <td>No</td>\n",
              "    </tr>\n",
              "    <tr>\n",
              "      <th>4</th>\n",
              "      <td>2008-12-05</td>\n",
              "      <td>Albury</td>\n",
              "      <td>17.5</td>\n",
              "      <td>32.3</td>\n",
              "      <td>1.0</td>\n",
              "      <td>W</td>\n",
              "      <td>41.0</td>\n",
              "      <td>ENE</td>\n",
              "      <td>NW</td>\n",
              "      <td>7.0</td>\n",
              "      <td>20.0</td>\n",
              "      <td>82.0</td>\n",
              "      <td>33.0</td>\n",
              "      <td>17.8</td>\n",
              "      <td>29.7</td>\n",
              "      <td>No</td>\n",
              "      <td>No</td>\n",
              "    </tr>\n",
              "  </tbody>\n",
              "</table>\n",
              "</div>\n",
              "      <button class=\"colab-df-convert\" onclick=\"convertToInteractive('df-0f412f88-1bd3-420b-8190-53db6aa18f23')\"\n",
              "              title=\"Convert this dataframe to an interactive table.\"\n",
              "              style=\"display:none;\">\n",
              "        \n",
              "  <svg xmlns=\"http://www.w3.org/2000/svg\" height=\"24px\"viewBox=\"0 0 24 24\"\n",
              "       width=\"24px\">\n",
              "    <path d=\"M0 0h24v24H0V0z\" fill=\"none\"/>\n",
              "    <path d=\"M18.56 5.44l.94 2.06.94-2.06 2.06-.94-2.06-.94-.94-2.06-.94 2.06-2.06.94zm-11 1L8.5 8.5l.94-2.06 2.06-.94-2.06-.94L8.5 2.5l-.94 2.06-2.06.94zm10 10l.94 2.06.94-2.06 2.06-.94-2.06-.94-.94-2.06-.94 2.06-2.06.94z\"/><path d=\"M17.41 7.96l-1.37-1.37c-.4-.4-.92-.59-1.43-.59-.52 0-1.04.2-1.43.59L10.3 9.45l-7.72 7.72c-.78.78-.78 2.05 0 2.83L4 21.41c.39.39.9.59 1.41.59.51 0 1.02-.2 1.41-.59l7.78-7.78 2.81-2.81c.8-.78.8-2.07 0-2.86zM5.41 20L4 18.59l7.72-7.72 1.47 1.35L5.41 20z\"/>\n",
              "  </svg>\n",
              "      </button>\n",
              "      \n",
              "  <style>\n",
              "    .colab-df-container {\n",
              "      display:flex;\n",
              "      flex-wrap:wrap;\n",
              "      gap: 12px;\n",
              "    }\n",
              "\n",
              "    .colab-df-convert {\n",
              "      background-color: #E8F0FE;\n",
              "      border: none;\n",
              "      border-radius: 50%;\n",
              "      cursor: pointer;\n",
              "      display: none;\n",
              "      fill: #1967D2;\n",
              "      height: 32px;\n",
              "      padding: 0 0 0 0;\n",
              "      width: 32px;\n",
              "    }\n",
              "\n",
              "    .colab-df-convert:hover {\n",
              "      background-color: #E2EBFA;\n",
              "      box-shadow: 0px 1px 2px rgba(60, 64, 67, 0.3), 0px 1px 3px 1px rgba(60, 64, 67, 0.15);\n",
              "      fill: #174EA6;\n",
              "    }\n",
              "\n",
              "    [theme=dark] .colab-df-convert {\n",
              "      background-color: #3B4455;\n",
              "      fill: #D2E3FC;\n",
              "    }\n",
              "\n",
              "    [theme=dark] .colab-df-convert:hover {\n",
              "      background-color: #434B5C;\n",
              "      box-shadow: 0px 1px 3px 1px rgba(0, 0, 0, 0.15);\n",
              "      filter: drop-shadow(0px 1px 2px rgba(0, 0, 0, 0.3));\n",
              "      fill: #FFFFFF;\n",
              "    }\n",
              "  </style>\n",
              "\n",
              "      <script>\n",
              "        const buttonEl =\n",
              "          document.querySelector('#df-0f412f88-1bd3-420b-8190-53db6aa18f23 button.colab-df-convert');\n",
              "        buttonEl.style.display =\n",
              "          google.colab.kernel.accessAllowed ? 'block' : 'none';\n",
              "\n",
              "        async function convertToInteractive(key) {\n",
              "          const element = document.querySelector('#df-0f412f88-1bd3-420b-8190-53db6aa18f23');\n",
              "          const dataTable =\n",
              "            await google.colab.kernel.invokeFunction('convertToInteractive',\n",
              "                                                     [key], {});\n",
              "          if (!dataTable) return;\n",
              "\n",
              "          const docLinkHtml = 'Like what you see? Visit the ' +\n",
              "            '<a target=\"_blank\" href=https://colab.research.google.com/notebooks/data_table.ipynb>data table notebook</a>'\n",
              "            + ' to learn more about interactive tables.';\n",
              "          element.innerHTML = '';\n",
              "          dataTable['output_type'] = 'display_data';\n",
              "          await google.colab.output.renderOutput(dataTable, element);\n",
              "          const docLink = document.createElement('div');\n",
              "          docLink.innerHTML = docLinkHtml;\n",
              "          element.appendChild(docLink);\n",
              "        }\n",
              "      </script>\n",
              "    </div>\n",
              "  </div>\n",
              "  "
            ],
            "text/plain": [
              "         Date Location  MinTemp  ...  Temp3pm  RainToday RainTomorrow\n",
              "0  2008-12-01   Albury     13.4  ...     21.8         No           No\n",
              "1  2008-12-02   Albury      7.4  ...     24.3         No           No\n",
              "2  2008-12-03   Albury     12.9  ...     23.2         No           No\n",
              "3  2008-12-04   Albury      9.2  ...     26.5         No           No\n",
              "4  2008-12-05   Albury     17.5  ...     29.7         No           No\n",
              "\n",
              "[5 rows x 17 columns]"
            ]
          },
          "metadata": {},
          "execution_count": 16
        }
      ],
      "source": [
        "rain_df.head()"
      ]
    },
    {
      "cell_type": "code",
      "execution_count": null,
      "metadata": {
        "id": "Qd3-HyiQ1TZT"
      },
      "outputs": [],
      "source": [
        "rain_df['Date']= pd.to_datetime(rain_df['Date'])\n",
        "rain_df['Month']= rain_df['Date'].dt.month\n",
        "rain_df['Year']= rain_df['Date'].dt.year"
      ]
    },
    {
      "cell_type": "code",
      "execution_count": null,
      "metadata": {
        "colab": {
          "base_uri": "https://localhost:8080/",
          "height": 357
        },
        "id": "QQUQ8d2n1TZU",
        "outputId": "47e17f37-ad43-42ce-c799-9d1430a28dc3"
      },
      "outputs": [
        {
          "output_type": "execute_result",
          "data": {
            "text/html": [
              "\n",
              "  <div id=\"df-2b6bd125-60f4-4544-bcae-09a46bb0287b\">\n",
              "    <div class=\"colab-df-container\">\n",
              "      <div>\n",
              "<style scoped>\n",
              "    .dataframe tbody tr th:only-of-type {\n",
              "        vertical-align: middle;\n",
              "    }\n",
              "\n",
              "    .dataframe tbody tr th {\n",
              "        vertical-align: top;\n",
              "    }\n",
              "\n",
              "    .dataframe thead th {\n",
              "        text-align: right;\n",
              "    }\n",
              "</style>\n",
              "<table border=\"1\" class=\"dataframe\">\n",
              "  <thead>\n",
              "    <tr style=\"text-align: right;\">\n",
              "      <th></th>\n",
              "      <th>Date</th>\n",
              "      <th>Location</th>\n",
              "      <th>MinTemp</th>\n",
              "      <th>MaxTemp</th>\n",
              "      <th>Rainfall</th>\n",
              "      <th>WindGustDir</th>\n",
              "      <th>WindGustSpeed</th>\n",
              "      <th>WindDir9am</th>\n",
              "      <th>WindDir3pm</th>\n",
              "      <th>WindSpeed9am</th>\n",
              "      <th>WindSpeed3pm</th>\n",
              "      <th>Humidity9am</th>\n",
              "      <th>Humidity3pm</th>\n",
              "      <th>Temp9am</th>\n",
              "      <th>Temp3pm</th>\n",
              "      <th>RainToday</th>\n",
              "      <th>RainTomorrow</th>\n",
              "      <th>Month</th>\n",
              "      <th>Year</th>\n",
              "    </tr>\n",
              "  </thead>\n",
              "  <tbody>\n",
              "    <tr>\n",
              "      <th>0</th>\n",
              "      <td>2008-12-01</td>\n",
              "      <td>Albury</td>\n",
              "      <td>13.4</td>\n",
              "      <td>22.9</td>\n",
              "      <td>0.6</td>\n",
              "      <td>W</td>\n",
              "      <td>44.0</td>\n",
              "      <td>W</td>\n",
              "      <td>WNW</td>\n",
              "      <td>20.0</td>\n",
              "      <td>24.0</td>\n",
              "      <td>71.0</td>\n",
              "      <td>22.0</td>\n",
              "      <td>16.9</td>\n",
              "      <td>21.8</td>\n",
              "      <td>No</td>\n",
              "      <td>No</td>\n",
              "      <td>12</td>\n",
              "      <td>2008</td>\n",
              "    </tr>\n",
              "    <tr>\n",
              "      <th>1</th>\n",
              "      <td>2008-12-02</td>\n",
              "      <td>Albury</td>\n",
              "      <td>7.4</td>\n",
              "      <td>25.1</td>\n",
              "      <td>0.0</td>\n",
              "      <td>WNW</td>\n",
              "      <td>44.0</td>\n",
              "      <td>NNW</td>\n",
              "      <td>WSW</td>\n",
              "      <td>4.0</td>\n",
              "      <td>22.0</td>\n",
              "      <td>44.0</td>\n",
              "      <td>25.0</td>\n",
              "      <td>17.2</td>\n",
              "      <td>24.3</td>\n",
              "      <td>No</td>\n",
              "      <td>No</td>\n",
              "      <td>12</td>\n",
              "      <td>2008</td>\n",
              "    </tr>\n",
              "    <tr>\n",
              "      <th>2</th>\n",
              "      <td>2008-12-03</td>\n",
              "      <td>Albury</td>\n",
              "      <td>12.9</td>\n",
              "      <td>25.7</td>\n",
              "      <td>0.0</td>\n",
              "      <td>WSW</td>\n",
              "      <td>46.0</td>\n",
              "      <td>W</td>\n",
              "      <td>WSW</td>\n",
              "      <td>19.0</td>\n",
              "      <td>26.0</td>\n",
              "      <td>38.0</td>\n",
              "      <td>30.0</td>\n",
              "      <td>21.0</td>\n",
              "      <td>23.2</td>\n",
              "      <td>No</td>\n",
              "      <td>No</td>\n",
              "      <td>12</td>\n",
              "      <td>2008</td>\n",
              "    </tr>\n",
              "    <tr>\n",
              "      <th>3</th>\n",
              "      <td>2008-12-04</td>\n",
              "      <td>Albury</td>\n",
              "      <td>9.2</td>\n",
              "      <td>28.0</td>\n",
              "      <td>0.0</td>\n",
              "      <td>NE</td>\n",
              "      <td>24.0</td>\n",
              "      <td>SE</td>\n",
              "      <td>E</td>\n",
              "      <td>11.0</td>\n",
              "      <td>9.0</td>\n",
              "      <td>45.0</td>\n",
              "      <td>16.0</td>\n",
              "      <td>18.1</td>\n",
              "      <td>26.5</td>\n",
              "      <td>No</td>\n",
              "      <td>No</td>\n",
              "      <td>12</td>\n",
              "      <td>2008</td>\n",
              "    </tr>\n",
              "    <tr>\n",
              "      <th>4</th>\n",
              "      <td>2008-12-05</td>\n",
              "      <td>Albury</td>\n",
              "      <td>17.5</td>\n",
              "      <td>32.3</td>\n",
              "      <td>1.0</td>\n",
              "      <td>W</td>\n",
              "      <td>41.0</td>\n",
              "      <td>ENE</td>\n",
              "      <td>NW</td>\n",
              "      <td>7.0</td>\n",
              "      <td>20.0</td>\n",
              "      <td>82.0</td>\n",
              "      <td>33.0</td>\n",
              "      <td>17.8</td>\n",
              "      <td>29.7</td>\n",
              "      <td>No</td>\n",
              "      <td>No</td>\n",
              "      <td>12</td>\n",
              "      <td>2008</td>\n",
              "    </tr>\n",
              "  </tbody>\n",
              "</table>\n",
              "</div>\n",
              "      <button class=\"colab-df-convert\" onclick=\"convertToInteractive('df-2b6bd125-60f4-4544-bcae-09a46bb0287b')\"\n",
              "              title=\"Convert this dataframe to an interactive table.\"\n",
              "              style=\"display:none;\">\n",
              "        \n",
              "  <svg xmlns=\"http://www.w3.org/2000/svg\" height=\"24px\"viewBox=\"0 0 24 24\"\n",
              "       width=\"24px\">\n",
              "    <path d=\"M0 0h24v24H0V0z\" fill=\"none\"/>\n",
              "    <path d=\"M18.56 5.44l.94 2.06.94-2.06 2.06-.94-2.06-.94-.94-2.06-.94 2.06-2.06.94zm-11 1L8.5 8.5l.94-2.06 2.06-.94-2.06-.94L8.5 2.5l-.94 2.06-2.06.94zm10 10l.94 2.06.94-2.06 2.06-.94-2.06-.94-.94-2.06-.94 2.06-2.06.94z\"/><path d=\"M17.41 7.96l-1.37-1.37c-.4-.4-.92-.59-1.43-.59-.52 0-1.04.2-1.43.59L10.3 9.45l-7.72 7.72c-.78.78-.78 2.05 0 2.83L4 21.41c.39.39.9.59 1.41.59.51 0 1.02-.2 1.41-.59l7.78-7.78 2.81-2.81c.8-.78.8-2.07 0-2.86zM5.41 20L4 18.59l7.72-7.72 1.47 1.35L5.41 20z\"/>\n",
              "  </svg>\n",
              "      </button>\n",
              "      \n",
              "  <style>\n",
              "    .colab-df-container {\n",
              "      display:flex;\n",
              "      flex-wrap:wrap;\n",
              "      gap: 12px;\n",
              "    }\n",
              "\n",
              "    .colab-df-convert {\n",
              "      background-color: #E8F0FE;\n",
              "      border: none;\n",
              "      border-radius: 50%;\n",
              "      cursor: pointer;\n",
              "      display: none;\n",
              "      fill: #1967D2;\n",
              "      height: 32px;\n",
              "      padding: 0 0 0 0;\n",
              "      width: 32px;\n",
              "    }\n",
              "\n",
              "    .colab-df-convert:hover {\n",
              "      background-color: #E2EBFA;\n",
              "      box-shadow: 0px 1px 2px rgba(60, 64, 67, 0.3), 0px 1px 3px 1px rgba(60, 64, 67, 0.15);\n",
              "      fill: #174EA6;\n",
              "    }\n",
              "\n",
              "    [theme=dark] .colab-df-convert {\n",
              "      background-color: #3B4455;\n",
              "      fill: #D2E3FC;\n",
              "    }\n",
              "\n",
              "    [theme=dark] .colab-df-convert:hover {\n",
              "      background-color: #434B5C;\n",
              "      box-shadow: 0px 1px 3px 1px rgba(0, 0, 0, 0.15);\n",
              "      filter: drop-shadow(0px 1px 2px rgba(0, 0, 0, 0.3));\n",
              "      fill: #FFFFFF;\n",
              "    }\n",
              "  </style>\n",
              "\n",
              "      <script>\n",
              "        const buttonEl =\n",
              "          document.querySelector('#df-2b6bd125-60f4-4544-bcae-09a46bb0287b button.colab-df-convert');\n",
              "        buttonEl.style.display =\n",
              "          google.colab.kernel.accessAllowed ? 'block' : 'none';\n",
              "\n",
              "        async function convertToInteractive(key) {\n",
              "          const element = document.querySelector('#df-2b6bd125-60f4-4544-bcae-09a46bb0287b');\n",
              "          const dataTable =\n",
              "            await google.colab.kernel.invokeFunction('convertToInteractive',\n",
              "                                                     [key], {});\n",
              "          if (!dataTable) return;\n",
              "\n",
              "          const docLinkHtml = 'Like what you see? Visit the ' +\n",
              "            '<a target=\"_blank\" href=https://colab.research.google.com/notebooks/data_table.ipynb>data table notebook</a>'\n",
              "            + ' to learn more about interactive tables.';\n",
              "          element.innerHTML = '';\n",
              "          dataTable['output_type'] = 'display_data';\n",
              "          await google.colab.output.renderOutput(dataTable, element);\n",
              "          const docLink = document.createElement('div');\n",
              "          docLink.innerHTML = docLinkHtml;\n",
              "          element.appendChild(docLink);\n",
              "        }\n",
              "      </script>\n",
              "    </div>\n",
              "  </div>\n",
              "  "
            ],
            "text/plain": [
              "        Date Location  MinTemp  MaxTemp  ...  RainToday RainTomorrow  Month  Year\n",
              "0 2008-12-01   Albury     13.4     22.9  ...         No           No     12  2008\n",
              "1 2008-12-02   Albury      7.4     25.1  ...         No           No     12  2008\n",
              "2 2008-12-03   Albury     12.9     25.7  ...         No           No     12  2008\n",
              "3 2008-12-04   Albury      9.2     28.0  ...         No           No     12  2008\n",
              "4 2008-12-05   Albury     17.5     32.3  ...         No           No     12  2008\n",
              "\n",
              "[5 rows x 19 columns]"
            ]
          },
          "metadata": {},
          "execution_count": 18
        }
      ],
      "source": [
        "rain_df.head()"
      ]
    },
    {
      "cell_type": "code",
      "execution_count": null,
      "metadata": {
        "id": "F04NDryG1TZV"
      },
      "outputs": [],
      "source": [
        "###temporary purposes, let remove the following features: Temp9am, Temp3pm,Windspeed9am, WindSpeed3pm\n",
        "\n",
        "rain_df_temp= rain_df.copy()\n",
        "rain_df.drop(['Temp9am','Temp3pm','WindDir9am','WindDir3pm','WindSpeed9am','WindSpeed3pm'],axis=1,inplace=True)"
      ]
    },
    {
      "cell_type": "code",
      "execution_count": null,
      "metadata": {
        "colab": {
          "base_uri": "https://localhost:8080/"
        },
        "id": "bk923n_51TZW",
        "outputId": "eafdb55e-ac2c-41c9-c783-d10107502ee3"
      },
      "outputs": [
        {
          "output_type": "execute_result",
          "data": {
            "text/plain": [
              "Index(['Date', 'Location', 'MinTemp', 'MaxTemp', 'Rainfall', 'WindGustDir',\n",
              "       'WindGustSpeed', 'Humidity9am', 'Humidity3pm', 'RainToday',\n",
              "       'RainTomorrow', 'Month', 'Year'],\n",
              "      dtype='object')"
            ]
          },
          "metadata": {},
          "execution_count": 20
        }
      ],
      "source": [
        "rain_df.columns"
      ]
    },
    {
      "cell_type": "code",
      "execution_count": null,
      "metadata": {
        "id": "fxA10B681TZX"
      },
      "outputs": [],
      "source": [
        "rain_df['Average Temp']= (rain_df['MinTemp']+rain_df['MaxTemp'])/2\n",
        "rain_df['Average Humidity']= (rain_df['Humidity9am']+rain_df['Humidity3pm'])/2\n",
        "rain_df.drop(['MinTemp','MaxTemp','Humidity9am','Humidity3pm'],axis=1,inplace=True)"
      ]
    },
    {
      "cell_type": "code",
      "execution_count": null,
      "metadata": {
        "id": "ECp_1_a71TZY"
      },
      "outputs": [],
      "source": [
        "rain_df.drop('Date',axis=1,inplace=True)"
      ]
    },
    {
      "cell_type": "markdown",
      "metadata": {
        "id": "f3v-pCxq1TZY"
      },
      "source": [
        "### Exploratory Data Analysis\n"
      ]
    },
    {
      "cell_type": "code",
      "execution_count": null,
      "metadata": {
        "colab": {
          "base_uri": "https://localhost:8080/",
          "height": 423
        },
        "id": "neWZaP531TZa",
        "outputId": "1344aac2-575f-4048-a112-ddc2000b66e7"
      },
      "outputs": [
        {
          "output_type": "execute_result",
          "data": {
            "text/html": [
              "\n",
              "  <div id=\"df-9c93e90f-4359-4a40-a8a7-0783627fc7a8\">\n",
              "    <div class=\"colab-df-container\">\n",
              "      <div>\n",
              "<style scoped>\n",
              "    .dataframe tbody tr th:only-of-type {\n",
              "        vertical-align: middle;\n",
              "    }\n",
              "\n",
              "    .dataframe tbody tr th {\n",
              "        vertical-align: top;\n",
              "    }\n",
              "\n",
              "    .dataframe thead th {\n",
              "        text-align: right;\n",
              "    }\n",
              "</style>\n",
              "<table border=\"1\" class=\"dataframe\">\n",
              "  <thead>\n",
              "    <tr style=\"text-align: right;\">\n",
              "      <th></th>\n",
              "      <th>Location</th>\n",
              "      <th>Rainfall</th>\n",
              "      <th>WindGustDir</th>\n",
              "      <th>WindGustSpeed</th>\n",
              "      <th>RainToday</th>\n",
              "      <th>RainTomorrow</th>\n",
              "      <th>Month</th>\n",
              "      <th>Year</th>\n",
              "      <th>Average Temp</th>\n",
              "      <th>Average Humidity</th>\n",
              "    </tr>\n",
              "  </thead>\n",
              "  <tbody>\n",
              "    <tr>\n",
              "      <th>0</th>\n",
              "      <td>Albury</td>\n",
              "      <td>0.6</td>\n",
              "      <td>W</td>\n",
              "      <td>44.0</td>\n",
              "      <td>No</td>\n",
              "      <td>No</td>\n",
              "      <td>12</td>\n",
              "      <td>2008</td>\n",
              "      <td>18.15</td>\n",
              "      <td>46.5</td>\n",
              "    </tr>\n",
              "    <tr>\n",
              "      <th>1</th>\n",
              "      <td>Albury</td>\n",
              "      <td>0.0</td>\n",
              "      <td>WNW</td>\n",
              "      <td>44.0</td>\n",
              "      <td>No</td>\n",
              "      <td>No</td>\n",
              "      <td>12</td>\n",
              "      <td>2008</td>\n",
              "      <td>16.25</td>\n",
              "      <td>34.5</td>\n",
              "    </tr>\n",
              "    <tr>\n",
              "      <th>2</th>\n",
              "      <td>Albury</td>\n",
              "      <td>0.0</td>\n",
              "      <td>WSW</td>\n",
              "      <td>46.0</td>\n",
              "      <td>No</td>\n",
              "      <td>No</td>\n",
              "      <td>12</td>\n",
              "      <td>2008</td>\n",
              "      <td>19.30</td>\n",
              "      <td>34.0</td>\n",
              "    </tr>\n",
              "    <tr>\n",
              "      <th>3</th>\n",
              "      <td>Albury</td>\n",
              "      <td>0.0</td>\n",
              "      <td>NE</td>\n",
              "      <td>24.0</td>\n",
              "      <td>No</td>\n",
              "      <td>No</td>\n",
              "      <td>12</td>\n",
              "      <td>2008</td>\n",
              "      <td>18.60</td>\n",
              "      <td>30.5</td>\n",
              "    </tr>\n",
              "    <tr>\n",
              "      <th>4</th>\n",
              "      <td>Albury</td>\n",
              "      <td>1.0</td>\n",
              "      <td>W</td>\n",
              "      <td>41.0</td>\n",
              "      <td>No</td>\n",
              "      <td>No</td>\n",
              "      <td>12</td>\n",
              "      <td>2008</td>\n",
              "      <td>24.90</td>\n",
              "      <td>57.5</td>\n",
              "    </tr>\n",
              "    <tr>\n",
              "      <th>...</th>\n",
              "      <td>...</td>\n",
              "      <td>...</td>\n",
              "      <td>...</td>\n",
              "      <td>...</td>\n",
              "      <td>...</td>\n",
              "      <td>...</td>\n",
              "      <td>...</td>\n",
              "      <td>...</td>\n",
              "      <td>...</td>\n",
              "      <td>...</td>\n",
              "    </tr>\n",
              "    <tr>\n",
              "      <th>145454</th>\n",
              "      <td>Uluru</td>\n",
              "      <td>0.0</td>\n",
              "      <td>E</td>\n",
              "      <td>31.0</td>\n",
              "      <td>No</td>\n",
              "      <td>No</td>\n",
              "      <td>6</td>\n",
              "      <td>2017</td>\n",
              "      <td>12.65</td>\n",
              "      <td>43.0</td>\n",
              "    </tr>\n",
              "    <tr>\n",
              "      <th>145455</th>\n",
              "      <td>Uluru</td>\n",
              "      <td>0.0</td>\n",
              "      <td>E</td>\n",
              "      <td>31.0</td>\n",
              "      <td>No</td>\n",
              "      <td>No</td>\n",
              "      <td>6</td>\n",
              "      <td>2017</td>\n",
              "      <td>13.10</td>\n",
              "      <td>37.5</td>\n",
              "    </tr>\n",
              "    <tr>\n",
              "      <th>145456</th>\n",
              "      <td>Uluru</td>\n",
              "      <td>0.0</td>\n",
              "      <td>NNW</td>\n",
              "      <td>22.0</td>\n",
              "      <td>No</td>\n",
              "      <td>No</td>\n",
              "      <td>6</td>\n",
              "      <td>2017</td>\n",
              "      <td>14.45</td>\n",
              "      <td>38.5</td>\n",
              "    </tr>\n",
              "    <tr>\n",
              "      <th>145457</th>\n",
              "      <td>Uluru</td>\n",
              "      <td>0.0</td>\n",
              "      <td>N</td>\n",
              "      <td>37.0</td>\n",
              "      <td>No</td>\n",
              "      <td>No</td>\n",
              "      <td>6</td>\n",
              "      <td>2017</td>\n",
              "      <td>16.15</td>\n",
              "      <td>38.5</td>\n",
              "    </tr>\n",
              "    <tr>\n",
              "      <th>145458</th>\n",
              "      <td>Uluru</td>\n",
              "      <td>0.0</td>\n",
              "      <td>SE</td>\n",
              "      <td>28.0</td>\n",
              "      <td>No</td>\n",
              "      <td>No</td>\n",
              "      <td>6</td>\n",
              "      <td>2017</td>\n",
              "      <td>17.40</td>\n",
              "      <td>37.5</td>\n",
              "    </tr>\n",
              "  </tbody>\n",
              "</table>\n",
              "<p>121790 rows × 10 columns</p>\n",
              "</div>\n",
              "      <button class=\"colab-df-convert\" onclick=\"convertToInteractive('df-9c93e90f-4359-4a40-a8a7-0783627fc7a8')\"\n",
              "              title=\"Convert this dataframe to an interactive table.\"\n",
              "              style=\"display:none;\">\n",
              "        \n",
              "  <svg xmlns=\"http://www.w3.org/2000/svg\" height=\"24px\"viewBox=\"0 0 24 24\"\n",
              "       width=\"24px\">\n",
              "    <path d=\"M0 0h24v24H0V0z\" fill=\"none\"/>\n",
              "    <path d=\"M18.56 5.44l.94 2.06.94-2.06 2.06-.94-2.06-.94-.94-2.06-.94 2.06-2.06.94zm-11 1L8.5 8.5l.94-2.06 2.06-.94-2.06-.94L8.5 2.5l-.94 2.06-2.06.94zm10 10l.94 2.06.94-2.06 2.06-.94-2.06-.94-.94-2.06-.94 2.06-2.06.94z\"/><path d=\"M17.41 7.96l-1.37-1.37c-.4-.4-.92-.59-1.43-.59-.52 0-1.04.2-1.43.59L10.3 9.45l-7.72 7.72c-.78.78-.78 2.05 0 2.83L4 21.41c.39.39.9.59 1.41.59.51 0 1.02-.2 1.41-.59l7.78-7.78 2.81-2.81c.8-.78.8-2.07 0-2.86zM5.41 20L4 18.59l7.72-7.72 1.47 1.35L5.41 20z\"/>\n",
              "  </svg>\n",
              "      </button>\n",
              "      \n",
              "  <style>\n",
              "    .colab-df-container {\n",
              "      display:flex;\n",
              "      flex-wrap:wrap;\n",
              "      gap: 12px;\n",
              "    }\n",
              "\n",
              "    .colab-df-convert {\n",
              "      background-color: #E8F0FE;\n",
              "      border: none;\n",
              "      border-radius: 50%;\n",
              "      cursor: pointer;\n",
              "      display: none;\n",
              "      fill: #1967D2;\n",
              "      height: 32px;\n",
              "      padding: 0 0 0 0;\n",
              "      width: 32px;\n",
              "    }\n",
              "\n",
              "    .colab-df-convert:hover {\n",
              "      background-color: #E2EBFA;\n",
              "      box-shadow: 0px 1px 2px rgba(60, 64, 67, 0.3), 0px 1px 3px 1px rgba(60, 64, 67, 0.15);\n",
              "      fill: #174EA6;\n",
              "    }\n",
              "\n",
              "    [theme=dark] .colab-df-convert {\n",
              "      background-color: #3B4455;\n",
              "      fill: #D2E3FC;\n",
              "    }\n",
              "\n",
              "    [theme=dark] .colab-df-convert:hover {\n",
              "      background-color: #434B5C;\n",
              "      box-shadow: 0px 1px 3px 1px rgba(0, 0, 0, 0.15);\n",
              "      filter: drop-shadow(0px 1px 2px rgba(0, 0, 0, 0.3));\n",
              "      fill: #FFFFFF;\n",
              "    }\n",
              "  </style>\n",
              "\n",
              "      <script>\n",
              "        const buttonEl =\n",
              "          document.querySelector('#df-9c93e90f-4359-4a40-a8a7-0783627fc7a8 button.colab-df-convert');\n",
              "        buttonEl.style.display =\n",
              "          google.colab.kernel.accessAllowed ? 'block' : 'none';\n",
              "\n",
              "        async function convertToInteractive(key) {\n",
              "          const element = document.querySelector('#df-9c93e90f-4359-4a40-a8a7-0783627fc7a8');\n",
              "          const dataTable =\n",
              "            await google.colab.kernel.invokeFunction('convertToInteractive',\n",
              "                                                     [key], {});\n",
              "          if (!dataTable) return;\n",
              "\n",
              "          const docLinkHtml = 'Like what you see? Visit the ' +\n",
              "            '<a target=\"_blank\" href=https://colab.research.google.com/notebooks/data_table.ipynb>data table notebook</a>'\n",
              "            + ' to learn more about interactive tables.';\n",
              "          element.innerHTML = '';\n",
              "          dataTable['output_type'] = 'display_data';\n",
              "          await google.colab.output.renderOutput(dataTable, element);\n",
              "          const docLink = document.createElement('div');\n",
              "          docLink.innerHTML = docLinkHtml;\n",
              "          element.appendChild(docLink);\n",
              "        }\n",
              "      </script>\n",
              "    </div>\n",
              "  </div>\n",
              "  "
            ],
            "text/plain": [
              "       Location  Rainfall WindGustDir  ...  Year Average Temp Average Humidity\n",
              "0        Albury       0.6           W  ...  2008        18.15             46.5\n",
              "1        Albury       0.0         WNW  ...  2008        16.25             34.5\n",
              "2        Albury       0.0         WSW  ...  2008        19.30             34.0\n",
              "3        Albury       0.0          NE  ...  2008        18.60             30.5\n",
              "4        Albury       1.0           W  ...  2008        24.90             57.5\n",
              "...         ...       ...         ...  ...   ...          ...              ...\n",
              "145454    Uluru       0.0           E  ...  2017        12.65             43.0\n",
              "145455    Uluru       0.0           E  ...  2017        13.10             37.5\n",
              "145456    Uluru       0.0         NNW  ...  2017        14.45             38.5\n",
              "145457    Uluru       0.0           N  ...  2017        16.15             38.5\n",
              "145458    Uluru       0.0          SE  ...  2017        17.40             37.5\n",
              "\n",
              "[121790 rows x 10 columns]"
            ]
          },
          "metadata": {},
          "execution_count": 23
        }
      ],
      "source": [
        "rain_df"
      ]
    },
    {
      "cell_type": "markdown",
      "metadata": {
        "id": "bSShnUsH1TZb"
      },
      "source": [
        "##### Location vs amount of rainfall"
      ]
    },
    {
      "cell_type": "code",
      "execution_count": null,
      "metadata": {
        "colab": {
          "base_uri": "https://localhost:8080/",
          "height": 394
        },
        "id": "n8SgI8Wi1TZb",
        "outputId": "7b06e179-dace-4e4a-cb68-8e75735f9edd"
      },
      "outputs": [
        {
          "data": {
            "text/plain": [
              "<BarContainer object of 47 artists>"
            ]
          },
          "execution_count": 23,
          "metadata": {},
          "output_type": "execute_result"
        },
        {
          "data": {
            "image/png": "[encoded data removed]",
            "text/plain": [
              "<Figure size 2160x720 with 1 Axes>"
            ]
          },
          "metadata": {},
          "output_type": "display_data"
        }
      ],
      "source": [
        "plt.figure(figsize=(30,10))\n",
        "location_df=rain_df.groupby('Location').aggregate({'Rainfall':'mean'})\n",
        "plt.barh(y=location_df.index,width=location_df['Rainfall'])\n",
        "#plt.ylabel('Location')\n",
        "#plt.xlabel('Rainfall')\n",
        "#plt.show()"
      ]
    },
    {
      "cell_type": "code",
      "execution_count": null,
      "metadata": {
        "colab": {
          "base_uri": "https://localhost:8080/",
          "height": 394
        },
        "id": "hI0-LdCk4B2W",
        "outputId": "8b29d65c-228b-4633-9798-de1f0991c4fc"
      },
      "outputs": [
        {
          "data": {
            "text/plain": [
              "<BarContainer object of 47 artists>"
            ]
          },
          "execution_count": 24,
          "metadata": {},
          "output_type": "execute_result"
        },
        {
          "data": {
            "image/png": "[encoded data removed]",
            "text/plain": [
              "<Figure size 2160x720 with 1 Axes>"
            ]
          },
          "metadata": {},
          "output_type": "display_data"
        }
      ],
      "source": [
        "plt.figure(figsize=(30,10))\n",
        "location_df=rain_df.groupby('Location').aggregate({'WindGustSpeed':'mean'})\n",
        "plt.barh(y=location_df.index,width=location_df['WindGustSpeed'])"
      ]
    },
    {
      "cell_type": "code",
      "execution_count": null,
      "metadata": {
        "colab": {
          "base_uri": "https://localhost:8080/",
          "height": 143
        },
        "id": "0Z4M2Mhr1TZc",
        "outputId": "5a5f13c2-13d3-4a49-8adb-3c27b502239a"
      },
      "outputs": [
        {
          "data": {
            "text/html": [
              "\n",
              "  <div id=\"df-3d41342e-5924-49c4-a98d-385d8b238d27\">\n",
              "    <div class=\"colab-df-container\">\n",
              "      <div>\n",
              "<style scoped>\n",
              "    .dataframe tbody tr th:only-of-type {\n",
              "        vertical-align: middle;\n",
              "    }\n",
              "\n",
              "    .dataframe tbody tr th {\n",
              "        vertical-align: top;\n",
              "    }\n",
              "\n",
              "    .dataframe thead th {\n",
              "        text-align: right;\n",
              "    }\n",
              "</style>\n",
              "<table border=\"1\" class=\"dataframe\">\n",
              "  <thead>\n",
              "    <tr style=\"text-align: right;\">\n",
              "      <th></th>\n",
              "      <th>WindGustSpeed</th>\n",
              "    </tr>\n",
              "    <tr>\n",
              "      <th>RainTomorrow</th>\n",
              "      <th></th>\n",
              "    </tr>\n",
              "  </thead>\n",
              "  <tbody>\n",
              "    <tr>\n",
              "      <th>No</th>\n",
              "      <td>39.009588</td>\n",
              "    </tr>\n",
              "    <tr>\n",
              "      <th>Yes</th>\n",
              "      <td>46.606532</td>\n",
              "    </tr>\n",
              "  </tbody>\n",
              "</table>\n",
              "</div>\n",
              "      <button class=\"colab-df-convert\" onclick=\"convertToInteractive('df-3d41342e-5924-49c4-a98d-385d8b238d27')\"\n",
              "              title=\"Convert this dataframe to an interactive table.\"\n",
              "              style=\"display:none;\">\n",
              "        \n",
              "  <svg xmlns=\"http://www.w3.org/2000/svg\" height=\"24px\"viewBox=\"0 0 24 24\"\n",
              "       width=\"24px\">\n",
              "    <path d=\"M0 0h24v24H0V0z\" fill=\"none\"/>\n",
              "    <path d=\"M18.56 5.44l.94 2.06.94-2.06 2.06-.94-2.06-.94-.94-2.06-.94 2.06-2.06.94zm-11 1L8.5 8.5l.94-2.06 2.06-.94-2.06-.94L8.5 2.5l-.94 2.06-2.06.94zm10 10l.94 2.06.94-2.06 2.06-.94-2.06-.94-.94-2.06-.94 2.06-2.06.94z\"/><path d=\"M17.41 7.96l-1.37-1.37c-.4-.4-.92-.59-1.43-.59-.52 0-1.04.2-1.43.59L10.3 9.45l-7.72 7.72c-.78.78-.78 2.05 0 2.83L4 21.41c.39.39.9.59 1.41.59.51 0 1.02-.2 1.41-.59l7.78-7.78 2.81-2.81c.8-.78.8-2.07 0-2.86zM5.41 20L4 18.59l7.72-7.72 1.47 1.35L5.41 20z\"/>\n",
              "  </svg>\n",
              "      </button>\n",
              "      \n",
              "  <style>\n",
              "    .colab-df-container {\n",
              "      display:flex;\n",
              "      flex-wrap:wrap;\n",
              "      gap: 12px;\n",
              "    }\n",
              "\n",
              "    .colab-df-convert {\n",
              "      background-color: #E8F0FE;\n",
              "      border: none;\n",
              "      border-radius: 50%;\n",
              "      cursor: pointer;\n",
              "      display: none;\n",
              "      fill: #1967D2;\n",
              "      height: 32px;\n",
              "      padding: 0 0 0 0;\n",
              "      width: 32px;\n",
              "    }\n",
              "\n",
              "    .colab-df-convert:hover {\n",
              "      background-color: #E2EBFA;\n",
              "      box-shadow: 0px 1px 2px rgba(60, 64, 67, 0.3), 0px 1px 3px 1px rgba(60, 64, 67, 0.15);\n",
              "      fill: #174EA6;\n",
              "    }\n",
              "\n",
              "    [theme=dark] .colab-df-convert {\n",
              "      background-color: #3B4455;\n",
              "      fill: #D2E3FC;\n",
              "    }\n",
              "\n",
              "    [theme=dark] .colab-df-convert:hover {\n",
              "      background-color: #434B5C;\n",
              "      box-shadow: 0px 1px 3px 1px rgba(0, 0, 0, 0.15);\n",
              "      filter: drop-shadow(0px 1px 2px rgba(0, 0, 0, 0.3));\n",
              "      fill: #FFFFFF;\n",
              "    }\n",
              "  </style>\n",
              "\n",
              "      <script>\n",
              "        const buttonEl =\n",
              "          document.querySelector('#df-3d41342e-5924-49c4-a98d-385d8b238d27 button.colab-df-convert');\n",
              "        buttonEl.style.display =\n",
              "          google.colab.kernel.accessAllowed ? 'block' : 'none';\n",
              "\n",
              "        async function convertToInteractive(key) {\n",
              "          const element = document.querySelector('#df-3d41342e-5924-49c4-a98d-385d8b238d27');\n",
              "          const dataTable =\n",
              "            await google.colab.kernel.invokeFunction('convertToInteractive',\n",
              "                                                     [key], {});\n",
              "          if (!dataTable) return;\n",
              "\n",
              "          const docLinkHtml = 'Like what you see? Visit the ' +\n",
              "            '<a target=\"_blank\" href=https://colab.research.google.com/notebooks/data_table.ipynb>data table notebook</a>'\n",
              "            + ' to learn more about interactive tables.';\n",
              "          element.innerHTML = '';\n",
              "          dataTable['output_type'] = 'display_data';\n",
              "          await google.colab.output.renderOutput(dataTable, element);\n",
              "          const docLink = document.createElement('div');\n",
              "          docLink.innerHTML = docLinkHtml;\n",
              "          element.appendChild(docLink);\n",
              "        }\n",
              "      </script>\n",
              "    </div>\n",
              "  </div>\n",
              "  "
            ],
            "text/plain": [
              "              WindGustSpeed\n",
              "RainTomorrow               \n",
              "No                39.009588\n",
              "Yes               46.606532"
            ]
          },
          "execution_count": 25,
          "metadata": {},
          "output_type": "execute_result"
        }
      ],
      "source": [
        "#raintommorow vs windspeed\n",
        "rain_df.groupby('RainTomorrow').aggregate({'WindGustSpeed':'mean'})"
      ]
    },
    {
      "cell_type": "code",
      "execution_count": null,
      "metadata": {
        "colab": {
          "base_uri": "https://localhost:8080/",
          "height": 143
        },
        "id": "9GSHIGaC1TZd",
        "outputId": "a0c23363-0466-407a-84c5-90114e18efc7"
      },
      "outputs": [
        {
          "data": {
            "text/html": [
              "\n",
              "  <div id=\"df-578466e5-378a-4c15-8d79-450f24fd17d3\">\n",
              "    <div class=\"colab-df-container\">\n",
              "      <div>\n",
              "<style scoped>\n",
              "    .dataframe tbody tr th:only-of-type {\n",
              "        vertical-align: middle;\n",
              "    }\n",
              "\n",
              "    .dataframe tbody tr th {\n",
              "        vertical-align: top;\n",
              "    }\n",
              "\n",
              "    .dataframe thead th {\n",
              "        text-align: right;\n",
              "    }\n",
              "</style>\n",
              "<table border=\"1\" class=\"dataframe\">\n",
              "  <thead>\n",
              "    <tr style=\"text-align: right;\">\n",
              "      <th></th>\n",
              "      <th>Average Temp</th>\n",
              "    </tr>\n",
              "    <tr>\n",
              "      <th>RainTomorrow</th>\n",
              "      <th></th>\n",
              "    </tr>\n",
              "  </thead>\n",
              "  <tbody>\n",
              "    <tr>\n",
              "      <th>No</th>\n",
              "      <td>18.100234</td>\n",
              "    </tr>\n",
              "    <tr>\n",
              "      <th>Yes</th>\n",
              "      <td>17.271556</td>\n",
              "    </tr>\n",
              "  </tbody>\n",
              "</table>\n",
              "</div>\n",
              "      <button class=\"colab-df-convert\" onclick=\"convertToInteractive('df-578466e5-378a-4c15-8d79-450f24fd17d3')\"\n",
              "              title=\"Convert this dataframe to an interactive table.\"\n",
              "              style=\"display:none;\">\n",
              "        \n",
              "  <svg xmlns=\"http://www.w3.org/2000/svg\" height=\"24px\"viewBox=\"0 0 24 24\"\n",
              "       width=\"24px\">\n",
              "    <path d=\"M0 0h24v24H0V0z\" fill=\"none\"/>\n",
              "    <path d=\"M18.56 5.44l.94 2.06.94-2.06 2.06-.94-2.06-.94-.94-2.06-.94 2.06-2.06.94zm-11 1L8.5 8.5l.94-2.06 2.06-.94-2.06-.94L8.5 2.5l-.94 2.06-2.06.94zm10 10l.94 2.06.94-2.06 2.06-.94-2.06-.94-.94-2.06-.94 2.06-2.06.94z\"/><path d=\"M17.41 7.96l-1.37-1.37c-.4-.4-.92-.59-1.43-.59-.52 0-1.04.2-1.43.59L10.3 9.45l-7.72 7.72c-.78.78-.78 2.05 0 2.83L4 21.41c.39.39.9.59 1.41.59.51 0 1.02-.2 1.41-.59l7.78-7.78 2.81-2.81c.8-.78.8-2.07 0-2.86zM5.41 20L4 18.59l7.72-7.72 1.47 1.35L5.41 20z\"/>\n",
              "  </svg>\n",
              "      </button>\n",
              "      \n",
              "  <style>\n",
              "    .colab-df-container {\n",
              "      display:flex;\n",
              "      flex-wrap:wrap;\n",
              "      gap: 12px;\n",
              "    }\n",
              "\n",
              "    .colab-df-convert {\n",
              "      background-color: #E8F0FE;\n",
              "      border: none;\n",
              "      border-radius: 50%;\n",
              "      cursor: pointer;\n",
              "      display: none;\n",
              "      fill: #1967D2;\n",
              "      height: 32px;\n",
              "      padding: 0 0 0 0;\n",
              "      width: 32px;\n",
              "    }\n",
              "\n",
              "    .colab-df-convert:hover {\n",
              "      background-color: #E2EBFA;\n",
              "      box-shadow: 0px 1px 2px rgba(60, 64, 67, 0.3), 0px 1px 3px 1px rgba(60, 64, 67, 0.15);\n",
              "      fill: #174EA6;\n",
              "    }\n",
              "\n",
              "    [theme=dark] .colab-df-convert {\n",
              "      background-color: #3B4455;\n",
              "      fill: #D2E3FC;\n",
              "    }\n",
              "\n",
              "    [theme=dark] .colab-df-convert:hover {\n",
              "      background-color: #434B5C;\n",
              "      box-shadow: 0px 1px 3px 1px rgba(0, 0, 0, 0.15);\n",
              "      filter: drop-shadow(0px 1px 2px rgba(0, 0, 0, 0.3));\n",
              "      fill: #FFFFFF;\n",
              "    }\n",
              "  </style>\n",
              "\n",
              "      <script>\n",
              "        const buttonEl =\n",
              "          document.querySelector('#df-578466e5-378a-4c15-8d79-450f24fd17d3 button.colab-df-convert');\n",
              "        buttonEl.style.display =\n",
              "          google.colab.kernel.accessAllowed ? 'block' : 'none';\n",
              "\n",
              "        async function convertToInteractive(key) {\n",
              "          const element = document.querySelector('#df-578466e5-378a-4c15-8d79-450f24fd17d3');\n",
              "          const dataTable =\n",
              "            await google.colab.kernel.invokeFunction('convertToInteractive',\n",
              "                                                     [key], {});\n",
              "          if (!dataTable) return;\n",
              "\n",
              "          const docLinkHtml = 'Like what you see? Visit the ' +\n",
              "            '<a target=\"_blank\" href=https://colab.research.google.com/notebooks/data_table.ipynb>data table notebook</a>'\n",
              "            + ' to learn more about interactive tables.';\n",
              "          element.innerHTML = '';\n",
              "          dataTable['output_type'] = 'display_data';\n",
              "          await google.colab.output.renderOutput(dataTable, element);\n",
              "          const docLink = document.createElement('div');\n",
              "          docLink.innerHTML = docLinkHtml;\n",
              "          element.appendChild(docLink);\n",
              "        }\n",
              "      </script>\n",
              "    </div>\n",
              "  </div>\n",
              "  "
            ],
            "text/plain": [
              "              Average Temp\n",
              "RainTomorrow              \n",
              "No               18.100234\n",
              "Yes              17.271556"
            ]
          },
          "execution_count": 26,
          "metadata": {},
          "output_type": "execute_result"
        }
      ],
      "source": [
        "### raintommorow vs average temperature\n",
        "rain_df.groupby('RainTomorrow').aggregate({'Average Temp':'mean'})"
      ]
    },
    {
      "cell_type": "code",
      "execution_count": null,
      "metadata": {
        "colab": {
          "base_uri": "https://localhost:8080/",
          "height": 281
        },
        "id": "VdkLwCLe1TZd",
        "outputId": "100e56ca-eeb0-482a-adb5-ef1995af9314"
      },
      "outputs": [
        {
          "data": {
            "image/png": "[encoded data removed]",
            "text/plain": [
              "<Figure size 432x288 with 1 Axes>"
            ]
          },
          "metadata": {},
          "output_type": "display_data"
        }
      ],
      "source": [
        "#### temp vs windspeed\n",
        "plt.scatter(data=rain_df,x='Average Temp',y='WindGustSpeed')\n",
        "plt.xlabel('Average Temperature')\n",
        "plt.ylabel('WindGustSpeed')\n",
        "plt.show()"
      ]
    },
    {
      "cell_type": "code",
      "execution_count": null,
      "metadata": {
        "colab": {
          "base_uri": "https://localhost:8080/",
          "height": 282
        },
        "id": "4_2QBAgO1TZe",
        "outputId": "25cf641c-421d-471b-d6b9-9e70fcc00b72"
      },
      "outputs": [
        {
          "data": {
            "text/plain": [
              "<matplotlib.axes._subplots.AxesSubplot at 0x7fd14de55510>"
            ]
          },
          "execution_count": 28,
          "metadata": {},
          "output_type": "execute_result"
        },
        {
          "data": {
            "image/png": "[encoded data removed]",
            "text/plain": [
              "<Figure size 432x288 with 1 Axes>"
            ]
          },
          "metadata": {},
          "output_type": "display_data"
        }
      ],
      "source": [
        "### average windspeed for different wind directions\n",
        "rain_df.groupby('WindGustDir').aggregate({'WindGustSpeed':'mean'}).plot(kind='barh')"
      ]
    },
    {
      "cell_type": "code",
      "execution_count": null,
      "metadata": {
        "colab": {
          "base_uri": "https://localhost:8080/",
          "height": 206
        },
        "id": "qiIsHc3M1TZe",
        "outputId": "9e52695b-0609-4a09-cf38-8575bd637769"
      },
      "outputs": [
        {
          "data": {
            "text/html": [
              "\n",
              "  <div id=\"df-9eb1342d-9960-48cc-9f56-355a26cfba67\">\n",
              "    <div class=\"colab-df-container\">\n",
              "      <div>\n",
              "<style scoped>\n",
              "    .dataframe tbody tr th:only-of-type {\n",
              "        vertical-align: middle;\n",
              "    }\n",
              "\n",
              "    .dataframe tbody tr th {\n",
              "        vertical-align: top;\n",
              "    }\n",
              "\n",
              "    .dataframe thead th {\n",
              "        text-align: right;\n",
              "    }\n",
              "</style>\n",
              "<table border=\"1\" class=\"dataframe\">\n",
              "  <thead>\n",
              "    <tr style=\"text-align: right;\">\n",
              "      <th></th>\n",
              "      <th></th>\n",
              "      <th>RainTomorrow</th>\n",
              "    </tr>\n",
              "    <tr>\n",
              "      <th>RainToday</th>\n",
              "      <th>RainTomorrow</th>\n",
              "      <th></th>\n",
              "    </tr>\n",
              "  </thead>\n",
              "  <tbody>\n",
              "    <tr>\n",
              "      <th rowspan=\"2\" valign=\"top\">No</th>\n",
              "      <th>No</th>\n",
              "      <td>80270</td>\n",
              "    </tr>\n",
              "    <tr>\n",
              "      <th>Yes</th>\n",
              "      <td>14267</td>\n",
              "    </tr>\n",
              "    <tr>\n",
              "      <th rowspan=\"2\" valign=\"top\">Yes</th>\n",
              "      <th>No</th>\n",
              "      <td>14636</td>\n",
              "    </tr>\n",
              "    <tr>\n",
              "      <th>Yes</th>\n",
              "      <td>12617</td>\n",
              "    </tr>\n",
              "  </tbody>\n",
              "</table>\n",
              "</div>\n",
              "      <button class=\"colab-df-convert\" onclick=\"convertToInteractive('df-9eb1342d-9960-48cc-9f56-355a26cfba67')\"\n",
              "              title=\"Convert this dataframe to an interactive table.\"\n",
              "              style=\"display:none;\">\n",
              "        \n",
              "  <svg xmlns=\"http://www.w3.org/2000/svg\" height=\"24px\"viewBox=\"0 0 24 24\"\n",
              "       width=\"24px\">\n",
              "    <path d=\"M0 0h24v24H0V0z\" fill=\"none\"/>\n",
              "    <path d=\"M18.56 5.44l.94 2.06.94-2.06 2.06-.94-2.06-.94-.94-2.06-.94 2.06-2.06.94zm-11 1L8.5 8.5l.94-2.06 2.06-.94-2.06-.94L8.5 2.5l-.94 2.06-2.06.94zm10 10l.94 2.06.94-2.06 2.06-.94-2.06-.94-.94-2.06-.94 2.06-2.06.94z\"/><path d=\"M17.41 7.96l-1.37-1.37c-.4-.4-.92-.59-1.43-.59-.52 0-1.04.2-1.43.59L10.3 9.45l-7.72 7.72c-.78.78-.78 2.05 0 2.83L4 21.41c.39.39.9.59 1.41.59.51 0 1.02-.2 1.41-.59l7.78-7.78 2.81-2.81c.8-.78.8-2.07 0-2.86zM5.41 20L4 18.59l7.72-7.72 1.47 1.35L5.41 20z\"/>\n",
              "  </svg>\n",
              "      </button>\n",
              "      \n",
              "  <style>\n",
              "    .colab-df-container {\n",
              "      display:flex;\n",
              "      flex-wrap:wrap;\n",
              "      gap: 12px;\n",
              "    }\n",
              "\n",
              "    .colab-df-convert {\n",
              "      background-color: #E8F0FE;\n",
              "      border: none;\n",
              "      border-radius: 50%;\n",
              "      cursor: pointer;\n",
              "      display: none;\n",
              "      fill: #1967D2;\n",
              "      height: 32px;\n",
              "      padding: 0 0 0 0;\n",
              "      width: 32px;\n",
              "    }\n",
              "\n",
              "    .colab-df-convert:hover {\n",
              "      background-color: #E2EBFA;\n",
              "      box-shadow: 0px 1px 2px rgba(60, 64, 67, 0.3), 0px 1px 3px 1px rgba(60, 64, 67, 0.15);\n",
              "      fill: #174EA6;\n",
              "    }\n",
              "\n",
              "    [theme=dark] .colab-df-convert {\n",
              "      background-color: #3B4455;\n",
              "      fill: #D2E3FC;\n",
              "    }\n",
              "\n",
              "    [theme=dark] .colab-df-convert:hover {\n",
              "      background-color: #434B5C;\n",
              "      box-shadow: 0px 1px 3px 1px rgba(0, 0, 0, 0.15);\n",
              "      filter: drop-shadow(0px 1px 2px rgba(0, 0, 0, 0.3));\n",
              "      fill: #FFFFFF;\n",
              "    }\n",
              "  </style>\n",
              "\n",
              "      <script>\n",
              "        const buttonEl =\n",
              "          document.querySelector('#df-9eb1342d-9960-48cc-9f56-355a26cfba67 button.colab-df-convert');\n",
              "        buttonEl.style.display =\n",
              "          google.colab.kernel.accessAllowed ? 'block' : 'none';\n",
              "\n",
              "        async function convertToInteractive(key) {\n",
              "          const element = document.querySelector('#df-9eb1342d-9960-48cc-9f56-355a26cfba67');\n",
              "          const dataTable =\n",
              "            await google.colab.kernel.invokeFunction('convertToInteractive',\n",
              "                                                     [key], {});\n",
              "          if (!dataTable) return;\n",
              "\n",
              "          const docLinkHtml = 'Like what you see? Visit the ' +\n",
              "            '<a target=\"_blank\" href=https://colab.research.google.com/notebooks/data_table.ipynb>data table notebook</a>'\n",
              "            + ' to learn more about interactive tables.';\n",
              "          element.innerHTML = '';\n",
              "          dataTable['output_type'] = 'display_data';\n",
              "          await google.colab.output.renderOutput(dataTable, element);\n",
              "          const docLink = document.createElement('div');\n",
              "          docLink.innerHTML = docLinkHtml;\n",
              "          element.appendChild(docLink);\n",
              "        }\n",
              "      </script>\n",
              "    </div>\n",
              "  </div>\n",
              "  "
            ],
            "text/plain": [
              "                        RainTomorrow\n",
              "RainToday RainTomorrow              \n",
              "No        No                   80270\n",
              "          Yes                  14267\n",
              "Yes       No                   14636\n",
              "          Yes                  12617"
            ]
          },
          "execution_count": 29,
          "metadata": {},
          "output_type": "execute_result"
        }
      ],
      "source": [
        "#study how much raintommorow would be there if there is raintoday \n",
        "\n",
        "rain_df.groupby('RainToday').aggregate({'RainTomorrow':'value_counts'})"
      ]
    },
    {
      "cell_type": "code",
      "execution_count": null,
      "metadata": {
        "colab": {
          "base_uri": "https://localhost:8080/",
          "height": 299
        },
        "id": "CRC3pouX3bRZ",
        "outputId": "05bece44-ebac-448b-9c2d-9d183e66f106"
      },
      "outputs": [
        {
          "data": {
            "text/plain": [
              "<matplotlib.axes._subplots.AxesSubplot at 0x7fd14dd291d0>"
            ]
          },
          "execution_count": 30,
          "metadata": {},
          "output_type": "execute_result"
        },
        {
          "data": {
            "image/png": "[encoded data removed]",
            "text/plain": [
              "<Figure size 432x288 with 1 Axes>"
            ]
          },
          "metadata": {},
          "output_type": "display_data"
        }
      ],
      "source": [
        "rain_df.groupby('Month').aggregate({'Rainfall':'mean'}).plot(kind='bar')"
      ]
    },
    {
      "cell_type": "code",
      "execution_count": null,
      "metadata": {
        "colab": {
          "base_uri": "https://localhost:8080/",
          "height": 295
        },
        "id": "A18NTbGD1TZf",
        "outputId": "56c42eae-d23b-44ca-a663-f777d2bac3fe"
      },
      "outputs": [
        {
          "data": {
            "image/png": "[encoded data removed]",
            "text/plain": [
              "<Figure size 432x288 with 1 Axes>"
            ]
          },
          "metadata": {},
          "output_type": "display_data"
        }
      ],
      "source": [
        "plt.scatter(rain_df['Average Humidity'],rain_df['Rainfall'])\n",
        "plt.ylabel('Rainfall')\n",
        "plt.xlabel('Average Humidity')\n",
        "plt.title('Rainfall vs Average Humidity')\n",
        "plt.show()"
      ]
    },
    {
      "cell_type": "code",
      "execution_count": null,
      "metadata": {
        "colab": {
          "base_uri": "https://localhost:8080/",
          "height": 295
        },
        "id": "l3tM-9QI8VmV",
        "outputId": "64135e8d-d77e-4f60-d943-4ca9fcc66ac7"
      },
      "outputs": [
        {
          "data": {
            "image/png": "[encoded data removed]",
            "text/plain": [
              "<Figure size 432x288 with 1 Axes>"
            ]
          },
          "metadata": {},
          "output_type": "display_data"
        }
      ],
      "source": [
        "plt.scatter(rain_df['Average Temp'],rain_df['Rainfall'])\n",
        "plt.ylabel('Rainfall')\n",
        "plt.xlabel('Average Temperature')\n",
        "plt.title('Rainfall vs Average Temperature')\n",
        "plt.show() "
      ]
    },
    {
      "cell_type": "code",
      "execution_count": null,
      "metadata": {
        "colab": {
          "base_uri": "https://localhost:8080/",
          "height": 312
        },
        "id": "nkWSG_EI9u-R",
        "outputId": "509c0238-93ce-4757-b988-c5a9f165041e"
      },
      "outputs": [
        {
          "data": {
            "text/plain": [
              "<matplotlib.axes._subplots.AxesSubplot at 0x7fd14e4ad050>"
            ]
          },
          "execution_count": 33,
          "metadata": {},
          "output_type": "execute_result"
        },
        {
          "data": {
            "image/png": "[encoded data removed]",
            "text/plain": [
              "<Figure size 432x288 with 1 Axes>"
            ]
          },
          "metadata": {},
          "output_type": "display_data"
        }
      ],
      "source": [
        "rain_df.groupby('Year').aggregate({'Rainfall':'mean'}).plot(kind='bar')"
      ]
    },
    {
      "cell_type": "code",
      "execution_count": null,
      "metadata": {
        "id": "7FBsxlqvHHy5"
      },
      "outputs": [],
      "source": [
        "rain_df_lr_model= rain_df.copy()"
      ]
    },
    {
      "cell_type": "code",
      "execution_count": null,
      "metadata": {
        "colab": {
          "base_uri": "https://localhost:8080/"
        },
        "id": "B6Ec-y1ZhBZO",
        "outputId": "3687b8a7-9b8b-4971-8098-5dfef5157d19"
      },
      "outputs": [
        {
          "data": {
            "text/plain": [
              "(121790, 10)"
            ]
          },
          "execution_count": 35,
          "metadata": {},
          "output_type": "execute_result"
        }
      ],
      "source": [
        "rain_df_lr_model.shape"
      ]
    },
    {
      "cell_type": "code",
      "execution_count": null,
      "metadata": {
        "id": "j_oOpzAYfziR"
      },
      "outputs": [],
      "source": [
        "def outlier_removal(df,column):\n",
        "  Q1= df[column].quantile(0.25)\n",
        "  Q3= df[column].quantile(0.75)\n",
        "  IQR= Q3-Q1\n",
        "  max_1= Q3+(1.5*IQR)\n",
        "  min_1= Q1-(1.5*IQR)\n",
        "  df= df[(df[column]>min_1) &(df[column]<max_1)]\n",
        "  return df\n"
      ]
    },
    {
      "cell_type": "code",
      "execution_count": null,
      "metadata": {
        "colab": {
          "base_uri": "https://localhost:8080/",
          "height": 334
        },
        "id": "HJj3Vy5t40q3",
        "outputId": "30ae1a0b-4ee6-4b7a-ab37-fcb6aa214688"
      },
      "outputs": [
        {
          "name": "stderr",
          "output_type": "stream",
          "text": [
            "/usr/local/lib/python3.7/dist-packages/seaborn/_decorators.py:43: FutureWarning: Pass the following variable as a keyword arg: x. From version 0.12, the only valid positional argument will be `data`, and passing other arguments without an explicit keyword will result in an error or misinterpretation.\n",
            "  FutureWarning\n"
          ]
        },
        {
          "data": {
            "image/png": "[encoded data removed]",
            "text/plain": [
              "<Figure size 432x288 with 1 Axes>"
            ]
          },
          "metadata": {},
          "output_type": "display_data"
        }
      ],
      "source": [
        "#### boxplot of relative humidity\n",
        "rain_df_lr_model= outlier_removal(rain_df_lr_model,'Average Humidity')\n",
        "sb.boxplot(rain_df_lr_model['Average Humidity'])\n",
        "plt.show()"
      ]
    },
    {
      "cell_type": "code",
      "execution_count": null,
      "metadata": {
        "colab": {
          "base_uri": "https://localhost:8080/",
          "height": 334
        },
        "id": "Prs-0_WC6Hx6",
        "outputId": "87881ae2-5254-4cf0-e296-1564db9fa53a"
      },
      "outputs": [
        {
          "name": "stderr",
          "output_type": "stream",
          "text": [
            "/usr/local/lib/python3.7/dist-packages/seaborn/_decorators.py:43: FutureWarning: Pass the following variable as a keyword arg: x. From version 0.12, the only valid positional argument will be `data`, and passing other arguments without an explicit keyword will result in an error or misinterpretation.\n",
            "  FutureWarning\n"
          ]
        },
        {
          "data": {
            "image/png": "[encoded data removed]",
            "text/plain": [
              "<Figure size 432x288 with 1 Axes>"
            ]
          },
          "metadata": {},
          "output_type": "display_data"
        }
      ],
      "source": [
        "rain_df_lr_model= outlier_removal(rain_df_lr_model,'Average Temp')\n",
        "sb.boxplot(rain_df_lr_model['Average Temp'])\n",
        "plt.show()\n"
      ]
    },
    {
      "cell_type": "code",
      "execution_count": null,
      "metadata": {
        "colab": {
          "base_uri": "https://localhost:8080/"
        },
        "id": "uu8eV4k06Xmz",
        "outputId": "18977f8a-7158-46e9-d81b-d7b317cd018b"
      },
      "outputs": [
        {
          "data": {
            "text/plain": [
              "(121004, 10)"
            ]
          },
          "execution_count": 39,
          "metadata": {},
          "output_type": "execute_result"
        }
      ],
      "source": [
        "rain_df_lr_model.shape"
      ]
    },
    {
      "cell_type": "markdown",
      "metadata": {
        "id": "QPTD0FY0417_"
      },
      "source": [
        "### Feature Engineering"
      ]
    },
    {
      "cell_type": "code",
      "execution_count": null,
      "metadata": {
        "id": "zjlj32Wx8nab"
      },
      "outputs": [],
      "source": [
        "#### remove features where average humidity ==0 (as this cannot be attained)\n",
        "rain_df_lr_model= rain_df_lr_model[rain_df_lr_model['Average Humidity']>0]"
      ]
    },
    {
      "cell_type": "code",
      "execution_count": null,
      "metadata": {
        "colab": {
          "base_uri": "https://localhost:8080/",
          "height": 206
        },
        "id": "Ngs2gEeh70B6",
        "outputId": "93b89728-8fd4-48d4-b204-4c7e6b71c43c"
      },
      "outputs": [
        {
          "data": {
            "text/html": [
              "\n",
              "  <div id=\"df-13e4183d-4df9-47f3-9c65-4f7f079357b7\">\n",
              "    <div class=\"colab-df-container\">\n",
              "      <div>\n",
              "<style scoped>\n",
              "    .dataframe tbody tr th:only-of-type {\n",
              "        vertical-align: middle;\n",
              "    }\n",
              "\n",
              "    .dataframe tbody tr th {\n",
              "        vertical-align: top;\n",
              "    }\n",
              "\n",
              "    .dataframe thead th {\n",
              "        text-align: right;\n",
              "    }\n",
              "</style>\n",
              "<table border=\"1\" class=\"dataframe\">\n",
              "  <thead>\n",
              "    <tr style=\"text-align: right;\">\n",
              "      <th></th>\n",
              "      <th>Location</th>\n",
              "      <th>Rainfall</th>\n",
              "      <th>WindGustDir</th>\n",
              "      <th>WindGustSpeed</th>\n",
              "      <th>RainToday</th>\n",
              "      <th>RainTomorrow</th>\n",
              "      <th>Month</th>\n",
              "      <th>Year</th>\n",
              "      <th>Average Temp</th>\n",
              "      <th>Average Humidity</th>\n",
              "    </tr>\n",
              "  </thead>\n",
              "  <tbody>\n",
              "    <tr>\n",
              "      <th>0</th>\n",
              "      <td>Albury</td>\n",
              "      <td>0.6</td>\n",
              "      <td>W</td>\n",
              "      <td>44.0</td>\n",
              "      <td>No</td>\n",
              "      <td>No</td>\n",
              "      <td>12</td>\n",
              "      <td>2008</td>\n",
              "      <td>18.15</td>\n",
              "      <td>46.5</td>\n",
              "    </tr>\n",
              "    <tr>\n",
              "      <th>1</th>\n",
              "      <td>Albury</td>\n",
              "      <td>0.0</td>\n",
              "      <td>WNW</td>\n",
              "      <td>44.0</td>\n",
              "      <td>No</td>\n",
              "      <td>No</td>\n",
              "      <td>12</td>\n",
              "      <td>2008</td>\n",
              "      <td>16.25</td>\n",
              "      <td>34.5</td>\n",
              "    </tr>\n",
              "    <tr>\n",
              "      <th>2</th>\n",
              "      <td>Albury</td>\n",
              "      <td>0.0</td>\n",
              "      <td>WSW</td>\n",
              "      <td>46.0</td>\n",
              "      <td>No</td>\n",
              "      <td>No</td>\n",
              "      <td>12</td>\n",
              "      <td>2008</td>\n",
              "      <td>19.30</td>\n",
              "      <td>34.0</td>\n",
              "    </tr>\n",
              "    <tr>\n",
              "      <th>3</th>\n",
              "      <td>Albury</td>\n",
              "      <td>0.0</td>\n",
              "      <td>NE</td>\n",
              "      <td>24.0</td>\n",
              "      <td>No</td>\n",
              "      <td>No</td>\n",
              "      <td>12</td>\n",
              "      <td>2008</td>\n",
              "      <td>18.60</td>\n",
              "      <td>30.5</td>\n",
              "    </tr>\n",
              "    <tr>\n",
              "      <th>4</th>\n",
              "      <td>Albury</td>\n",
              "      <td>1.0</td>\n",
              "      <td>W</td>\n",
              "      <td>41.0</td>\n",
              "      <td>No</td>\n",
              "      <td>No</td>\n",
              "      <td>12</td>\n",
              "      <td>2008</td>\n",
              "      <td>24.90</td>\n",
              "      <td>57.5</td>\n",
              "    </tr>\n",
              "  </tbody>\n",
              "</table>\n",
              "</div>\n",
              "      <button class=\"colab-df-convert\" onclick=\"convertToInteractive('df-13e4183d-4df9-47f3-9c65-4f7f079357b7')\"\n",
              "              title=\"Convert this dataframe to an interactive table.\"\n",
              "              style=\"display:none;\">\n",
              "        \n",
              "  <svg xmlns=\"http://www.w3.org/2000/svg\" height=\"24px\"viewBox=\"0 0 24 24\"\n",
              "       width=\"24px\">\n",
              "    <path d=\"M0 0h24v24H0V0z\" fill=\"none\"/>\n",
              "    <path d=\"M18.56 5.44l.94 2.06.94-2.06 2.06-.94-2.06-.94-.94-2.06-.94 2.06-2.06.94zm-11 1L8.5 8.5l.94-2.06 2.06-.94-2.06-.94L8.5 2.5l-.94 2.06-2.06.94zm10 10l.94 2.06.94-2.06 2.06-.94-2.06-.94-.94-2.06-.94 2.06-2.06.94z\"/><path d=\"M17.41 7.96l-1.37-1.37c-.4-.4-.92-.59-1.43-.59-.52 0-1.04.2-1.43.59L10.3 9.45l-7.72 7.72c-.78.78-.78 2.05 0 2.83L4 21.41c.39.39.9.59 1.41.59.51 0 1.02-.2 1.41-.59l7.78-7.78 2.81-2.81c.8-.78.8-2.07 0-2.86zM5.41 20L4 18.59l7.72-7.72 1.47 1.35L5.41 20z\"/>\n",
              "  </svg>\n",
              "      </button>\n",
              "      \n",
              "  <style>\n",
              "    .colab-df-container {\n",
              "      display:flex;\n",
              "      flex-wrap:wrap;\n",
              "      gap: 12px;\n",
              "    }\n",
              "\n",
              "    .colab-df-convert {\n",
              "      background-color: #E8F0FE;\n",
              "      border: none;\n",
              "      border-radius: 50%;\n",
              "      cursor: pointer;\n",
              "      display: none;\n",
              "      fill: #1967D2;\n",
              "      height: 32px;\n",
              "      padding: 0 0 0 0;\n",
              "      width: 32px;\n",
              "    }\n",
              "\n",
              "    .colab-df-convert:hover {\n",
              "      background-color: #E2EBFA;\n",
              "      box-shadow: 0px 1px 2px rgba(60, 64, 67, 0.3), 0px 1px 3px 1px rgba(60, 64, 67, 0.15);\n",
              "      fill: #174EA6;\n",
              "    }\n",
              "\n",
              "    [theme=dark] .colab-df-convert {\n",
              "      background-color: #3B4455;\n",
              "      fill: #D2E3FC;\n",
              "    }\n",
              "\n",
              "    [theme=dark] .colab-df-convert:hover {\n",
              "      background-color: #434B5C;\n",
              "      box-shadow: 0px 1px 3px 1px rgba(0, 0, 0, 0.15);\n",
              "      filter: drop-shadow(0px 1px 2px rgba(0, 0, 0, 0.3));\n",
              "      fill: #FFFFFF;\n",
              "    }\n",
              "  </style>\n",
              "\n",
              "      <script>\n",
              "        const buttonEl =\n",
              "          document.querySelector('#df-13e4183d-4df9-47f3-9c65-4f7f079357b7 button.colab-df-convert');\n",
              "        buttonEl.style.display =\n",
              "          google.colab.kernel.accessAllowed ? 'block' : 'none';\n",
              "\n",
              "        async function convertToInteractive(key) {\n",
              "          const element = document.querySelector('#df-13e4183d-4df9-47f3-9c65-4f7f079357b7');\n",
              "          const dataTable =\n",
              "            await google.colab.kernel.invokeFunction('convertToInteractive',\n",
              "                                                     [key], {});\n",
              "          if (!dataTable) return;\n",
              "\n",
              "          const docLinkHtml = 'Like what you see? Visit the ' +\n",
              "            '<a target=\"_blank\" href=https://colab.research.google.com/notebooks/data_table.ipynb>data table notebook</a>'\n",
              "            + ' to learn more about interactive tables.';\n",
              "          element.innerHTML = '';\n",
              "          dataTable['output_type'] = 'display_data';\n",
              "          await google.colab.output.renderOutput(dataTable, element);\n",
              "          const docLink = document.createElement('div');\n",
              "          docLink.innerHTML = docLinkHtml;\n",
              "          element.appendChild(docLink);\n",
              "        }\n",
              "      </script>\n",
              "    </div>\n",
              "  </div>\n",
              "  "
            ],
            "text/plain": [
              "  Location  Rainfall WindGustDir  ...  Year Average Temp Average Humidity\n",
              "0   Albury       0.6           W  ...  2008        18.15             46.5\n",
              "1   Albury       0.0         WNW  ...  2008        16.25             34.5\n",
              "2   Albury       0.0         WSW  ...  2008        19.30             34.0\n",
              "3   Albury       0.0          NE  ...  2008        18.60             30.5\n",
              "4   Albury       1.0           W  ...  2008        24.90             57.5\n",
              "\n",
              "[5 rows x 10 columns]"
            ]
          },
          "execution_count": 41,
          "metadata": {},
          "output_type": "execute_result"
        }
      ],
      "source": [
        "#### encode all features\n",
        "rain_df_lr_model.head()"
      ]
    },
    {
      "cell_type": "code",
      "execution_count": null,
      "metadata": {
        "colab": {
          "base_uri": "https://localhost:8080/",
          "height": 206
        },
        "id": "ZV28P5AF77zA",
        "outputId": "93398213-9b8a-4b37-ce64-8948c233a3d0"
      },
      "outputs": [
        {
          "data": {
            "text/html": [
              "\n",
              "  <div id=\"df-0b74108c-d141-4222-a483-18a0d127f3ba\">\n",
              "    <div class=\"colab-df-container\">\n",
              "      <div>\n",
              "<style scoped>\n",
              "    .dataframe tbody tr th:only-of-type {\n",
              "        vertical-align: middle;\n",
              "    }\n",
              "\n",
              "    .dataframe tbody tr th {\n",
              "        vertical-align: top;\n",
              "    }\n",
              "\n",
              "    .dataframe thead th {\n",
              "        text-align: right;\n",
              "    }\n",
              "</style>\n",
              "<table border=\"1\" class=\"dataframe\">\n",
              "  <thead>\n",
              "    <tr style=\"text-align: right;\">\n",
              "      <th></th>\n",
              "      <th>Location</th>\n",
              "      <th>Rainfall</th>\n",
              "      <th>WindGustDir</th>\n",
              "      <th>WindGustSpeed</th>\n",
              "      <th>RainToday</th>\n",
              "      <th>RainTomorrow</th>\n",
              "      <th>Month</th>\n",
              "      <th>Year</th>\n",
              "      <th>Average Temp</th>\n",
              "      <th>Average Humidity</th>\n",
              "    </tr>\n",
              "  </thead>\n",
              "  <tbody>\n",
              "    <tr>\n",
              "      <th>0</th>\n",
              "      <td>Albury</td>\n",
              "      <td>0.6</td>\n",
              "      <td>W</td>\n",
              "      <td>44.0</td>\n",
              "      <td>0</td>\n",
              "      <td>0</td>\n",
              "      <td>12</td>\n",
              "      <td>2008</td>\n",
              "      <td>18.15</td>\n",
              "      <td>46.5</td>\n",
              "    </tr>\n",
              "    <tr>\n",
              "      <th>1</th>\n",
              "      <td>Albury</td>\n",
              "      <td>0.0</td>\n",
              "      <td>WNW</td>\n",
              "      <td>44.0</td>\n",
              "      <td>0</td>\n",
              "      <td>0</td>\n",
              "      <td>12</td>\n",
              "      <td>2008</td>\n",
              "      <td>16.25</td>\n",
              "      <td>34.5</td>\n",
              "    </tr>\n",
              "    <tr>\n",
              "      <th>2</th>\n",
              "      <td>Albury</td>\n",
              "      <td>0.0</td>\n",
              "      <td>WSW</td>\n",
              "      <td>46.0</td>\n",
              "      <td>0</td>\n",
              "      <td>0</td>\n",
              "      <td>12</td>\n",
              "      <td>2008</td>\n",
              "      <td>19.30</td>\n",
              "      <td>34.0</td>\n",
              "    </tr>\n",
              "    <tr>\n",
              "      <th>3</th>\n",
              "      <td>Albury</td>\n",
              "      <td>0.0</td>\n",
              "      <td>NE</td>\n",
              "      <td>24.0</td>\n",
              "      <td>0</td>\n",
              "      <td>0</td>\n",
              "      <td>12</td>\n",
              "      <td>2008</td>\n",
              "      <td>18.60</td>\n",
              "      <td>30.5</td>\n",
              "    </tr>\n",
              "    <tr>\n",
              "      <th>4</th>\n",
              "      <td>Albury</td>\n",
              "      <td>1.0</td>\n",
              "      <td>W</td>\n",
              "      <td>41.0</td>\n",
              "      <td>0</td>\n",
              "      <td>0</td>\n",
              "      <td>12</td>\n",
              "      <td>2008</td>\n",
              "      <td>24.90</td>\n",
              "      <td>57.5</td>\n",
              "    </tr>\n",
              "  </tbody>\n",
              "</table>\n",
              "</div>\n",
              "      <button class=\"colab-df-convert\" onclick=\"convertToInteractive('df-0b74108c-d141-4222-a483-18a0d127f3ba')\"\n",
              "              title=\"Convert this dataframe to an interactive table.\"\n",
              "              style=\"display:none;\">\n",
              "        \n",
              "  <svg xmlns=\"http://www.w3.org/2000/svg\" height=\"24px\"viewBox=\"0 0 24 24\"\n",
              "       width=\"24px\">\n",
              "    <path d=\"M0 0h24v24H0V0z\" fill=\"none\"/>\n",
              "    <path d=\"M18.56 5.44l.94 2.06.94-2.06 2.06-.94-2.06-.94-.94-2.06-.94 2.06-2.06.94zm-11 1L8.5 8.5l.94-2.06 2.06-.94-2.06-.94L8.5 2.5l-.94 2.06-2.06.94zm10 10l.94 2.06.94-2.06 2.06-.94-2.06-.94-.94-2.06-.94 2.06-2.06.94z\"/><path d=\"M17.41 7.96l-1.37-1.37c-.4-.4-.92-.59-1.43-.59-.52 0-1.04.2-1.43.59L10.3 9.45l-7.72 7.72c-.78.78-.78 2.05 0 2.83L4 21.41c.39.39.9.59 1.41.59.51 0 1.02-.2 1.41-.59l7.78-7.78 2.81-2.81c.8-.78.8-2.07 0-2.86zM5.41 20L4 18.59l7.72-7.72 1.47 1.35L5.41 20z\"/>\n",
              "  </svg>\n",
              "      </button>\n",
              "      \n",
              "  <style>\n",
              "    .colab-df-container {\n",
              "      display:flex;\n",
              "      flex-wrap:wrap;\n",
              "      gap: 12px;\n",
              "    }\n",
              "\n",
              "    .colab-df-convert {\n",
              "      background-color: #E8F0FE;\n",
              "      border: none;\n",
              "      border-radius: 50%;\n",
              "      cursor: pointer;\n",
              "      display: none;\n",
              "      fill: #1967D2;\n",
              "      height: 32px;\n",
              "      padding: 0 0 0 0;\n",
              "      width: 32px;\n",
              "    }\n",
              "\n",
              "    .colab-df-convert:hover {\n",
              "      background-color: #E2EBFA;\n",
              "      box-shadow: 0px 1px 2px rgba(60, 64, 67, 0.3), 0px 1px 3px 1px rgba(60, 64, 67, 0.15);\n",
              "      fill: #174EA6;\n",
              "    }\n",
              "\n",
              "    [theme=dark] .colab-df-convert {\n",
              "      background-color: #3B4455;\n",
              "      fill: #D2E3FC;\n",
              "    }\n",
              "\n",
              "    [theme=dark] .colab-df-convert:hover {\n",
              "      background-color: #434B5C;\n",
              "      box-shadow: 0px 1px 3px 1px rgba(0, 0, 0, 0.15);\n",
              "      filter: drop-shadow(0px 1px 2px rgba(0, 0, 0, 0.3));\n",
              "      fill: #FFFFFF;\n",
              "    }\n",
              "  </style>\n",
              "\n",
              "      <script>\n",
              "        const buttonEl =\n",
              "          document.querySelector('#df-0b74108c-d141-4222-a483-18a0d127f3ba button.colab-df-convert');\n",
              "        buttonEl.style.display =\n",
              "          google.colab.kernel.accessAllowed ? 'block' : 'none';\n",
              "\n",
              "        async function convertToInteractive(key) {\n",
              "          const element = document.querySelector('#df-0b74108c-d141-4222-a483-18a0d127f3ba');\n",
              "          const dataTable =\n",
              "            await google.colab.kernel.invokeFunction('convertToInteractive',\n",
              "                                                     [key], {});\n",
              "          if (!dataTable) return;\n",
              "\n",
              "          const docLinkHtml = 'Like what you see? Visit the ' +\n",
              "            '<a target=\"_blank\" href=https://colab.research.google.com/notebooks/data_table.ipynb>data table notebook</a>'\n",
              "            + ' to learn more about interactive tables.';\n",
              "          element.innerHTML = '';\n",
              "          dataTable['output_type'] = 'display_data';\n",
              "          await google.colab.output.renderOutput(dataTable, element);\n",
              "          const docLink = document.createElement('div');\n",
              "          docLink.innerHTML = docLinkHtml;\n",
              "          element.appendChild(docLink);\n",
              "        }\n",
              "      </script>\n",
              "    </div>\n",
              "  </div>\n",
              "  "
            ],
            "text/plain": [
              "  Location  Rainfall WindGustDir  ...  Year  Average Temp  Average Humidity\n",
              "0   Albury       0.6           W  ...  2008         18.15              46.5\n",
              "1   Albury       0.0         WNW  ...  2008         16.25              34.5\n",
              "2   Albury       0.0         WSW  ...  2008         19.30              34.0\n",
              "3   Albury       0.0          NE  ...  2008         18.60              30.5\n",
              "4   Albury       1.0           W  ...  2008         24.90              57.5\n",
              "\n",
              "[5 rows x 10 columns]"
            ]
          },
          "execution_count": 42,
          "metadata": {},
          "output_type": "execute_result"
        }
      ],
      "source": [
        "#encode the RainToday , RainTommorow to 0, 1\n",
        "rain_df_lr_model['RainToday']= np.where(rain_df_lr_model['RainToday']=='Yes',1,0)\n",
        "rain_df_lr_model['RainTomorrow']= np.where(rain_df_lr_model['RainTomorrow']=='Yes',1,0)\n",
        "rain_df_lr_model.head()"
      ]
    },
    {
      "cell_type": "code",
      "execution_count": null,
      "metadata": {
        "id": "gKqjgqkL9gwg"
      },
      "outputs": [],
      "source": [
        "#one hot encode all the other categorical features\n",
        "df_location= pd.get_dummies(rain_df_lr_model['Location'],drop_first=True)\n",
        "df_winddir= pd.get_dummies(rain_df_lr_model['WindGustDir'],drop_first=True)\n",
        "\n",
        "#concat the features\n",
        "rain_df_lr_model= pd.concat([rain_df_lr_model,df_location,df_winddir],axis=1)\n",
        "rain_df_lr_model.drop(['Location','WindGustDir'],axis=1,inplace=True)"
      ]
    },
    {
      "cell_type": "code",
      "execution_count": null,
      "metadata": {
        "colab": {
          "base_uri": "https://localhost:8080/",
          "height": 287
        },
        "id": "3s44nt9C-Swc",
        "outputId": "3bfb8c37-257b-46da-df32-03039ea31f28"
      },
      "outputs": [
        {
          "data": {
            "text/html": [
              "\n",
              "  <div id=\"df-fd88e75d-e6df-43f0-9cee-3628287ea27c\">\n",
              "    <div class=\"colab-df-container\">\n",
              "      <div>\n",
              "<style scoped>\n",
              "    .dataframe tbody tr th:only-of-type {\n",
              "        vertical-align: middle;\n",
              "    }\n",
              "\n",
              "    .dataframe tbody tr th {\n",
              "        vertical-align: top;\n",
              "    }\n",
              "\n",
              "    .dataframe thead th {\n",
              "        text-align: right;\n",
              "    }\n",
              "</style>\n",
              "<table border=\"1\" class=\"dataframe\">\n",
              "  <thead>\n",
              "    <tr style=\"text-align: right;\">\n",
              "      <th></th>\n",
              "      <th>Rainfall</th>\n",
              "      <th>WindGustSpeed</th>\n",
              "      <th>RainToday</th>\n",
              "      <th>RainTomorrow</th>\n",
              "      <th>Month</th>\n",
              "      <th>Year</th>\n",
              "      <th>Average Temp</th>\n",
              "      <th>Average Humidity</th>\n",
              "      <th>Albury</th>\n",
              "      <th>AliceSprings</th>\n",
              "      <th>BadgerysCreek</th>\n",
              "      <th>Ballarat</th>\n",
              "      <th>Bendigo</th>\n",
              "      <th>Brisbane</th>\n",
              "      <th>Cairns</th>\n",
              "      <th>Canberra</th>\n",
              "      <th>Cobar</th>\n",
              "      <th>CoffsHarbour</th>\n",
              "      <th>Dartmoor</th>\n",
              "      <th>Darwin</th>\n",
              "      <th>GoldCoast</th>\n",
              "      <th>Hobart</th>\n",
              "      <th>Katherine</th>\n",
              "      <th>Launceston</th>\n",
              "      <th>Melbourne</th>\n",
              "      <th>MelbourneAirport</th>\n",
              "      <th>Mildura</th>\n",
              "      <th>Moree</th>\n",
              "      <th>MountGambier</th>\n",
              "      <th>MountGinini</th>\n",
              "      <th>Nhil</th>\n",
              "      <th>NorahHead</th>\n",
              "      <th>NorfolkIsland</th>\n",
              "      <th>Nuriootpa</th>\n",
              "      <th>PearceRAAF</th>\n",
              "      <th>Penrith</th>\n",
              "      <th>Perth</th>\n",
              "      <th>PerthAirport</th>\n",
              "      <th>Portland</th>\n",
              "      <th>Richmond</th>\n",
              "      <th>Sale</th>\n",
              "      <th>SalmonGums</th>\n",
              "      <th>Sydney</th>\n",
              "      <th>SydneyAirport</th>\n",
              "      <th>Townsville</th>\n",
              "      <th>Tuggeranong</th>\n",
              "      <th>Uluru</th>\n",
              "      <th>WaggaWagga</th>\n",
              "      <th>Walpole</th>\n",
              "      <th>Watsonia</th>\n",
              "      <th>Williamtown</th>\n",
              "      <th>Witchcliffe</th>\n",
              "      <th>Wollongong</th>\n",
              "      <th>Woomera</th>\n",
              "      <th>ENE</th>\n",
              "      <th>ESE</th>\n",
              "      <th>N</th>\n",
              "      <th>NE</th>\n",
              "      <th>NNE</th>\n",
              "      <th>NNW</th>\n",
              "      <th>NW</th>\n",
              "      <th>S</th>\n",
              "      <th>SE</th>\n",
              "      <th>SSE</th>\n",
              "      <th>SSW</th>\n",
              "      <th>SW</th>\n",
              "      <th>W</th>\n",
              "      <th>WNW</th>\n",
              "      <th>WSW</th>\n",
              "    </tr>\n",
              "  </thead>\n",
              "  <tbody>\n",
              "    <tr>\n",
              "      <th>0</th>\n",
              "      <td>0.6</td>\n",
              "      <td>44.0</td>\n",
              "      <td>0</td>\n",
              "      <td>0</td>\n",
              "      <td>12</td>\n",
              "      <td>2008</td>\n",
              "      <td>18.15</td>\n",
              "      <td>46.5</td>\n",
              "      <td>1</td>\n",
              "      <td>0</td>\n",
              "      <td>0</td>\n",
              "      <td>0</td>\n",
              "      <td>0</td>\n",
              "      <td>0</td>\n",
              "      <td>0</td>\n",
              "      <td>0</td>\n",
              "      <td>0</td>\n",
              "      <td>0</td>\n",
              "      <td>0</td>\n",
              "      <td>0</td>\n",
              "      <td>0</td>\n",
              "      <td>0</td>\n",
              "      <td>0</td>\n",
              "      <td>0</td>\n",
              "      <td>0</td>\n",
              "      <td>0</td>\n",
              "      <td>0</td>\n",
              "      <td>0</td>\n",
              "      <td>0</td>\n",
              "      <td>0</td>\n",
              "      <td>0</td>\n",
              "      <td>0</td>\n",
              "      <td>0</td>\n",
              "      <td>0</td>\n",
              "      <td>0</td>\n",
              "      <td>0</td>\n",
              "      <td>0</td>\n",
              "      <td>0</td>\n",
              "      <td>0</td>\n",
              "      <td>0</td>\n",
              "      <td>0</td>\n",
              "      <td>0</td>\n",
              "      <td>0</td>\n",
              "      <td>0</td>\n",
              "      <td>0</td>\n",
              "      <td>0</td>\n",
              "      <td>0</td>\n",
              "      <td>0</td>\n",
              "      <td>0</td>\n",
              "      <td>0</td>\n",
              "      <td>0</td>\n",
              "      <td>0</td>\n",
              "      <td>0</td>\n",
              "      <td>0</td>\n",
              "      <td>0</td>\n",
              "      <td>0</td>\n",
              "      <td>0</td>\n",
              "      <td>0</td>\n",
              "      <td>0</td>\n",
              "      <td>0</td>\n",
              "      <td>0</td>\n",
              "      <td>0</td>\n",
              "      <td>0</td>\n",
              "      <td>0</td>\n",
              "      <td>0</td>\n",
              "      <td>0</td>\n",
              "      <td>1</td>\n",
              "      <td>0</td>\n",
              "      <td>0</td>\n",
              "    </tr>\n",
              "    <tr>\n",
              "      <th>1</th>\n",
              "      <td>0.0</td>\n",
              "      <td>44.0</td>\n",
              "      <td>0</td>\n",
              "      <td>0</td>\n",
              "      <td>12</td>\n",
              "      <td>2008</td>\n",
              "      <td>16.25</td>\n",
              "      <td>34.5</td>\n",
              "      <td>1</td>\n",
              "      <td>0</td>\n",
              "      <td>0</td>\n",
              "      <td>0</td>\n",
              "      <td>0</td>\n",
              "      <td>0</td>\n",
              "      <td>0</td>\n",
              "      <td>0</td>\n",
              "      <td>0</td>\n",
              "      <td>0</td>\n",
              "      <td>0</td>\n",
              "      <td>0</td>\n",
              "      <td>0</td>\n",
              "      <td>0</td>\n",
              "      <td>0</td>\n",
              "      <td>0</td>\n",
              "      <td>0</td>\n",
              "      <td>0</td>\n",
              "      <td>0</td>\n",
              "      <td>0</td>\n",
              "      <td>0</td>\n",
              "      <td>0</td>\n",
              "      <td>0</td>\n",
              "      <td>0</td>\n",
              "      <td>0</td>\n",
              "      <td>0</td>\n",
              "      <td>0</td>\n",
              "      <td>0</td>\n",
              "      <td>0</td>\n",
              "      <td>0</td>\n",
              "      <td>0</td>\n",
              "      <td>0</td>\n",
              "      <td>0</td>\n",
              "      <td>0</td>\n",
              "      <td>0</td>\n",
              "      <td>0</td>\n",
              "      <td>0</td>\n",
              "      <td>0</td>\n",
              "      <td>0</td>\n",
              "      <td>0</td>\n",
              "      <td>0</td>\n",
              "      <td>0</td>\n",
              "      <td>0</td>\n",
              "      <td>0</td>\n",
              "      <td>0</td>\n",
              "      <td>0</td>\n",
              "      <td>0</td>\n",
              "      <td>0</td>\n",
              "      <td>0</td>\n",
              "      <td>0</td>\n",
              "      <td>0</td>\n",
              "      <td>0</td>\n",
              "      <td>0</td>\n",
              "      <td>0</td>\n",
              "      <td>0</td>\n",
              "      <td>0</td>\n",
              "      <td>0</td>\n",
              "      <td>0</td>\n",
              "      <td>0</td>\n",
              "      <td>1</td>\n",
              "      <td>0</td>\n",
              "    </tr>\n",
              "    <tr>\n",
              "      <th>2</th>\n",
              "      <td>0.0</td>\n",
              "      <td>46.0</td>\n",
              "      <td>0</td>\n",
              "      <td>0</td>\n",
              "      <td>12</td>\n",
              "      <td>2008</td>\n",
              "      <td>19.30</td>\n",
              "      <td>34.0</td>\n",
              "      <td>1</td>\n",
              "      <td>0</td>\n",
              "      <td>0</td>\n",
              "      <td>0</td>\n",
              "      <td>0</td>\n",
              "      <td>0</td>\n",
              "      <td>0</td>\n",
              "      <td>0</td>\n",
              "      <td>0</td>\n",
              "      <td>0</td>\n",
              "      <td>0</td>\n",
              "      <td>0</td>\n",
              "      <td>0</td>\n",
              "      <td>0</td>\n",
              "      <td>0</td>\n",
              "      <td>0</td>\n",
              "      <td>0</td>\n",
              "      <td>0</td>\n",
              "      <td>0</td>\n",
              "      <td>0</td>\n",
              "      <td>0</td>\n",
              "      <td>0</td>\n",
              "      <td>0</td>\n",
              "      <td>0</td>\n",
              "      <td>0</td>\n",
              "      <td>0</td>\n",
              "      <td>0</td>\n",
              "      <td>0</td>\n",
              "      <td>0</td>\n",
              "      <td>0</td>\n",
              "      <td>0</td>\n",
              "      <td>0</td>\n",
              "      <td>0</td>\n",
              "      <td>0</td>\n",
              "      <td>0</td>\n",
              "      <td>0</td>\n",
              "      <td>0</td>\n",
              "      <td>0</td>\n",
              "      <td>0</td>\n",
              "      <td>0</td>\n",
              "      <td>0</td>\n",
              "      <td>0</td>\n",
              "      <td>0</td>\n",
              "      <td>0</td>\n",
              "      <td>0</td>\n",
              "      <td>0</td>\n",
              "      <td>0</td>\n",
              "      <td>0</td>\n",
              "      <td>0</td>\n",
              "      <td>0</td>\n",
              "      <td>0</td>\n",
              "      <td>0</td>\n",
              "      <td>0</td>\n",
              "      <td>0</td>\n",
              "      <td>0</td>\n",
              "      <td>0</td>\n",
              "      <td>0</td>\n",
              "      <td>0</td>\n",
              "      <td>0</td>\n",
              "      <td>0</td>\n",
              "      <td>1</td>\n",
              "    </tr>\n",
              "    <tr>\n",
              "      <th>3</th>\n",
              "      <td>0.0</td>\n",
              "      <td>24.0</td>\n",
              "      <td>0</td>\n",
              "      <td>0</td>\n",
              "      <td>12</td>\n",
              "      <td>2008</td>\n",
              "      <td>18.60</td>\n",
              "      <td>30.5</td>\n",
              "      <td>1</td>\n",
              "      <td>0</td>\n",
              "      <td>0</td>\n",
              "      <td>0</td>\n",
              "      <td>0</td>\n",
              "      <td>0</td>\n",
              "      <td>0</td>\n",
              "      <td>0</td>\n",
              "      <td>0</td>\n",
              "      <td>0</td>\n",
              "      <td>0</td>\n",
              "      <td>0</td>\n",
              "      <td>0</td>\n",
              "      <td>0</td>\n",
              "      <td>0</td>\n",
              "      <td>0</td>\n",
              "      <td>0</td>\n",
              "      <td>0</td>\n",
              "      <td>0</td>\n",
              "      <td>0</td>\n",
              "      <td>0</td>\n",
              "      <td>0</td>\n",
              "      <td>0</td>\n",
              "      <td>0</td>\n",
              "      <td>0</td>\n",
              "      <td>0</td>\n",
              "      <td>0</td>\n",
              "      <td>0</td>\n",
              "      <td>0</td>\n",
              "      <td>0</td>\n",
              "      <td>0</td>\n",
              "      <td>0</td>\n",
              "      <td>0</td>\n",
              "      <td>0</td>\n",
              "      <td>0</td>\n",
              "      <td>0</td>\n",
              "      <td>0</td>\n",
              "      <td>0</td>\n",
              "      <td>0</td>\n",
              "      <td>0</td>\n",
              "      <td>0</td>\n",
              "      <td>0</td>\n",
              "      <td>0</td>\n",
              "      <td>0</td>\n",
              "      <td>0</td>\n",
              "      <td>0</td>\n",
              "      <td>0</td>\n",
              "      <td>0</td>\n",
              "      <td>0</td>\n",
              "      <td>1</td>\n",
              "      <td>0</td>\n",
              "      <td>0</td>\n",
              "      <td>0</td>\n",
              "      <td>0</td>\n",
              "      <td>0</td>\n",
              "      <td>0</td>\n",
              "      <td>0</td>\n",
              "      <td>0</td>\n",
              "      <td>0</td>\n",
              "      <td>0</td>\n",
              "      <td>0</td>\n",
              "    </tr>\n",
              "    <tr>\n",
              "      <th>4</th>\n",
              "      <td>1.0</td>\n",
              "      <td>41.0</td>\n",
              "      <td>0</td>\n",
              "      <td>0</td>\n",
              "      <td>12</td>\n",
              "      <td>2008</td>\n",
              "      <td>24.90</td>\n",
              "      <td>57.5</td>\n",
              "      <td>1</td>\n",
              "      <td>0</td>\n",
              "      <td>0</td>\n",
              "      <td>0</td>\n",
              "      <td>0</td>\n",
              "      <td>0</td>\n",
              "      <td>0</td>\n",
              "      <td>0</td>\n",
              "      <td>0</td>\n",
              "      <td>0</td>\n",
              "      <td>0</td>\n",
              "      <td>0</td>\n",
              "      <td>0</td>\n",
              "      <td>0</td>\n",
              "      <td>0</td>\n",
              "      <td>0</td>\n",
              "      <td>0</td>\n",
              "      <td>0</td>\n",
              "      <td>0</td>\n",
              "      <td>0</td>\n",
              "      <td>0</td>\n",
              "      <td>0</td>\n",
              "      <td>0</td>\n",
              "      <td>0</td>\n",
              "      <td>0</td>\n",
              "      <td>0</td>\n",
              "      <td>0</td>\n",
              "      <td>0</td>\n",
              "      <td>0</td>\n",
              "      <td>0</td>\n",
              "      <td>0</td>\n",
              "      <td>0</td>\n",
              "      <td>0</td>\n",
              "      <td>0</td>\n",
              "      <td>0</td>\n",
              "      <td>0</td>\n",
              "      <td>0</td>\n",
              "      <td>0</td>\n",
              "      <td>0</td>\n",
              "      <td>0</td>\n",
              "      <td>0</td>\n",
              "      <td>0</td>\n",
              "      <td>0</td>\n",
              "      <td>0</td>\n",
              "      <td>0</td>\n",
              "      <td>0</td>\n",
              "      <td>0</td>\n",
              "      <td>0</td>\n",
              "      <td>0</td>\n",
              "      <td>0</td>\n",
              "      <td>0</td>\n",
              "      <td>0</td>\n",
              "      <td>0</td>\n",
              "      <td>0</td>\n",
              "      <td>0</td>\n",
              "      <td>0</td>\n",
              "      <td>0</td>\n",
              "      <td>0</td>\n",
              "      <td>1</td>\n",
              "      <td>0</td>\n",
              "      <td>0</td>\n",
              "    </tr>\n",
              "  </tbody>\n",
              "</table>\n",
              "</div>\n",
              "      <button class=\"colab-df-convert\" onclick=\"convertToInteractive('df-fd88e75d-e6df-43f0-9cee-3628287ea27c')\"\n",
              "              title=\"Convert this dataframe to an interactive table.\"\n",
              "              style=\"display:none;\">\n",
              "        \n",
              "  <svg xmlns=\"http://www.w3.org/2000/svg\" height=\"24px\"viewBox=\"0 0 24 24\"\n",
              "       width=\"24px\">\n",
              "    <path d=\"M0 0h24v24H0V0z\" fill=\"none\"/>\n",
              "    <path d=\"M18.56 5.44l.94 2.06.94-2.06 2.06-.94-2.06-.94-.94-2.06-.94 2.06-2.06.94zm-11 1L8.5 8.5l.94-2.06 2.06-.94-2.06-.94L8.5 2.5l-.94 2.06-2.06.94zm10 10l.94 2.06.94-2.06 2.06-.94-2.06-.94-.94-2.06-.94 2.06-2.06.94z\"/><path d=\"M17.41 7.96l-1.37-1.37c-.4-.4-.92-.59-1.43-.59-.52 0-1.04.2-1.43.59L10.3 9.45l-7.72 7.72c-.78.78-.78 2.05 0 2.83L4 21.41c.39.39.9.59 1.41.59.51 0 1.02-.2 1.41-.59l7.78-7.78 2.81-2.81c.8-.78.8-2.07 0-2.86zM5.41 20L4 18.59l7.72-7.72 1.47 1.35L5.41 20z\"/>\n",
              "  </svg>\n",
              "      </button>\n",
              "      \n",
              "  <style>\n",
              "    .colab-df-container {\n",
              "      display:flex;\n",
              "      flex-wrap:wrap;\n",
              "      gap: 12px;\n",
              "    }\n",
              "\n",
              "    .colab-df-convert {\n",
              "      background-color: #E8F0FE;\n",
              "      border: none;\n",
              "      border-radius: 50%;\n",
              "      cursor: pointer;\n",
              "      display: none;\n",
              "      fill: #1967D2;\n",
              "      height: 32px;\n",
              "      padding: 0 0 0 0;\n",
              "      width: 32px;\n",
              "    }\n",
              "\n",
              "    .colab-df-convert:hover {\n",
              "      background-color: #E2EBFA;\n",
              "      box-shadow: 0px 1px 2px rgba(60, 64, 67, 0.3), 0px 1px 3px 1px rgba(60, 64, 67, 0.15);\n",
              "      fill: #174EA6;\n",
              "    }\n",
              "\n",
              "    [theme=dark] .colab-df-convert {\n",
              "      background-color: #3B4455;\n",
              "      fill: #D2E3FC;\n",
              "    }\n",
              "\n",
              "    [theme=dark] .colab-df-convert:hover {\n",
              "      background-color: #434B5C;\n",
              "      box-shadow: 0px 1px 3px 1px rgba(0, 0, 0, 0.15);\n",
              "      filter: drop-shadow(0px 1px 2px rgba(0, 0, 0, 0.3));\n",
              "      fill: #FFFFFF;\n",
              "    }\n",
              "  </style>\n",
              "\n",
              "      <script>\n",
              "        const buttonEl =\n",
              "          document.querySelector('#df-fd88e75d-e6df-43f0-9cee-3628287ea27c button.colab-df-convert');\n",
              "        buttonEl.style.display =\n",
              "          google.colab.kernel.accessAllowed ? 'block' : 'none';\n",
              "\n",
              "        async function convertToInteractive(key) {\n",
              "          const element = document.querySelector('#df-fd88e75d-e6df-43f0-9cee-3628287ea27c');\n",
              "          const dataTable =\n",
              "            await google.colab.kernel.invokeFunction('convertToInteractive',\n",
              "                                                     [key], {});\n",
              "          if (!dataTable) return;\n",
              "\n",
              "          const docLinkHtml = 'Like what you see? Visit the ' +\n",
              "            '<a target=\"_blank\" href=https://colab.research.google.com/notebooks/data_table.ipynb>data table notebook</a>'\n",
              "            + ' to learn more about interactive tables.';\n",
              "          element.innerHTML = '';\n",
              "          dataTable['output_type'] = 'display_data';\n",
              "          await google.colab.output.renderOutput(dataTable, element);\n",
              "          const docLink = document.createElement('div');\n",
              "          docLink.innerHTML = docLinkHtml;\n",
              "          element.appendChild(docLink);\n",
              "        }\n",
              "      </script>\n",
              "    </div>\n",
              "  </div>\n",
              "  "
            ],
            "text/plain": [
              "   Rainfall  WindGustSpeed  RainToday  RainTomorrow  ...  SW  W  WNW  WSW\n",
              "0       0.6           44.0          0             0  ...   0  1    0    0\n",
              "1       0.0           44.0          0             0  ...   0  0    1    0\n",
              "2       0.0           46.0          0             0  ...   0  0    0    1\n",
              "3       0.0           24.0          0             0  ...   0  0    0    0\n",
              "4       1.0           41.0          0             0  ...   0  1    0    0\n",
              "\n",
              "[5 rows x 69 columns]"
            ]
          },
          "execution_count": 44,
          "metadata": {},
          "output_type": "execute_result"
        }
      ],
      "source": [
        "rain_df_lr_model.head()"
      ]
    },
    {
      "cell_type": "code",
      "execution_count": null,
      "metadata": {
        "colab": {
          "base_uri": "https://localhost:8080/"
        },
        "id": "wYGpTwHI-ZSp",
        "outputId": "de60aa77-38af-4a4f-d017-9e46f1a09a30"
      },
      "outputs": [
        {
          "data": {
            "text/plain": [
              "(121004, 69)"
            ]
          },
          "execution_count": 45,
          "metadata": {},
          "output_type": "execute_result"
        }
      ],
      "source": [
        "rain_df_lr_model.shape"
      ]
    },
    {
      "cell_type": "code",
      "execution_count": null,
      "metadata": {
        "id": "sS6RUIsD_BrZ"
      },
      "outputs": [],
      "source": [
        "#convert the features into independdent and dependent features\n",
        "X= rain_df_lr_model.drop(['Rainfall','RainTomorrow'],axis=1)  #as rainfall parameter is the continous parameter of RainToday\n",
        "y= rain_df_lr_model['RainTomorrow']\n"
      ]
    },
    {
      "cell_type": "code",
      "execution_count": null,
      "metadata": {
        "id": "uJDpifvO_X--"
      },
      "outputs": [],
      "source": [
        "from sklearn.model_selection import train_test_split\n",
        "X_train,X_test,y_train,y_test= train_test_split(X,y,test_size=0.3,stratify=y,random_state=1)"
      ]
    },
    {
      "cell_type": "code",
      "execution_count": null,
      "metadata": {
        "id": "dyjCyVJDga4b"
      },
      "outputs": [],
      "source": [
        "train_oversample= RandomOverSampler(sampling_strategy=0.5)\n",
        "X_train,y_train= train_oversample.fit_resample(X_train,y_train)"
      ]
    },
    {
      "cell_type": "code",
      "execution_count": null,
      "metadata": {
        "colab": {
          "base_uri": "https://localhost:8080/"
        },
        "id": "lrnBfPmcAcpt",
        "outputId": "8ce448c8-e389-46d5-cab2-c15a1be979cb"
      },
      "outputs": [
        {
          "data": {
            "text/plain": [
              "0    65934\n",
              "1    32967\n",
              "Name: RainTomorrow, dtype: int64"
            ]
          },
          "execution_count": 49,
          "metadata": {},
          "output_type": "execute_result"
        }
      ],
      "source": [
        "y_train.value_counts()"
      ]
    },
    {
      "cell_type": "code",
      "execution_count": null,
      "metadata": {
        "colab": {
          "base_uri": "https://localhost:8080/"
        },
        "id": "rPPOAXAwAgI7",
        "outputId": "d82a87f5-a1f3-4fe7-fe8b-f7d33fa4e413"
      },
      "outputs": [
        {
          "data": {
            "text/plain": [
              "0    28259\n",
              "1     8043\n",
              "Name: RainTomorrow, dtype: int64"
            ]
          },
          "execution_count": 50,
          "metadata": {},
          "output_type": "execute_result"
        }
      ],
      "source": [
        "y_test.value_counts()"
      ]
    },
    {
      "cell_type": "code",
      "execution_count": null,
      "metadata": {
        "id": "1x67NUFA-VOi"
      },
      "outputs": [],
      "source": [
        "#standerize all the continous features\n",
        "from sklearn.preprocessing import StandardScaler\n",
        "sc_scaler= StandardScaler()\n",
        "X_train[['WindGustSpeed','Average Temp','Average Humidity']]= sc_scaler.fit_transform(X_train[['WindGustSpeed','Average Temp','Average Humidity']])\n",
        "X_test[['WindGustSpeed','Average Temp','Average Humidity']]= sc_scaler.transform(X_test[['WindGustSpeed','Average Temp','Average Humidity']])\n"
      ]
    },
    {
      "cell_type": "code",
      "execution_count": null,
      "metadata": {
        "id": "BdwoLAPO-grq"
      },
      "outputs": [],
      "source": [
        ""
      ]
    },
    {
      "cell_type": "markdown",
      "metadata": {
        "id": "7pKyn3keA3zO"
      },
      "source": [
        "#### Logistic Regression"
      ]
    },
    {
      "cell_type": "code",
      "execution_count": null,
      "metadata": {
        "colab": {
          "base_uri": "https://localhost:8080/"
        },
        "id": "BWzrtgR-A6Xq",
        "outputId": "9cef9fa2-b1b6-482f-d057-602f259cc98e"
      },
      "outputs": [
        {
          "name": "stderr",
          "output_type": "stream",
          "text": [
            "/usr/local/lib/python3.7/dist-packages/sklearn/linear_model/_logistic.py:818: ConvergenceWarning: lbfgs failed to converge (status=1):\n",
            "STOP: TOTAL NO. of ITERATIONS REACHED LIMIT.\n",
            "\n",
            "Increase the number of iterations (max_iter) or scale the data as shown in:\n",
            "    https://scikit-learn.org/stable/modules/preprocessing.html\n",
            "Please also refer to the documentation for alternative solver options:\n",
            "    https://scikit-learn.org/stable/modules/linear_model.html#logistic-regression\n",
            "  extra_warning_msg=_LOGISTIC_SOLVER_CONVERGENCE_MSG,\n"
          ]
        },
        {
          "data": {
            "text/plain": [
              "LogisticRegression()"
            ]
          },
          "execution_count": 52,
          "metadata": {},
          "output_type": "execute_result"
        }
      ],
      "source": [
        "from sklearn.linear_model import LogisticRegression\n",
        "lr_model= LogisticRegression()\n",
        "lr_model.fit(X_train,y_train)"
      ]
    },
    {
      "cell_type": "code",
      "execution_count": null,
      "metadata": {
        "id": "MzCZvsLMBIJX"
      },
      "outputs": [],
      "source": [
        "y_pred= lr_model.predict(X_test)\n",
        "y_prob= lr_model.predict_proba(X_test)"
      ]
    },
    {
      "cell_type": "code",
      "execution_count": null,
      "metadata": {
        "colab": {
          "base_uri": "https://localhost:8080/"
        },
        "id": "uUXUBgVWBTMZ",
        "outputId": "c4a4c737-0747-41cd-d89b-d4d5b799eacc"
      },
      "outputs": [
        {
          "name": "stdout",
          "output_type": "stream",
          "text": [
            "The accuracy of logistic regression test data is 0.8225717591317283\n",
            "The accuracy of logistic regression train data is 0.790709901821013\n"
          ]
        }
      ],
      "source": [
        "from sklearn.metrics import accuracy_score,classification_report,plot_confusion_matrix,roc_auc_score\n",
        "print(f'The accuracy of logistic regression test data is {accuracy_score(y_test,y_pred)}')\n",
        "print(f'The accuracy of logistic regression train data is {accuracy_score(y_train,lr_model.predict(X_train))}')"
      ]
    },
    {
      "cell_type": "code",
      "execution_count": null,
      "metadata": {
        "colab": {
          "base_uri": "https://localhost:8080/",
          "height": 355
        },
        "id": "w06iCcZBB1Gx",
        "outputId": "6c87aa55-4598-4aec-a668-41edaff08a5e"
      },
      "outputs": [
        {
          "name": "stderr",
          "output_type": "stream",
          "text": [
            "/usr/local/lib/python3.7/dist-packages/sklearn/utils/deprecation.py:87: FutureWarning: Function plot_confusion_matrix is deprecated; Function `plot_confusion_matrix` is deprecated in 1.0 and will be removed in 1.2. Use one of the class methods: ConfusionMatrixDisplay.from_predictions or ConfusionMatrixDisplay.from_estimator.\n",
            "  warnings.warn(msg, category=FutureWarning)\n"
          ]
        },
        {
          "data": {
            "text/plain": [
              "<sklearn.metrics._plot.confusion_matrix.ConfusionMatrixDisplay at 0x7fd14db94590>"
            ]
          },
          "execution_count": 55,
          "metadata": {},
          "output_type": "execute_result"
        },
        {
          "data": {
            "image/png": "[encoded data removed]",
            "text/plain": [
              "<Figure size 432x288 with 2 Axes>"
            ]
          },
          "metadata": {},
          "output_type": "display_data"
        }
      ],
      "source": [
        "#plot the confusion matrix\n",
        "plot_confusion_matrix(lr_model,X_test,y_test)"
      ]
    },
    {
      "cell_type": "code",
      "execution_count": null,
      "metadata": {
        "colab": {
          "base_uri": "https://localhost:8080/"
        },
        "id": "gDtJsg5bCGwQ",
        "outputId": "ea22bf9a-c8be-434d-c221-f5867424b5ca"
      },
      "outputs": [
        {
          "name": "stdout",
          "output_type": "stream",
          "text": [
            "              precision    recall  f1-score   support\n",
            "\n",
            "           0       0.89      0.89      0.89     28259\n",
            "           1       0.60      0.60      0.60      8043\n",
            "\n",
            "    accuracy                           0.82     36302\n",
            "   macro avg       0.74      0.74      0.74     36302\n",
            "weighted avg       0.82      0.82      0.82     36302\n",
            "\n"
          ]
        }
      ],
      "source": [
        "print(classification_report(y_test,y_pred))"
      ]
    },
    {
      "cell_type": "code",
      "execution_count": null,
      "metadata": {
        "colab": {
          "base_uri": "https://localhost:8080/"
        },
        "id": "Np1pNDySDLm7",
        "outputId": "4f31be51-e27c-4131-d319-c2d7a7dc5f0b"
      },
      "outputs": [
        {
          "name": "stdout",
          "output_type": "stream",
          "text": [
            "The auc score is 0.8383270189196848\n"
          ]
        }
      ],
      "source": [
        "print(f'The auc score is {roc_auc_score(y_test,y_prob[:,1])}')"
      ]
    },
    {
      "cell_type": "markdown",
      "metadata": {
        "id": "RearbWL2CbLc"
      },
      "source": [
        "#### Since it is nearly a imbalanced dataset, we can utlise the precision, recall parameters as metrics for comparing the models.\n",
        "I just tested it for linear regression from which i could find that precision seems to be good, where recall is 60% for the Yes case\n",
        "\n",
        "Auc area score is 84%"
      ]
    },
    {
      "cell_type": "code",
      "execution_count": null,
      "metadata": {
        "id": "Nbnbbq3FCUQN"
      },
      "outputs": [],
      "source": [
        ""
      ]
    },
    {
      "cell_type": "code",
      "execution_count": null,
      "metadata": {
        "colab": {
          "base_uri": "https://localhost:8080/",
          "height": 478
        },
        "id": "UMa-WX3ZDEkA",
        "outputId": "f13eca4e-5bdf-4603-c1f8-ba6fe3de0903"
      },
      "outputs": [
        {
          "name": "stderr",
          "output_type": "stream",
          "text": [
            "/usr/local/lib/python3.7/dist-packages/statsmodels/tools/_testing.py:19: FutureWarning: pandas.util.testing is deprecated. Use the functions in the public API at pandas.testing instead.\n",
            "  import pandas.util.testing as tm\n"
          ]
        },
        {
          "data": {
            "text/html": [
              "\n",
              "  <div id=\"df-5e546a5a-59c3-47e0-9dcd-b71df46dd5b2\">\n",
              "    <div class=\"colab-df-container\">\n",
              "      <div>\n",
              "<style scoped>\n",
              "    .dataframe tbody tr th:only-of-type {\n",
              "        vertical-align: middle;\n",
              "    }\n",
              "\n",
              "    .dataframe tbody tr th {\n",
              "        vertical-align: top;\n",
              "    }\n",
              "\n",
              "    .dataframe thead th {\n",
              "        text-align: right;\n",
              "    }\n",
              "</style>\n",
              "<table border=\"1\" class=\"dataframe\">\n",
              "  <thead>\n",
              "    <tr style=\"text-align: right;\">\n",
              "      <th></th>\n",
              "      <th>Feature</th>\n",
              "      <th>VIF</th>\n",
              "    </tr>\n",
              "  </thead>\n",
              "  <tbody>\n",
              "    <tr>\n",
              "      <th>0</th>\n",
              "      <td>WindGustSpeed</td>\n",
              "      <td>1.280173</td>\n",
              "    </tr>\n",
              "    <tr>\n",
              "      <th>1</th>\n",
              "      <td>RainToday</td>\n",
              "      <td>1.847837</td>\n",
              "    </tr>\n",
              "    <tr>\n",
              "      <th>2</th>\n",
              "      <td>Month</td>\n",
              "      <td>4.971144</td>\n",
              "    </tr>\n",
              "    <tr>\n",
              "      <th>3</th>\n",
              "      <td>Year</td>\n",
              "      <td>66.053984</td>\n",
              "    </tr>\n",
              "    <tr>\n",
              "      <th>4</th>\n",
              "      <td>Average Temp</td>\n",
              "      <td>2.042825</td>\n",
              "    </tr>\n",
              "    <tr>\n",
              "      <th>...</th>\n",
              "      <td>...</td>\n",
              "      <td>...</td>\n",
              "    </tr>\n",
              "    <tr>\n",
              "      <th>62</th>\n",
              "      <td>SSW</td>\n",
              "      <td>2.144544</td>\n",
              "    </tr>\n",
              "    <tr>\n",
              "      <th>63</th>\n",
              "      <td>SW</td>\n",
              "      <td>2.139593</td>\n",
              "    </tr>\n",
              "    <tr>\n",
              "      <th>64</th>\n",
              "      <td>W</td>\n",
              "      <td>2.340915</td>\n",
              "    </tr>\n",
              "    <tr>\n",
              "      <th>65</th>\n",
              "      <td>WNW</td>\n",
              "      <td>2.095823</td>\n",
              "    </tr>\n",
              "    <tr>\n",
              "      <th>66</th>\n",
              "      <td>WSW</td>\n",
              "      <td>2.161906</td>\n",
              "    </tr>\n",
              "  </tbody>\n",
              "</table>\n",
              "<p>67 rows × 2 columns</p>\n",
              "</div>\n",
              "      <button class=\"colab-df-convert\" onclick=\"convertToInteractive('df-5e546a5a-59c3-47e0-9dcd-b71df46dd5b2')\"\n",
              "              title=\"Convert this dataframe to an interactive table.\"\n",
              "              style=\"display:none;\">\n",
              "        \n",
              "  <svg xmlns=\"http://www.w3.org/2000/svg\" height=\"24px\"viewBox=\"0 0 24 24\"\n",
              "       width=\"24px\">\n",
              "    <path d=\"M0 0h24v24H0V0z\" fill=\"none\"/>\n",
              "    <path d=\"M18.56 5.44l.94 2.06.94-2.06 2.06-.94-2.06-.94-.94-2.06-.94 2.06-2.06.94zm-11 1L8.5 8.5l.94-2.06 2.06-.94-2.06-.94L8.5 2.5l-.94 2.06-2.06.94zm10 10l.94 2.06.94-2.06 2.06-.94-2.06-.94-.94-2.06-.94 2.06-2.06.94z\"/><path d=\"M17.41 7.96l-1.37-1.37c-.4-.4-.92-.59-1.43-.59-.52 0-1.04.2-1.43.59L10.3 9.45l-7.72 7.72c-.78.78-.78 2.05 0 2.83L4 21.41c.39.39.9.59 1.41.59.51 0 1.02-.2 1.41-.59l7.78-7.78 2.81-2.81c.8-.78.8-2.07 0-2.86zM5.41 20L4 18.59l7.72-7.72 1.47 1.35L5.41 20z\"/>\n",
              "  </svg>\n",
              "      </button>\n",
              "      \n",
              "  <style>\n",
              "    .colab-df-container {\n",
              "      display:flex;\n",
              "      flex-wrap:wrap;\n",
              "      gap: 12px;\n",
              "    }\n",
              "\n",
              "    .colab-df-convert {\n",
              "      background-color: #E8F0FE;\n",
              "      border: none;\n",
              "      border-radius: 50%;\n",
              "      cursor: pointer;\n",
              "      display: none;\n",
              "      fill: #1967D2;\n",
              "      height: 32px;\n",
              "      padding: 0 0 0 0;\n",
              "      width: 32px;\n",
              "    }\n",
              "\n",
              "    .colab-df-convert:hover {\n",
              "      background-color: #E2EBFA;\n",
              "      box-shadow: 0px 1px 2px rgba(60, 64, 67, 0.3), 0px 1px 3px 1px rgba(60, 64, 67, 0.15);\n",
              "      fill: #174EA6;\n",
              "    }\n",
              "\n",
              "    [theme=dark] .colab-df-convert {\n",
              "      background-color: #3B4455;\n",
              "      fill: #D2E3FC;\n",
              "    }\n",
              "\n",
              "    [theme=dark] .colab-df-convert:hover {\n",
              "      background-color: #434B5C;\n",
              "      box-shadow: 0px 1px 3px 1px rgba(0, 0, 0, 0.15);\n",
              "      filter: drop-shadow(0px 1px 2px rgba(0, 0, 0, 0.3));\n",
              "      fill: #FFFFFF;\n",
              "    }\n",
              "  </style>\n",
              "\n",
              "      <script>\n",
              "        const buttonEl =\n",
              "          document.querySelector('#df-5e546a5a-59c3-47e0-9dcd-b71df46dd5b2 button.colab-df-convert');\n",
              "        buttonEl.style.display =\n",
              "          google.colab.kernel.accessAllowed ? 'block' : 'none';\n",
              "\n",
              "        async function convertToInteractive(key) {\n",
              "          const element = document.querySelector('#df-5e546a5a-59c3-47e0-9dcd-b71df46dd5b2');\n",
              "          const dataTable =\n",
              "            await google.colab.kernel.invokeFunction('convertToInteractive',\n",
              "                                                     [key], {});\n",
              "          if (!dataTable) return;\n",
              "\n",
              "          const docLinkHtml = 'Like what you see? Visit the ' +\n",
              "            '<a target=\"_blank\" href=https://colab.research.google.com/notebooks/data_table.ipynb>data table notebook</a>'\n",
              "            + ' to learn more about interactive tables.';\n",
              "          element.innerHTML = '';\n",
              "          dataTable['output_type'] = 'display_data';\n",
              "          await google.colab.output.renderOutput(dataTable, element);\n",
              "          const docLink = document.createElement('div');\n",
              "          docLink.innerHTML = docLinkHtml;\n",
              "          element.appendChild(docLink);\n",
              "        }\n",
              "      </script>\n",
              "    </div>\n",
              "  </div>\n",
              "  "
            ],
            "text/plain": [
              "          Feature        VIF\n",
              "0   WindGustSpeed   1.280173\n",
              "1       RainToday   1.847837\n",
              "2           Month   4.971144\n",
              "3            Year  66.053984\n",
              "4    Average Temp   2.042825\n",
              "..            ...        ...\n",
              "62            SSW   2.144544\n",
              "63             SW   2.139593\n",
              "64              W   2.340915\n",
              "65            WNW   2.095823\n",
              "66            WSW   2.161906\n",
              "\n",
              "[67 rows x 2 columns]"
            ]
          },
          "execution_count": 58,
          "metadata": {},
          "output_type": "execute_result"
        }
      ],
      "source": [
        "#### testing the logistic algorithm again......\n",
        "# check for multicolinearity\n",
        "from statsmodels.stats.outliers_influence import variance_inflation_factor\n",
        "def vif_detector(X):\n",
        "  vif_df= pd.DataFrame()\n",
        "  vif_df['Feature']= X.columns\n",
        "  vif_df['VIF']= [variance_inflation_factor(X.values,i) for i in range(len(X.columns))]\n",
        "  return vif_df\n",
        "\n",
        "vif_df= vif_detector(X_train)\n",
        "vif_df"
      ]
    },
    {
      "cell_type": "code",
      "execution_count": null,
      "metadata": {
        "colab": {
          "base_uri": "https://localhost:8080/",
          "height": 423
        },
        "id": "wtO-_WgXb7qh",
        "outputId": "f3d4679f-7bfd-4791-fef1-2686b83f97bb"
      },
      "outputs": [
        {
          "data": {
            "text/html": [
              "\n",
              "  <div id=\"df-4d271dfb-f015-467a-89ec-92b91b3f7d2c\">\n",
              "    <div class=\"colab-df-container\">\n",
              "      <div>\n",
              "<style scoped>\n",
              "    .dataframe tbody tr th:only-of-type {\n",
              "        vertical-align: middle;\n",
              "    }\n",
              "\n",
              "    .dataframe tbody tr th {\n",
              "        vertical-align: top;\n",
              "    }\n",
              "\n",
              "    .dataframe thead th {\n",
              "        text-align: right;\n",
              "    }\n",
              "</style>\n",
              "<table border=\"1\" class=\"dataframe\">\n",
              "  <thead>\n",
              "    <tr style=\"text-align: right;\">\n",
              "      <th></th>\n",
              "      <th>Feature</th>\n",
              "      <th>VIF</th>\n",
              "    </tr>\n",
              "  </thead>\n",
              "  <tbody>\n",
              "    <tr>\n",
              "      <th>0</th>\n",
              "      <td>WindGustSpeed</td>\n",
              "      <td>1.264767</td>\n",
              "    </tr>\n",
              "    <tr>\n",
              "      <th>1</th>\n",
              "      <td>RainToday</td>\n",
              "      <td>1.827395</td>\n",
              "    </tr>\n",
              "    <tr>\n",
              "      <th>2</th>\n",
              "      <td>Month</td>\n",
              "      <td>4.730440</td>\n",
              "    </tr>\n",
              "    <tr>\n",
              "      <th>3</th>\n",
              "      <td>Average Temp</td>\n",
              "      <td>2.031214</td>\n",
              "    </tr>\n",
              "    <tr>\n",
              "      <th>4</th>\n",
              "      <td>Average Humidity</td>\n",
              "      <td>1.888385</td>\n",
              "    </tr>\n",
              "    <tr>\n",
              "      <th>...</th>\n",
              "      <td>...</td>\n",
              "      <td>...</td>\n",
              "    </tr>\n",
              "    <tr>\n",
              "      <th>61</th>\n",
              "      <td>SSW</td>\n",
              "      <td>1.865114</td>\n",
              "    </tr>\n",
              "    <tr>\n",
              "      <th>62</th>\n",
              "      <td>SW</td>\n",
              "      <td>1.816788</td>\n",
              "    </tr>\n",
              "    <tr>\n",
              "      <th>63</th>\n",
              "      <td>W</td>\n",
              "      <td>1.985049</td>\n",
              "    </tr>\n",
              "    <tr>\n",
              "      <th>64</th>\n",
              "      <td>WNW</td>\n",
              "      <td>1.806467</td>\n",
              "    </tr>\n",
              "    <tr>\n",
              "      <th>65</th>\n",
              "      <td>WSW</td>\n",
              "      <td>1.815047</td>\n",
              "    </tr>\n",
              "  </tbody>\n",
              "</table>\n",
              "<p>66 rows × 2 columns</p>\n",
              "</div>\n",
              "      <button class=\"colab-df-convert\" onclick=\"convertToInteractive('df-4d271dfb-f015-467a-89ec-92b91b3f7d2c')\"\n",
              "              title=\"Convert this dataframe to an interactive table.\"\n",
              "              style=\"display:none;\">\n",
              "        \n",
              "  <svg xmlns=\"http://www.w3.org/2000/svg\" height=\"24px\"viewBox=\"0 0 24 24\"\n",
              "       width=\"24px\">\n",
              "    <path d=\"M0 0h24v24H0V0z\" fill=\"none\"/>\n",
              "    <path d=\"M18.56 5.44l.94 2.06.94-2.06 2.06-.94-2.06-.94-.94-2.06-.94 2.06-2.06.94zm-11 1L8.5 8.5l.94-2.06 2.06-.94-2.06-.94L8.5 2.5l-.94 2.06-2.06.94zm10 10l.94 2.06.94-2.06 2.06-.94-2.06-.94-.94-2.06-.94 2.06-2.06.94z\"/><path d=\"M17.41 7.96l-1.37-1.37c-.4-.4-.92-.59-1.43-.59-.52 0-1.04.2-1.43.59L10.3 9.45l-7.72 7.72c-.78.78-.78 2.05 0 2.83L4 21.41c.39.39.9.59 1.41.59.51 0 1.02-.2 1.41-.59l7.78-7.78 2.81-2.81c.8-.78.8-2.07 0-2.86zM5.41 20L4 18.59l7.72-7.72 1.47 1.35L5.41 20z\"/>\n",
              "  </svg>\n",
              "      </button>\n",
              "      \n",
              "  <style>\n",
              "    .colab-df-container {\n",
              "      display:flex;\n",
              "      flex-wrap:wrap;\n",
              "      gap: 12px;\n",
              "    }\n",
              "\n",
              "    .colab-df-convert {\n",
              "      background-color: #E8F0FE;\n",
              "      border: none;\n",
              "      border-radius: 50%;\n",
              "      cursor: pointer;\n",
              "      display: none;\n",
              "      fill: #1967D2;\n",
              "      height: 32px;\n",
              "      padding: 0 0 0 0;\n",
              "      width: 32px;\n",
              "    }\n",
              "\n",
              "    .colab-df-convert:hover {\n",
              "      background-color: #E2EBFA;\n",
              "      box-shadow: 0px 1px 2px rgba(60, 64, 67, 0.3), 0px 1px 3px 1px rgba(60, 64, 67, 0.15);\n",
              "      fill: #174EA6;\n",
              "    }\n",
              "\n",
              "    [theme=dark] .colab-df-convert {\n",
              "      background-color: #3B4455;\n",
              "      fill: #D2E3FC;\n",
              "    }\n",
              "\n",
              "    [theme=dark] .colab-df-convert:hover {\n",
              "      background-color: #434B5C;\n",
              "      box-shadow: 0px 1px 3px 1px rgba(0, 0, 0, 0.15);\n",
              "      filter: drop-shadow(0px 1px 2px rgba(0, 0, 0, 0.3));\n",
              "      fill: #FFFFFF;\n",
              "    }\n",
              "  </style>\n",
              "\n",
              "      <script>\n",
              "        const buttonEl =\n",
              "          document.querySelector('#df-4d271dfb-f015-467a-89ec-92b91b3f7d2c button.colab-df-convert');\n",
              "        buttonEl.style.display =\n",
              "          google.colab.kernel.accessAllowed ? 'block' : 'none';\n",
              "\n",
              "        async function convertToInteractive(key) {\n",
              "          const element = document.querySelector('#df-4d271dfb-f015-467a-89ec-92b91b3f7d2c');\n",
              "          const dataTable =\n",
              "            await google.colab.kernel.invokeFunction('convertToInteractive',\n",
              "                                                     [key], {});\n",
              "          if (!dataTable) return;\n",
              "\n",
              "          const docLinkHtml = 'Like what you see? Visit the ' +\n",
              "            '<a target=\"_blank\" href=https://colab.research.google.com/notebooks/data_table.ipynb>data table notebook</a>'\n",
              "            + ' to learn more about interactive tables.';\n",
              "          element.innerHTML = '';\n",
              "          dataTable['output_type'] = 'display_data';\n",
              "          await google.colab.output.renderOutput(dataTable, element);\n",
              "          const docLink = document.createElement('div');\n",
              "          docLink.innerHTML = docLinkHtml;\n",
              "          element.appendChild(docLink);\n",
              "        }\n",
              "      </script>\n",
              "    </div>\n",
              "  </div>\n",
              "  "
            ],
            "text/plain": [
              "             Feature       VIF\n",
              "0      WindGustSpeed  1.264767\n",
              "1          RainToday  1.827395\n",
              "2              Month  4.730440\n",
              "3       Average Temp  2.031214\n",
              "4   Average Humidity  1.888385\n",
              "..               ...       ...\n",
              "61               SSW  1.865114\n",
              "62                SW  1.816788\n",
              "63                 W  1.985049\n",
              "64               WNW  1.806467\n",
              "65               WSW  1.815047\n",
              "\n",
              "[66 rows x 2 columns]"
            ]
          },
          "execution_count": 59,
          "metadata": {},
          "output_type": "execute_result"
        }
      ],
      "source": [
        "X_train.drop(['Year'],axis=1,inplace=True)\n",
        "X_test.drop(['Year'],axis=1,inplace=True)\n",
        "vif_df= vif_detector(X_train)\n",
        "vif_df"
      ]
    },
    {
      "cell_type": "code",
      "execution_count": null,
      "metadata": {
        "colab": {
          "base_uri": "https://localhost:8080/",
          "height": 352
        },
        "id": "nI3I5UjNfLP-",
        "outputId": "d23ded8e-89f8-4934-f4cd-3d6aa58aac63"
      },
      "outputs": [
        {
          "data": {
            "text/plain": [
              "(array([  462.,  1976., 11520., 22459., 25371., 23506., 18887., 12211.,\n",
              "         4076.,   536.]),\n",
              " array([-0.8 ,  2.92,  6.64, 10.36, 14.08, 17.8 , 21.52, 25.24, 28.96,\n",
              "        32.68, 36.4 ]),\n",
              " <a list of 10 Patch objects>)"
            ]
          },
          "execution_count": 60,
          "metadata": {},
          "output_type": "execute_result"
        },
        {
          "data": {
            "image/png": "[encoded data removed]",
            "text/plain": [
              "<Figure size 432x288 with 1 Axes>"
            ]
          },
          "metadata": {},
          "output_type": "display_data"
        }
      ],
      "source": [
        "plt.hist(X['Average Temp'])"
      ]
    },
    {
      "cell_type": "code",
      "execution_count": null,
      "metadata": {
        "colab": {
          "base_uri": "https://localhost:8080/",
          "height": 352
        },
        "id": "2m9hUO-CfV9N",
        "outputId": "67186b1e-e8a3-4e38-e20b-ce9fc85dab9f"
      },
      "outputs": [
        {
          "data": {
            "text/plain": [
              "(array([ 2428.,  4541.,  8119., 13416., 18302., 24394., 21712., 15695.,\n",
              "         8714.,  3683.]),\n",
              " array([ 11. ,  19.9,  28.8,  37.7,  46.6,  55.5,  64.4,  73.3,  82.2,\n",
              "         91.1, 100. ]),\n",
              " <a list of 10 Patch objects>)"
            ]
          },
          "execution_count": 61,
          "metadata": {},
          "output_type": "execute_result"
        },
        {
          "data": {
            "image/png": "[encoded data removed]",
            "text/plain": [
              "<Figure size 432x288 with 1 Axes>"
            ]
          },
          "metadata": {},
          "output_type": "display_data"
        }
      ],
      "source": [
        "plt.hist(X['Average Humidity'])"
      ]
    },
    {
      "cell_type": "code",
      "execution_count": null,
      "metadata": {
        "colab": {
          "base_uri": "https://localhost:8080/",
          "height": 352
        },
        "id": "cpzqu_awfduv",
        "outputId": "e4bda6dd-c85a-456b-9c6d-6d26cf4c0d07"
      },
      "outputs": [
        {
          "data": {
            "text/plain": [
              "(array([3.0630e+03, 3.1179e+04, 4.9101e+04, 2.5902e+04, 8.2130e+03,\n",
              "        2.7330e+03, 6.2300e+02, 1.5900e+02, 2.5000e+01, 6.0000e+00]),\n",
              " array([  7. ,  19.8,  32.6,  45.4,  58.2,  71. ,  83.8,  96.6, 109.4,\n",
              "        122.2, 135. ]),\n",
              " <a list of 10 Patch objects>)"
            ]
          },
          "execution_count": 62,
          "metadata": {},
          "output_type": "execute_result"
        },
        {
          "data": {
            "image/png": "[encoded data removed]",
            "text/plain": [
              "<Figure size 432x288 with 1 Axes>"
            ]
          },
          "metadata": {},
          "output_type": "display_data"
        }
      ],
      "source": [
        "plt.hist(X['WindGustSpeed'])"
      ]
    },
    {
      "cell_type": "code",
      "execution_count": null,
      "metadata": {
        "colab": {
          "base_uri": "https://localhost:8080/",
          "height": 369
        },
        "id": "sK4qYP8Zp_0k",
        "outputId": "21b9af64-491a-48a0-d9cc-e89064c41bbe"
      },
      "outputs": [
        {
          "data": {
            "text/plain": [
              "(array([   38.,   357.,  1420.,  5495., 26932., 37966., 37037.,  9871.,\n",
              "         1775.,   113.]),\n",
              " array([2.07944154, 2.36276288, 2.64608421, 2.92940554, 3.21272688,\n",
              "        3.49604821, 3.77936955, 4.06269088, 4.34601222, 4.62933355,\n",
              "        4.91265489]),\n",
              " <a list of 10 Patch objects>)"
            ]
          },
          "execution_count": 63,
          "metadata": {},
          "output_type": "execute_result"
        },
        {
          "data": {
            "image/png": "[encoded data removed]",
            "text/plain": [
              "<Figure size 432x288 with 1 Axes>"
            ]
          },
          "metadata": {},
          "output_type": "display_data"
        }
      ],
      "source": [
        "X['log_WindGustSpeed']= np.log(X['WindGustSpeed']+1)\n",
        "plt.hist(X['log_WindGustSpeed'])"
      ]
    },
    {
      "cell_type": "code",
      "execution_count": null,
      "metadata": {
        "id": "d1rFGxkshxSP"
      },
      "outputs": [],
      "source": [
        "X.drop(['WindGustSpeed','Year'],axis=1,inplace=True)"
      ]
    },
    {
      "cell_type": "code",
      "execution_count": null,
      "metadata": {
        "id": "kTRVNFupjktl"
      },
      "outputs": [],
      "source": [
        "X.drop('Month',axis=1,inplace=True)"
      ]
    },
    {
      "cell_type": "code",
      "execution_count": null,
      "metadata": {
        "colab": {
          "base_uri": "https://localhost:8080/",
          "height": 505
        },
        "id": "CG3NkmVxiY8-",
        "outputId": "ed822452-cb66-46aa-ba22-884a4cc91705"
      },
      "outputs": [
        {
          "data": {
            "text/html": [
              "\n",
              "  <div id=\"df-cccf567a-3874-4ffe-9bce-603ebf55e0e8\">\n",
              "    <div class=\"colab-df-container\">\n",
              "      <div>\n",
              "<style scoped>\n",
              "    .dataframe tbody tr th:only-of-type {\n",
              "        vertical-align: middle;\n",
              "    }\n",
              "\n",
              "    .dataframe tbody tr th {\n",
              "        vertical-align: top;\n",
              "    }\n",
              "\n",
              "    .dataframe thead th {\n",
              "        text-align: right;\n",
              "    }\n",
              "</style>\n",
              "<table border=\"1\" class=\"dataframe\">\n",
              "  <thead>\n",
              "    <tr style=\"text-align: right;\">\n",
              "      <th></th>\n",
              "      <th>RainToday</th>\n",
              "      <th>Average Temp</th>\n",
              "      <th>Average Humidity</th>\n",
              "      <th>Albury</th>\n",
              "      <th>AliceSprings</th>\n",
              "      <th>BadgerysCreek</th>\n",
              "      <th>Ballarat</th>\n",
              "      <th>Bendigo</th>\n",
              "      <th>Brisbane</th>\n",
              "      <th>Cairns</th>\n",
              "      <th>Canberra</th>\n",
              "      <th>Cobar</th>\n",
              "      <th>CoffsHarbour</th>\n",
              "      <th>Dartmoor</th>\n",
              "      <th>Darwin</th>\n",
              "      <th>GoldCoast</th>\n",
              "      <th>Hobart</th>\n",
              "      <th>Katherine</th>\n",
              "      <th>Launceston</th>\n",
              "      <th>Melbourne</th>\n",
              "      <th>MelbourneAirport</th>\n",
              "      <th>Mildura</th>\n",
              "      <th>Moree</th>\n",
              "      <th>MountGambier</th>\n",
              "      <th>MountGinini</th>\n",
              "      <th>Nhil</th>\n",
              "      <th>NorahHead</th>\n",
              "      <th>NorfolkIsland</th>\n",
              "      <th>Nuriootpa</th>\n",
              "      <th>PearceRAAF</th>\n",
              "      <th>Penrith</th>\n",
              "      <th>Perth</th>\n",
              "      <th>PerthAirport</th>\n",
              "      <th>Portland</th>\n",
              "      <th>Richmond</th>\n",
              "      <th>Sale</th>\n",
              "      <th>SalmonGums</th>\n",
              "      <th>Sydney</th>\n",
              "      <th>SydneyAirport</th>\n",
              "      <th>Townsville</th>\n",
              "      <th>Tuggeranong</th>\n",
              "      <th>Uluru</th>\n",
              "      <th>WaggaWagga</th>\n",
              "      <th>Walpole</th>\n",
              "      <th>Watsonia</th>\n",
              "      <th>Williamtown</th>\n",
              "      <th>Witchcliffe</th>\n",
              "      <th>Wollongong</th>\n",
              "      <th>Woomera</th>\n",
              "      <th>ENE</th>\n",
              "      <th>ESE</th>\n",
              "      <th>N</th>\n",
              "      <th>NE</th>\n",
              "      <th>NNE</th>\n",
              "      <th>NNW</th>\n",
              "      <th>NW</th>\n",
              "      <th>S</th>\n",
              "      <th>SE</th>\n",
              "      <th>SSE</th>\n",
              "      <th>SSW</th>\n",
              "      <th>SW</th>\n",
              "      <th>W</th>\n",
              "      <th>WNW</th>\n",
              "      <th>WSW</th>\n",
              "      <th>log_WindGustSpeed</th>\n",
              "    </tr>\n",
              "  </thead>\n",
              "  <tbody>\n",
              "    <tr>\n",
              "      <th>0</th>\n",
              "      <td>0</td>\n",
              "      <td>18.15</td>\n",
              "      <td>46.5</td>\n",
              "      <td>1</td>\n",
              "      <td>0</td>\n",
              "      <td>0</td>\n",
              "      <td>0</td>\n",
              "      <td>0</td>\n",
              "      <td>0</td>\n",
              "      <td>0</td>\n",
              "      <td>0</td>\n",
              "      <td>0</td>\n",
              "      <td>0</td>\n",
              "      <td>0</td>\n",
              "      <td>0</td>\n",
              "      <td>0</td>\n",
              "      <td>0</td>\n",
              "      <td>0</td>\n",
              "      <td>0</td>\n",
              "      <td>0</td>\n",
              "      <td>0</td>\n",
              "      <td>0</td>\n",
              "      <td>0</td>\n",
              "      <td>0</td>\n",
              "      <td>0</td>\n",
              "      <td>0</td>\n",
              "      <td>0</td>\n",
              "      <td>0</td>\n",
              "      <td>0</td>\n",
              "      <td>0</td>\n",
              "      <td>0</td>\n",
              "      <td>0</td>\n",
              "      <td>0</td>\n",
              "      <td>0</td>\n",
              "      <td>0</td>\n",
              "      <td>0</td>\n",
              "      <td>0</td>\n",
              "      <td>0</td>\n",
              "      <td>0</td>\n",
              "      <td>0</td>\n",
              "      <td>0</td>\n",
              "      <td>0</td>\n",
              "      <td>0</td>\n",
              "      <td>0</td>\n",
              "      <td>0</td>\n",
              "      <td>0</td>\n",
              "      <td>0</td>\n",
              "      <td>0</td>\n",
              "      <td>0</td>\n",
              "      <td>0</td>\n",
              "      <td>0</td>\n",
              "      <td>0</td>\n",
              "      <td>0</td>\n",
              "      <td>0</td>\n",
              "      <td>0</td>\n",
              "      <td>0</td>\n",
              "      <td>0</td>\n",
              "      <td>0</td>\n",
              "      <td>0</td>\n",
              "      <td>0</td>\n",
              "      <td>0</td>\n",
              "      <td>1</td>\n",
              "      <td>0</td>\n",
              "      <td>0</td>\n",
              "      <td>3.806662</td>\n",
              "    </tr>\n",
              "    <tr>\n",
              "      <th>1</th>\n",
              "      <td>0</td>\n",
              "      <td>16.25</td>\n",
              "      <td>34.5</td>\n",
              "      <td>1</td>\n",
              "      <td>0</td>\n",
              "      <td>0</td>\n",
              "      <td>0</td>\n",
              "      <td>0</td>\n",
              "      <td>0</td>\n",
              "      <td>0</td>\n",
              "      <td>0</td>\n",
              "      <td>0</td>\n",
              "      <td>0</td>\n",
              "      <td>0</td>\n",
              "      <td>0</td>\n",
              "      <td>0</td>\n",
              "      <td>0</td>\n",
              "      <td>0</td>\n",
              "      <td>0</td>\n",
              "      <td>0</td>\n",
              "      <td>0</td>\n",
              "      <td>0</td>\n",
              "      <td>0</td>\n",
              "      <td>0</td>\n",
              "      <td>0</td>\n",
              "      <td>0</td>\n",
              "      <td>0</td>\n",
              "      <td>0</td>\n",
              "      <td>0</td>\n",
              "      <td>0</td>\n",
              "      <td>0</td>\n",
              "      <td>0</td>\n",
              "      <td>0</td>\n",
              "      <td>0</td>\n",
              "      <td>0</td>\n",
              "      <td>0</td>\n",
              "      <td>0</td>\n",
              "      <td>0</td>\n",
              "      <td>0</td>\n",
              "      <td>0</td>\n",
              "      <td>0</td>\n",
              "      <td>0</td>\n",
              "      <td>0</td>\n",
              "      <td>0</td>\n",
              "      <td>0</td>\n",
              "      <td>0</td>\n",
              "      <td>0</td>\n",
              "      <td>0</td>\n",
              "      <td>0</td>\n",
              "      <td>0</td>\n",
              "      <td>0</td>\n",
              "      <td>0</td>\n",
              "      <td>0</td>\n",
              "      <td>0</td>\n",
              "      <td>0</td>\n",
              "      <td>0</td>\n",
              "      <td>0</td>\n",
              "      <td>0</td>\n",
              "      <td>0</td>\n",
              "      <td>0</td>\n",
              "      <td>0</td>\n",
              "      <td>0</td>\n",
              "      <td>1</td>\n",
              "      <td>0</td>\n",
              "      <td>3.806662</td>\n",
              "    </tr>\n",
              "    <tr>\n",
              "      <th>2</th>\n",
              "      <td>0</td>\n",
              "      <td>19.30</td>\n",
              "      <td>34.0</td>\n",
              "      <td>1</td>\n",
              "      <td>0</td>\n",
              "      <td>0</td>\n",
              "      <td>0</td>\n",
              "      <td>0</td>\n",
              "      <td>0</td>\n",
              "      <td>0</td>\n",
              "      <td>0</td>\n",
              "      <td>0</td>\n",
              "      <td>0</td>\n",
              "      <td>0</td>\n",
              "      <td>0</td>\n",
              "      <td>0</td>\n",
              "      <td>0</td>\n",
              "      <td>0</td>\n",
              "      <td>0</td>\n",
              "      <td>0</td>\n",
              "      <td>0</td>\n",
              "      <td>0</td>\n",
              "      <td>0</td>\n",
              "      <td>0</td>\n",
              "      <td>0</td>\n",
              "      <td>0</td>\n",
              "      <td>0</td>\n",
              "      <td>0</td>\n",
              "      <td>0</td>\n",
              "      <td>0</td>\n",
              "      <td>0</td>\n",
              "      <td>0</td>\n",
              "      <td>0</td>\n",
              "      <td>0</td>\n",
              "      <td>0</td>\n",
              "      <td>0</td>\n",
              "      <td>0</td>\n",
              "      <td>0</td>\n",
              "      <td>0</td>\n",
              "      <td>0</td>\n",
              "      <td>0</td>\n",
              "      <td>0</td>\n",
              "      <td>0</td>\n",
              "      <td>0</td>\n",
              "      <td>0</td>\n",
              "      <td>0</td>\n",
              "      <td>0</td>\n",
              "      <td>0</td>\n",
              "      <td>0</td>\n",
              "      <td>0</td>\n",
              "      <td>0</td>\n",
              "      <td>0</td>\n",
              "      <td>0</td>\n",
              "      <td>0</td>\n",
              "      <td>0</td>\n",
              "      <td>0</td>\n",
              "      <td>0</td>\n",
              "      <td>0</td>\n",
              "      <td>0</td>\n",
              "      <td>0</td>\n",
              "      <td>0</td>\n",
              "      <td>0</td>\n",
              "      <td>0</td>\n",
              "      <td>1</td>\n",
              "      <td>3.850148</td>\n",
              "    </tr>\n",
              "    <tr>\n",
              "      <th>3</th>\n",
              "      <td>0</td>\n",
              "      <td>18.60</td>\n",
              "      <td>30.5</td>\n",
              "      <td>1</td>\n",
              "      <td>0</td>\n",
              "      <td>0</td>\n",
              "      <td>0</td>\n",
              "      <td>0</td>\n",
              "      <td>0</td>\n",
              "      <td>0</td>\n",
              "      <td>0</td>\n",
              "      <td>0</td>\n",
              "      <td>0</td>\n",
              "      <td>0</td>\n",
              "      <td>0</td>\n",
              "      <td>0</td>\n",
              "      <td>0</td>\n",
              "      <td>0</td>\n",
              "      <td>0</td>\n",
              "      <td>0</td>\n",
              "      <td>0</td>\n",
              "      <td>0</td>\n",
              "      <td>0</td>\n",
              "      <td>0</td>\n",
              "      <td>0</td>\n",
              "      <td>0</td>\n",
              "      <td>0</td>\n",
              "      <td>0</td>\n",
              "      <td>0</td>\n",
              "      <td>0</td>\n",
              "      <td>0</td>\n",
              "      <td>0</td>\n",
              "      <td>0</td>\n",
              "      <td>0</td>\n",
              "      <td>0</td>\n",
              "      <td>0</td>\n",
              "      <td>0</td>\n",
              "      <td>0</td>\n",
              "      <td>0</td>\n",
              "      <td>0</td>\n",
              "      <td>0</td>\n",
              "      <td>0</td>\n",
              "      <td>0</td>\n",
              "      <td>0</td>\n",
              "      <td>0</td>\n",
              "      <td>0</td>\n",
              "      <td>0</td>\n",
              "      <td>0</td>\n",
              "      <td>0</td>\n",
              "      <td>0</td>\n",
              "      <td>0</td>\n",
              "      <td>0</td>\n",
              "      <td>1</td>\n",
              "      <td>0</td>\n",
              "      <td>0</td>\n",
              "      <td>0</td>\n",
              "      <td>0</td>\n",
              "      <td>0</td>\n",
              "      <td>0</td>\n",
              "      <td>0</td>\n",
              "      <td>0</td>\n",
              "      <td>0</td>\n",
              "      <td>0</td>\n",
              "      <td>0</td>\n",
              "      <td>3.218876</td>\n",
              "    </tr>\n",
              "    <tr>\n",
              "      <th>4</th>\n",
              "      <td>0</td>\n",
              "      <td>24.90</td>\n",
              "      <td>57.5</td>\n",
              "      <td>1</td>\n",
              "      <td>0</td>\n",
              "      <td>0</td>\n",
              "      <td>0</td>\n",
              "      <td>0</td>\n",
              "      <td>0</td>\n",
              "      <td>0</td>\n",
              "      <td>0</td>\n",
              "      <td>0</td>\n",
              "      <td>0</td>\n",
              "      <td>0</td>\n",
              "      <td>0</td>\n",
              "      <td>0</td>\n",
              "      <td>0</td>\n",
              "      <td>0</td>\n",
              "      <td>0</td>\n",
              "      <td>0</td>\n",
              "      <td>0</td>\n",
              "      <td>0</td>\n",
              "      <td>0</td>\n",
              "      <td>0</td>\n",
              "      <td>0</td>\n",
              "      <td>0</td>\n",
              "      <td>0</td>\n",
              "      <td>0</td>\n",
              "      <td>0</td>\n",
              "      <td>0</td>\n",
              "      <td>0</td>\n",
              "      <td>0</td>\n",
              "      <td>0</td>\n",
              "      <td>0</td>\n",
              "      <td>0</td>\n",
              "      <td>0</td>\n",
              "      <td>0</td>\n",
              "      <td>0</td>\n",
              "      <td>0</td>\n",
              "      <td>0</td>\n",
              "      <td>0</td>\n",
              "      <td>0</td>\n",
              "      <td>0</td>\n",
              "      <td>0</td>\n",
              "      <td>0</td>\n",
              "      <td>0</td>\n",
              "      <td>0</td>\n",
              "      <td>0</td>\n",
              "      <td>0</td>\n",
              "      <td>0</td>\n",
              "      <td>0</td>\n",
              "      <td>0</td>\n",
              "      <td>0</td>\n",
              "      <td>0</td>\n",
              "      <td>0</td>\n",
              "      <td>0</td>\n",
              "      <td>0</td>\n",
              "      <td>0</td>\n",
              "      <td>0</td>\n",
              "      <td>0</td>\n",
              "      <td>0</td>\n",
              "      <td>1</td>\n",
              "      <td>0</td>\n",
              "      <td>0</td>\n",
              "      <td>3.737670</td>\n",
              "    </tr>\n",
              "    <tr>\n",
              "      <th>...</th>\n",
              "      <td>...</td>\n",
              "      <td>...</td>\n",
              "      <td>...</td>\n",
              "      <td>...</td>\n",
              "      <td>...</td>\n",
              "      <td>...</td>\n",
              "      <td>...</td>\n",
              "      <td>...</td>\n",
              "      <td>...</td>\n",
              "      <td>...</td>\n",
              "      <td>...</td>\n",
              "      <td>...</td>\n",
              "      <td>...</td>\n",
              "      <td>...</td>\n",
              "      <td>...</td>\n",
              "      <td>...</td>\n",
              "      <td>...</td>\n",
              "      <td>...</td>\n",
              "      <td>...</td>\n",
              "      <td>...</td>\n",
              "      <td>...</td>\n",
              "      <td>...</td>\n",
              "      <td>...</td>\n",
              "      <td>...</td>\n",
              "      <td>...</td>\n",
              "      <td>...</td>\n",
              "      <td>...</td>\n",
              "      <td>...</td>\n",
              "      <td>...</td>\n",
              "      <td>...</td>\n",
              "      <td>...</td>\n",
              "      <td>...</td>\n",
              "      <td>...</td>\n",
              "      <td>...</td>\n",
              "      <td>...</td>\n",
              "      <td>...</td>\n",
              "      <td>...</td>\n",
              "      <td>...</td>\n",
              "      <td>...</td>\n",
              "      <td>...</td>\n",
              "      <td>...</td>\n",
              "      <td>...</td>\n",
              "      <td>...</td>\n",
              "      <td>...</td>\n",
              "      <td>...</td>\n",
              "      <td>...</td>\n",
              "      <td>...</td>\n",
              "      <td>...</td>\n",
              "      <td>...</td>\n",
              "      <td>...</td>\n",
              "      <td>...</td>\n",
              "      <td>...</td>\n",
              "      <td>...</td>\n",
              "      <td>...</td>\n",
              "      <td>...</td>\n",
              "      <td>...</td>\n",
              "      <td>...</td>\n",
              "      <td>...</td>\n",
              "      <td>...</td>\n",
              "      <td>...</td>\n",
              "      <td>...</td>\n",
              "      <td>...</td>\n",
              "      <td>...</td>\n",
              "      <td>...</td>\n",
              "      <td>...</td>\n",
              "    </tr>\n",
              "    <tr>\n",
              "      <th>145454</th>\n",
              "      <td>0</td>\n",
              "      <td>12.65</td>\n",
              "      <td>43.0</td>\n",
              "      <td>0</td>\n",
              "      <td>0</td>\n",
              "      <td>0</td>\n",
              "      <td>0</td>\n",
              "      <td>0</td>\n",
              "      <td>0</td>\n",
              "      <td>0</td>\n",
              "      <td>0</td>\n",
              "      <td>0</td>\n",
              "      <td>0</td>\n",
              "      <td>0</td>\n",
              "      <td>0</td>\n",
              "      <td>0</td>\n",
              "      <td>0</td>\n",
              "      <td>0</td>\n",
              "      <td>0</td>\n",
              "      <td>0</td>\n",
              "      <td>0</td>\n",
              "      <td>0</td>\n",
              "      <td>0</td>\n",
              "      <td>0</td>\n",
              "      <td>0</td>\n",
              "      <td>0</td>\n",
              "      <td>0</td>\n",
              "      <td>0</td>\n",
              "      <td>0</td>\n",
              "      <td>0</td>\n",
              "      <td>0</td>\n",
              "      <td>0</td>\n",
              "      <td>0</td>\n",
              "      <td>0</td>\n",
              "      <td>0</td>\n",
              "      <td>0</td>\n",
              "      <td>0</td>\n",
              "      <td>0</td>\n",
              "      <td>0</td>\n",
              "      <td>0</td>\n",
              "      <td>0</td>\n",
              "      <td>1</td>\n",
              "      <td>0</td>\n",
              "      <td>0</td>\n",
              "      <td>0</td>\n",
              "      <td>0</td>\n",
              "      <td>0</td>\n",
              "      <td>0</td>\n",
              "      <td>0</td>\n",
              "      <td>0</td>\n",
              "      <td>0</td>\n",
              "      <td>0</td>\n",
              "      <td>0</td>\n",
              "      <td>0</td>\n",
              "      <td>0</td>\n",
              "      <td>0</td>\n",
              "      <td>0</td>\n",
              "      <td>0</td>\n",
              "      <td>0</td>\n",
              "      <td>0</td>\n",
              "      <td>0</td>\n",
              "      <td>0</td>\n",
              "      <td>0</td>\n",
              "      <td>0</td>\n",
              "      <td>3.465736</td>\n",
              "    </tr>\n",
              "    <tr>\n",
              "      <th>145455</th>\n",
              "      <td>0</td>\n",
              "      <td>13.10</td>\n",
              "      <td>37.5</td>\n",
              "      <td>0</td>\n",
              "      <td>0</td>\n",
              "      <td>0</td>\n",
              "      <td>0</td>\n",
              "      <td>0</td>\n",
              "      <td>0</td>\n",
              "      <td>0</td>\n",
              "      <td>0</td>\n",
              "      <td>0</td>\n",
              "      <td>0</td>\n",
              "      <td>0</td>\n",
              "      <td>0</td>\n",
              "      <td>0</td>\n",
              "      <td>0</td>\n",
              "      <td>0</td>\n",
              "      <td>0</td>\n",
              "      <td>0</td>\n",
              "      <td>0</td>\n",
              "      <td>0</td>\n",
              "      <td>0</td>\n",
              "      <td>0</td>\n",
              "      <td>0</td>\n",
              "      <td>0</td>\n",
              "      <td>0</td>\n",
              "      <td>0</td>\n",
              "      <td>0</td>\n",
              "      <td>0</td>\n",
              "      <td>0</td>\n",
              "      <td>0</td>\n",
              "      <td>0</td>\n",
              "      <td>0</td>\n",
              "      <td>0</td>\n",
              "      <td>0</td>\n",
              "      <td>0</td>\n",
              "      <td>0</td>\n",
              "      <td>0</td>\n",
              "      <td>0</td>\n",
              "      <td>0</td>\n",
              "      <td>1</td>\n",
              "      <td>0</td>\n",
              "      <td>0</td>\n",
              "      <td>0</td>\n",
              "      <td>0</td>\n",
              "      <td>0</td>\n",
              "      <td>0</td>\n",
              "      <td>0</td>\n",
              "      <td>0</td>\n",
              "      <td>0</td>\n",
              "      <td>0</td>\n",
              "      <td>0</td>\n",
              "      <td>0</td>\n",
              "      <td>0</td>\n",
              "      <td>0</td>\n",
              "      <td>0</td>\n",
              "      <td>0</td>\n",
              "      <td>0</td>\n",
              "      <td>0</td>\n",
              "      <td>0</td>\n",
              "      <td>0</td>\n",
              "      <td>0</td>\n",
              "      <td>0</td>\n",
              "      <td>3.465736</td>\n",
              "    </tr>\n",
              "    <tr>\n",
              "      <th>145456</th>\n",
              "      <td>0</td>\n",
              "      <td>14.45</td>\n",
              "      <td>38.5</td>\n",
              "      <td>0</td>\n",
              "      <td>0</td>\n",
              "      <td>0</td>\n",
              "      <td>0</td>\n",
              "      <td>0</td>\n",
              "      <td>0</td>\n",
              "      <td>0</td>\n",
              "      <td>0</td>\n",
              "      <td>0</td>\n",
              "      <td>0</td>\n",
              "      <td>0</td>\n",
              "      <td>0</td>\n",
              "      <td>0</td>\n",
              "      <td>0</td>\n",
              "      <td>0</td>\n",
              "      <td>0</td>\n",
              "      <td>0</td>\n",
              "      <td>0</td>\n",
              "      <td>0</td>\n",
              "      <td>0</td>\n",
              "      <td>0</td>\n",
              "      <td>0</td>\n",
              "      <td>0</td>\n",
              "      <td>0</td>\n",
              "      <td>0</td>\n",
              "      <td>0</td>\n",
              "      <td>0</td>\n",
              "      <td>0</td>\n",
              "      <td>0</td>\n",
              "      <td>0</td>\n",
              "      <td>0</td>\n",
              "      <td>0</td>\n",
              "      <td>0</td>\n",
              "      <td>0</td>\n",
              "      <td>0</td>\n",
              "      <td>0</td>\n",
              "      <td>0</td>\n",
              "      <td>0</td>\n",
              "      <td>1</td>\n",
              "      <td>0</td>\n",
              "      <td>0</td>\n",
              "      <td>0</td>\n",
              "      <td>0</td>\n",
              "      <td>0</td>\n",
              "      <td>0</td>\n",
              "      <td>0</td>\n",
              "      <td>0</td>\n",
              "      <td>0</td>\n",
              "      <td>0</td>\n",
              "      <td>0</td>\n",
              "      <td>0</td>\n",
              "      <td>1</td>\n",
              "      <td>0</td>\n",
              "      <td>0</td>\n",
              "      <td>0</td>\n",
              "      <td>0</td>\n",
              "      <td>0</td>\n",
              "      <td>0</td>\n",
              "      <td>0</td>\n",
              "      <td>0</td>\n",
              "      <td>0</td>\n",
              "      <td>3.135494</td>\n",
              "    </tr>\n",
              "    <tr>\n",
              "      <th>145457</th>\n",
              "      <td>0</td>\n",
              "      <td>16.15</td>\n",
              "      <td>38.5</td>\n",
              "      <td>0</td>\n",
              "      <td>0</td>\n",
              "      <td>0</td>\n",
              "      <td>0</td>\n",
              "      <td>0</td>\n",
              "      <td>0</td>\n",
              "      <td>0</td>\n",
              "      <td>0</td>\n",
              "      <td>0</td>\n",
              "      <td>0</td>\n",
              "      <td>0</td>\n",
              "      <td>0</td>\n",
              "      <td>0</td>\n",
              "      <td>0</td>\n",
              "      <td>0</td>\n",
              "      <td>0</td>\n",
              "      <td>0</td>\n",
              "      <td>0</td>\n",
              "      <td>0</td>\n",
              "      <td>0</td>\n",
              "      <td>0</td>\n",
              "      <td>0</td>\n",
              "      <td>0</td>\n",
              "      <td>0</td>\n",
              "      <td>0</td>\n",
              "      <td>0</td>\n",
              "      <td>0</td>\n",
              "      <td>0</td>\n",
              "      <td>0</td>\n",
              "      <td>0</td>\n",
              "      <td>0</td>\n",
              "      <td>0</td>\n",
              "      <td>0</td>\n",
              "      <td>0</td>\n",
              "      <td>0</td>\n",
              "      <td>0</td>\n",
              "      <td>0</td>\n",
              "      <td>0</td>\n",
              "      <td>1</td>\n",
              "      <td>0</td>\n",
              "      <td>0</td>\n",
              "      <td>0</td>\n",
              "      <td>0</td>\n",
              "      <td>0</td>\n",
              "      <td>0</td>\n",
              "      <td>0</td>\n",
              "      <td>0</td>\n",
              "      <td>0</td>\n",
              "      <td>1</td>\n",
              "      <td>0</td>\n",
              "      <td>0</td>\n",
              "      <td>0</td>\n",
              "      <td>0</td>\n",
              "      <td>0</td>\n",
              "      <td>0</td>\n",
              "      <td>0</td>\n",
              "      <td>0</td>\n",
              "      <td>0</td>\n",
              "      <td>0</td>\n",
              "      <td>0</td>\n",
              "      <td>0</td>\n",
              "      <td>3.637586</td>\n",
              "    </tr>\n",
              "    <tr>\n",
              "      <th>145458</th>\n",
              "      <td>0</td>\n",
              "      <td>17.40</td>\n",
              "      <td>37.5</td>\n",
              "      <td>0</td>\n",
              "      <td>0</td>\n",
              "      <td>0</td>\n",
              "      <td>0</td>\n",
              "      <td>0</td>\n",
              "      <td>0</td>\n",
              "      <td>0</td>\n",
              "      <td>0</td>\n",
              "      <td>0</td>\n",
              "      <td>0</td>\n",
              "      <td>0</td>\n",
              "      <td>0</td>\n",
              "      <td>0</td>\n",
              "      <td>0</td>\n",
              "      <td>0</td>\n",
              "      <td>0</td>\n",
              "      <td>0</td>\n",
              "      <td>0</td>\n",
              "      <td>0</td>\n",
              "      <td>0</td>\n",
              "      <td>0</td>\n",
              "      <td>0</td>\n",
              "      <td>0</td>\n",
              "      <td>0</td>\n",
              "      <td>0</td>\n",
              "      <td>0</td>\n",
              "      <td>0</td>\n",
              "      <td>0</td>\n",
              "      <td>0</td>\n",
              "      <td>0</td>\n",
              "      <td>0</td>\n",
              "      <td>0</td>\n",
              "      <td>0</td>\n",
              "      <td>0</td>\n",
              "      <td>0</td>\n",
              "      <td>0</td>\n",
              "      <td>0</td>\n",
              "      <td>0</td>\n",
              "      <td>1</td>\n",
              "      <td>0</td>\n",
              "      <td>0</td>\n",
              "      <td>0</td>\n",
              "      <td>0</td>\n",
              "      <td>0</td>\n",
              "      <td>0</td>\n",
              "      <td>0</td>\n",
              "      <td>0</td>\n",
              "      <td>0</td>\n",
              "      <td>0</td>\n",
              "      <td>0</td>\n",
              "      <td>0</td>\n",
              "      <td>0</td>\n",
              "      <td>0</td>\n",
              "      <td>0</td>\n",
              "      <td>1</td>\n",
              "      <td>0</td>\n",
              "      <td>0</td>\n",
              "      <td>0</td>\n",
              "      <td>0</td>\n",
              "      <td>0</td>\n",
              "      <td>0</td>\n",
              "      <td>3.367296</td>\n",
              "    </tr>\n",
              "  </tbody>\n",
              "</table>\n",
              "<p>121004 rows × 65 columns</p>\n",
              "</div>\n",
              "      <button class=\"colab-df-convert\" onclick=\"convertToInteractive('df-cccf567a-3874-4ffe-9bce-603ebf55e0e8')\"\n",
              "              title=\"Convert this dataframe to an interactive table.\"\n",
              "              style=\"display:none;\">\n",
              "        \n",
              "  <svg xmlns=\"http://www.w3.org/2000/svg\" height=\"24px\"viewBox=\"0 0 24 24\"\n",
              "       width=\"24px\">\n",
              "    <path d=\"M0 0h24v24H0V0z\" fill=\"none\"/>\n",
              "    <path d=\"M18.56 5.44l.94 2.06.94-2.06 2.06-.94-2.06-.94-.94-2.06-.94 2.06-2.06.94zm-11 1L8.5 8.5l.94-2.06 2.06-.94-2.06-.94L8.5 2.5l-.94 2.06-2.06.94zm10 10l.94 2.06.94-2.06 2.06-.94-2.06-.94-.94-2.06-.94 2.06-2.06.94z\"/><path d=\"M17.41 7.96l-1.37-1.37c-.4-.4-.92-.59-1.43-.59-.52 0-1.04.2-1.43.59L10.3 9.45l-7.72 7.72c-.78.78-.78 2.05 0 2.83L4 21.41c.39.39.9.59 1.41.59.51 0 1.02-.2 1.41-.59l7.78-7.78 2.81-2.81c.8-.78.8-2.07 0-2.86zM5.41 20L4 18.59l7.72-7.72 1.47 1.35L5.41 20z\"/>\n",
              "  </svg>\n",
              "      </button>\n",
              "      \n",
              "  <style>\n",
              "    .colab-df-container {\n",
              "      display:flex;\n",
              "      flex-wrap:wrap;\n",
              "      gap: 12px;\n",
              "    }\n",
              "\n",
              "    .colab-df-convert {\n",
              "      background-color: #E8F0FE;\n",
              "      border: none;\n",
              "      border-radius: 50%;\n",
              "      cursor: pointer;\n",
              "      display: none;\n",
              "      fill: #1967D2;\n",
              "      height: 32px;\n",
              "      padding: 0 0 0 0;\n",
              "      width: 32px;\n",
              "    }\n",
              "\n",
              "    .colab-df-convert:hover {\n",
              "      background-color: #E2EBFA;\n",
              "      box-shadow: 0px 1px 2px rgba(60, 64, 67, 0.3), 0px 1px 3px 1px rgba(60, 64, 67, 0.15);\n",
              "      fill: #174EA6;\n",
              "    }\n",
              "\n",
              "    [theme=dark] .colab-df-convert {\n",
              "      background-color: #3B4455;\n",
              "      fill: #D2E3FC;\n",
              "    }\n",
              "\n",
              "    [theme=dark] .colab-df-convert:hover {\n",
              "      background-color: #434B5C;\n",
              "      box-shadow: 0px 1px 3px 1px rgba(0, 0, 0, 0.15);\n",
              "      filter: drop-shadow(0px 1px 2px rgba(0, 0, 0, 0.3));\n",
              "      fill: #FFFFFF;\n",
              "    }\n",
              "  </style>\n",
              "\n",
              "      <script>\n",
              "        const buttonEl =\n",
              "          document.querySelector('#df-cccf567a-3874-4ffe-9bce-603ebf55e0e8 button.colab-df-convert');\n",
              "        buttonEl.style.display =\n",
              "          google.colab.kernel.accessAllowed ? 'block' : 'none';\n",
              "\n",
              "        async function convertToInteractive(key) {\n",
              "          const element = document.querySelector('#df-cccf567a-3874-4ffe-9bce-603ebf55e0e8');\n",
              "          const dataTable =\n",
              "            await google.colab.kernel.invokeFunction('convertToInteractive',\n",
              "                                                     [key], {});\n",
              "          if (!dataTable) return;\n",
              "\n",
              "          const docLinkHtml = 'Like what you see? Visit the ' +\n",
              "            '<a target=\"_blank\" href=https://colab.research.google.com/notebooks/data_table.ipynb>data table notebook</a>'\n",
              "            + ' to learn more about interactive tables.';\n",
              "          element.innerHTML = '';\n",
              "          dataTable['output_type'] = 'display_data';\n",
              "          await google.colab.output.renderOutput(dataTable, element);\n",
              "          const docLink = document.createElement('div');\n",
              "          docLink.innerHTML = docLinkHtml;\n",
              "          element.appendChild(docLink);\n",
              "        }\n",
              "      </script>\n",
              "    </div>\n",
              "  </div>\n",
              "  "
            ],
            "text/plain": [
              "        RainToday  Average Temp  Average Humidity  ...  WNW  WSW  log_WindGustSpeed\n",
              "0               0         18.15              46.5  ...    0    0           3.806662\n",
              "1               0         16.25              34.5  ...    1    0           3.806662\n",
              "2               0         19.30              34.0  ...    0    1           3.850148\n",
              "3               0         18.60              30.5  ...    0    0           3.218876\n",
              "4               0         24.90              57.5  ...    0    0           3.737670\n",
              "...           ...           ...               ...  ...  ...  ...                ...\n",
              "145454          0         12.65              43.0  ...    0    0           3.465736\n",
              "145455          0         13.10              37.5  ...    0    0           3.465736\n",
              "145456          0         14.45              38.5  ...    0    0           3.135494\n",
              "145457          0         16.15              38.5  ...    0    0           3.637586\n",
              "145458          0         17.40              37.5  ...    0    0           3.367296\n",
              "\n",
              "[121004 rows x 65 columns]"
            ]
          },
          "execution_count": 66,
          "metadata": {},
          "output_type": "execute_result"
        }
      ],
      "source": [
        "X"
      ]
    },
    {
      "cell_type": "code",
      "execution_count": null,
      "metadata": {
        "id": "wPT5R7CniZmB"
      },
      "outputs": [],
      "source": [
        "X_train,X_test,y_train,y_test= train_test_split(X,y,test_size=0.3,stratify=y,random_state=1)"
      ]
    },
    {
      "cell_type": "code",
      "execution_count": null,
      "metadata": {
        "id": "185NHG0rh4dl"
      },
      "outputs": [],
      "source": [
        "train_oversample= RandomOverSampler(sampling_strategy=0.5)\n",
        "X_train,y_train= train_oversample.fit_resample(X_train,y_train)"
      ]
    },
    {
      "cell_type": "code",
      "execution_count": null,
      "metadata": {
        "id": "uxssZCbTiqDJ"
      },
      "outputs": [],
      "source": [
        "sc_scaler= StandardScaler()\n",
        "X_train[['log_WindGustSpeed','Average Temp','Average Humidity']]= sc_scaler.fit_transform(X_train[['log_WindGustSpeed','Average Temp','Average Humidity']])\n",
        "X_test[['log_WindGustSpeed','Average Temp','Average Humidity']]= sc_scaler.transform(X_test[['log_WindGustSpeed','Average Temp','Average Humidity']])\n",
        "\n"
      ]
    },
    {
      "cell_type": "code",
      "execution_count": null,
      "metadata": {
        "colab": {
          "base_uri": "https://localhost:8080/"
        },
        "id": "loHTI4QZjY--",
        "outputId": "6ba19eec-5f79-4cba-df59-b7053cf3590b"
      },
      "outputs": [
        {
          "name": "stderr",
          "output_type": "stream",
          "text": [
            "/usr/local/lib/python3.7/dist-packages/sklearn/linear_model/_logistic.py:818: ConvergenceWarning: lbfgs failed to converge (status=1):\n",
            "STOP: TOTAL NO. of ITERATIONS REACHED LIMIT.\n",
            "\n",
            "Increase the number of iterations (max_iter) or scale the data as shown in:\n",
            "    https://scikit-learn.org/stable/modules/preprocessing.html\n",
            "Please also refer to the documentation for alternative solver options:\n",
            "    https://scikit-learn.org/stable/modules/linear_model.html#logistic-regression\n",
            "  extra_warning_msg=_LOGISTIC_SOLVER_CONVERGENCE_MSG,\n"
          ]
        },
        {
          "data": {
            "text/plain": [
              "LogisticRegression()"
            ]
          },
          "execution_count": 70,
          "metadata": {},
          "output_type": "execute_result"
        }
      ],
      "source": [
        "lr_clf= LogisticRegression()\n",
        "lr_clf.fit(X_train,y_train)"
      ]
    },
    {
      "cell_type": "code",
      "execution_count": null,
      "metadata": {
        "colab": {
          "base_uri": "https://localhost:8080/",
          "height": 355
        },
        "id": "82fjrtHqlWPX",
        "outputId": "b80364c1-e697-4452-d3cb-03c8035b988c"
      },
      "outputs": [
        {
          "name": "stderr",
          "output_type": "stream",
          "text": [
            "/usr/local/lib/python3.7/dist-packages/sklearn/utils/deprecation.py:87: FutureWarning: Function plot_confusion_matrix is deprecated; Function `plot_confusion_matrix` is deprecated in 1.0 and will be removed in 1.2. Use one of the class methods: ConfusionMatrixDisplay.from_predictions or ConfusionMatrixDisplay.from_estimator.\n",
            "  warnings.warn(msg, category=FutureWarning)\n"
          ]
        },
        {
          "data": {
            "text/plain": [
              "<sklearn.metrics._plot.confusion_matrix.ConfusionMatrixDisplay at 0x7fd14b1beed0>"
            ]
          },
          "execution_count": 71,
          "metadata": {},
          "output_type": "execute_result"
        },
        {
          "data": {
            "image/png": "[encoded data removed]",
            "text/plain": [
              "<Figure size 432x288 with 2 Axes>"
            ]
          },
          "metadata": {},
          "output_type": "display_data"
        }
      ],
      "source": [
        "plot_confusion_matrix(lr_clf,X_test,y_test)"
      ]
    },
    {
      "cell_type": "code",
      "execution_count": null,
      "metadata": {
        "colab": {
          "base_uri": "https://localhost:8080/"
        },
        "id": "TOtbXVR8ldlM",
        "outputId": "befa78e2-8031-433a-c605-c794c9e0ffb5"
      },
      "outputs": [
        {
          "name": "stdout",
          "output_type": "stream",
          "text": [
            "The accuracy of logistic regression test data is 0.8247479477714726\n",
            "The accuracy of logistic regression train data is 0.7963215740993519\n"
          ]
        }
      ],
      "source": [
        "y_pred= lr_clf.predict(X_test)\n",
        "print(f'The accuracy of logistic regression test data is {accuracy_score(y_test,y_pred)}')\n",
        "print(f'The accuracy of logistic regression train data is {accuracy_score(y_train,lr_clf.predict(X_train))}')"
      ]
    },
    {
      "cell_type": "code",
      "execution_count": null,
      "metadata": {
        "colab": {
          "base_uri": "https://localhost:8080/"
        },
        "id": "ozkKZNpLlzUB",
        "outputId": "ec7e07c2-e5d4-4021-d82e-68544167a9e1"
      },
      "outputs": [
        {
          "name": "stdout",
          "output_type": "stream",
          "text": [
            "              precision    recall  f1-score   support\n",
            "\n",
            "           0       0.89      0.89      0.89     28259\n",
            "           1       0.60      0.61      0.61      8043\n",
            "\n",
            "    accuracy                           0.82     36302\n",
            "   macro avg       0.75      0.75      0.75     36302\n",
            "weighted avg       0.83      0.82      0.83     36302\n",
            "\n"
          ]
        }
      ],
      "source": [
        "print(classification_report(y_test,y_pred))"
      ]
    },
    {
      "cell_type": "code",
      "execution_count": null,
      "metadata": {
        "colab": {
          "base_uri": "https://localhost:8080/"
        },
        "id": "y3WuY9tPl5NP",
        "outputId": "08e79a3e-c343-4143-aef2-9e2b9466b8ab"
      },
      "outputs": [
        {
          "name": "stdout",
          "output_type": "stream",
          "text": [
            "0.8458288556822291\n"
          ]
        }
      ],
      "source": [
        "print(roc_auc_score(y_test,lr_clf.predict_proba(X_test)[:,1]))"
      ]
    },
    {
      "cell_type": "markdown",
      "metadata": {
        "id": "Zj2lMSXpmRlf"
      },
      "source": [
        "### Even after feature transformation, there is a little improvement , need to try another algorithm"
      ]
    },
    {
      "cell_type": "markdown",
      "metadata": {
        "id": "Sf7dhZoDl_lK"
      },
      "source": [
        "### SVC Classifier"
      ]
    },
    {
      "cell_type": "code",
      "execution_count": null,
      "metadata": {
        "id": "cTVBR_frl-ZA"
      },
      "outputs": [],
      "source": [
        "from sklearn.svm import SVC\n",
        "rain_svc= rain_df.copy()\n",
        "\n",
        "\n",
        "rain_svc=rain_svc[rain_svc['Average Humidity']>0]\n",
        "rain_svc['RainToday']= np.where(rain_svc['RainToday']=='Yes',1,0)\n",
        "rain_svc['RainTomorrow']= np.where(rain_svc['RainTomorrow']=='Yes',1,0)\n",
        "#one hot encode all the other categorical features\n",
        "df_location= pd.get_dummies(rain_svc['Location'],drop_first=True)\n",
        "df_winddir= pd.get_dummies(rain_svc['WindGustDir'],drop_first=True)\n",
        "\n",
        "#concat the features\n",
        "rain_svc= pd.concat([rain_svc,df_location,df_winddir],axis=1)\n",
        "rain_svc.drop(['Location','WindGustDir'],axis=1,inplace=True)\n",
        "rain_svc= outlier_removal(rain_svc,'Average Humidity')\n",
        "rain_svc= outlier_removal(rain_svc,'Average Temp')\n",
        "rain_svc= outlier_removal(rain_svc,'WindGustSpeed')\n",
        "X= rain_svc.drop(['Rainfall','Year','RainTomorrow','Month'],axis=1)  #as rainfall parameter is the continous parameter of RainToday\n",
        "y= rain_svc['RainTomorrow']"
      ]
    },
    {
      "cell_type": "code",
      "execution_count": null,
      "metadata": {
        "id": "xkVYab6Xmz3W"
      },
      "outputs": [],
      "source": [
        "from sklearn.preprocessing import StandardScaler\n",
        "from sklearn.model_selection import train_test_split\n",
        "X_train,X_test,y_train,y_test= train_test_split(X,y,test_size=0.3,stratify=y,random_state=1)\n",
        "train_oversample= RandomOverSampler(sampling_strategy=0.5)\n",
        "X_train,y_train= train_oversample.fit_resample(X_train,y_train)\n",
        "sc_scaler= StandardScaler()\n",
        "X_train[['WindGustSpeed','Average Temp','Average Humidity']]= sc_scaler.fit_transform(X_train[['WindGustSpeed','Average Temp','Average Humidity']])\n",
        "X_test[['WindGustSpeed','Average Temp','Average Humidity']]= sc_scaler.transform(X_test[['WindGustSpeed','Average Temp','Average Humidity']])"
      ]
    },
    {
      "cell_type": "code",
      "execution_count": null,
      "metadata": {
        "id": "I3BjAT2snIIW"
      },
      "outputs": [],
      "source": [
        "svc_clf= SVC()\n",
        "svc_clf.fit(X_train,y_train)\n",
        "y_pred_svc= svc_clf.predict(X_test)\n"
      ]
    },
    {
      "cell_type": "code",
      "execution_count": null,
      "metadata": {
        "colab": {
          "base_uri": "https://localhost:8080/",
          "height": 351
        },
        "id": "1ehEKY1xpwxN",
        "outputId": "38e5cdee-ad94-46ca-95ef-43fe1d502f57"
      },
      "outputs": [
        {
          "metadata": {
            "tags": null
          },
          "name": "stderr",
          "output_type": "stream",
          "text": [
            "/usr/local/lib/python3.7/dist-packages/sklearn/utils/deprecation.py:87: FutureWarning: Function plot_confusion_matrix is deprecated; Function `plot_confusion_matrix` is deprecated in 1.0 and will be removed in 1.2. Use one of the class methods: ConfusionMatrixDisplay.from_predictions or ConfusionMatrixDisplay.from_estimator.\n",
            "  warnings.warn(msg, category=FutureWarning)\n"
          ]
        },
        {
          "output_type": "execute_result",
          "data": {
            "text/plain": [
              "<sklearn.metrics._plot.confusion_matrix.ConfusionMatrixDisplay at 0x7fca46f60850>"
            ]
          },
          "metadata": {},
          "execution_count": 30
        },
        {
          "output_type": "display_data",
          "data": {
            "image/png": "[encoded data removed]",
            "text/plain": [
              "<Figure size 432x288 with 2 Axes>"
            ]
          },
          "metadata": {
            "needs_background": "light"
          }
        }
      ],
      "source": [
        "from sklearn.metrics import roc_auc_score,classification_report,plot_confusion_matrix\n",
        "plot_confusion_matrix(svc_clf,X_test,y_test)"
      ]
    },
    {
      "cell_type": "code",
      "execution_count": null,
      "metadata": {
        "colab": {
          "base_uri": "https://localhost:8080/"
        },
        "id": "HoPr3CJ1qNFz",
        "outputId": "b5380575-e766-48e3-dc15-732c22a78c74"
      },
      "outputs": [
        {
          "output_type": "execute_result",
          "data": {
            "text/plain": [
              "0.7503443280761375"
            ]
          },
          "metadata": {},
          "execution_count": 31
        }
      ],
      "source": [
        "roc_auc_score(y_test,y_pred_svc)"
      ]
    },
    {
      "cell_type": "code",
      "execution_count": null,
      "metadata": {
        "colab": {
          "base_uri": "https://localhost:8080/"
        },
        "id": "Uc70ZxLiqRM3",
        "outputId": "ec200083-f424-466d-a31c-5448b26d6b35"
      },
      "outputs": [
        {
          "output_type": "stream",
          "name": "stdout",
          "text": [
            "              precision    recall  f1-score   support\n",
            "\n",
            "           0       0.89      0.92      0.90     27871\n",
            "           1       0.66      0.58      0.62      7580\n",
            "\n",
            "    accuracy                           0.85     35451\n",
            "   macro avg       0.77      0.75      0.76     35451\n",
            "weighted avg       0.84      0.85      0.84     35451\n",
            "\n"
          ]
        }
      ],
      "source": [
        "print(classification_report(y_test,y_pred_svc))"
      ]
    },
    {
      "cell_type": "markdown",
      "metadata": {
        "id": "KjWySeCFzUnB"
      },
      "source": [
        "# KNN Classifier"
      ]
    },
    {
      "cell_type": "code",
      "execution_count": null,
      "metadata": {
        "id": "uWXRZCermK0I"
      },
      "outputs": [],
      "source": [
        "#feature engg\n",
        "rain_knn= rain_df.copy()\n",
        "rain_knn=rain_knn[rain_knn['Average Humidity']>0]\n",
        "rain_knn['RainToday']= np.where(rain_knn['RainToday']=='Yes',1,0)\n",
        "rain_knn['RainTomorrow']= np.where(rain_knn['RainTomorrow']=='Yes',1,0)\n",
        "#one hot encode all the other categorical features\n",
        "df_location= pd.get_dummies(rain_knn['Location'],drop_first=True)\n",
        "df_winddir= pd.get_dummies(rain_knn['WindGustDir'],drop_first=True)\n",
        "\n",
        "#concat the features\n",
        "rain_knn= pd.concat([rain_knn,df_location,df_winddir],axis=1)\n",
        "rain_knn.drop(['Location','WindGustDir'],axis=1,inplace=True)\n",
        "#rain_knn= outlier_removal(rain_knn,'Average Humidity')\n",
        "#rain_knn= outlier_removal(rain_knn,'Average Temp')\n",
        "#rain_knn= outlier_removal(rain_knn,'WindGustSpeed')\n",
        "X= rain_knn.drop(['Rainfall','Year','RainTomorrow','Month'],axis=1)  #as rainfall parameter is the continous parameter of RainToday\n",
        "y= rain_knn['RainTomorrow']"
      ]
    },
    {
      "cell_type": "code",
      "execution_count": null,
      "metadata": {
        "id": "TGlxC8gB0ihl"
      },
      "outputs": [],
      "source": [
        "from sklearn.model_selection import train_test_split\n",
        "from sklearn.preprocessing import StandardScaler\n",
        "X_train,X_test,y_train,y_test= train_test_split(X,y,test_size=0.3,stratify=y,random_state=1)\n",
        "train_oversample= RandomOverSampler(sampling_strategy=0.5)\n",
        "X_train,y_train= train_oversample.fit_resample(X_train,y_train)\n",
        "sc_scaler= StandardScaler()\n",
        "X_train[['WindGustSpeed','Average Temp','Average Humidity']]= sc_scaler.fit_transform(X_train[['WindGustSpeed','Average Temp','Average Humidity']])\n",
        "X_test[['WindGustSpeed','Average Temp','Average Humidity']]= sc_scaler.transform(X_test[['WindGustSpeed','Average Temp','Average Humidity']])"
      ]
    },
    {
      "cell_type": "code",
      "execution_count": null,
      "metadata": {
        "colab": {
          "base_uri": "https://localhost:8080/"
        },
        "id": "GlX2bR4o0u8-",
        "outputId": "b873e2ef-8c1e-4c4c-959d-c15762dfee8a"
      },
      "outputs": [
        {
          "data": {
            "text/plain": [
              "KNeighborsClassifier(n_neighbors=10)"
            ]
          },
          "execution_count": 30,
          "metadata": {},
          "output_type": "execute_result"
        }
      ],
      "source": [
        "#applying knn model\n",
        "from sklearn.neighbors import KNeighborsClassifier\n",
        "knn_clf= KNeighborsClassifier(n_neighbors=10)\n",
        "knn_clf.fit(X_train,y_train)\n"
      ]
    },
    {
      "cell_type": "code",
      "execution_count": null,
      "metadata": {
        "colab": {
          "base_uri": "https://localhost:8080/",
          "height": 351
        },
        "id": "Yd4FMmDq1Gv2",
        "outputId": "85054ec6-08dd-4060-9b24-9870ec72458d"
      },
      "outputs": [
        {
          "name": "stderr",
          "output_type": "stream",
          "text": [
            "/usr/local/lib/python3.7/dist-packages/sklearn/utils/deprecation.py:87: FutureWarning: Function plot_confusion_matrix is deprecated; Function `plot_confusion_matrix` is deprecated in 1.0 and will be removed in 1.2. Use one of the class methods: ConfusionMatrixDisplay.from_predictions or ConfusionMatrixDisplay.from_estimator.\n",
            "  warnings.warn(msg, category=FutureWarning)\n"
          ]
        },
        {
          "data": {
            "text/plain": [
              "<sklearn.metrics._plot.confusion_matrix.ConfusionMatrixDisplay at 0x7f0850628fd0>"
            ]
          },
          "execution_count": 40,
          "metadata": {},
          "output_type": "execute_result"
        },
        {
          "data": {
            "image/png": "[encoded data removed]",
            "text/plain": [
              "<Figure size 432x288 with 2 Axes>"
            ]
          },
          "metadata": {},
          "output_type": "display_data"
        }
      ],
      "source": [
        "from sklearn.metrics import plot_confusion_matrix\n",
        "y_pred= knn_clf.predict(X_test)\n",
        "y_prob= knn_clf.predict_proba(X_test)\n",
        "plot_confusion_matrix(knn_clf,X_test,y_test)"
      ]
    },
    {
      "cell_type": "code",
      "execution_count": null,
      "metadata": {
        "colab": {
          "base_uri": "https://localhost:8080/"
        },
        "id": "jB3iHp8n1ZHY",
        "outputId": "d87d774f-206a-4622-8ffd-359ceb85dde9"
      },
      "outputs": [
        {
          "data": {
            "text/plain": [
              "0.821776681176595"
            ]
          },
          "execution_count": 42,
          "metadata": {},
          "output_type": "execute_result"
        }
      ],
      "source": [
        "from sklearn.metrics import roc_auc_score,classification_report\n",
        "roc_auc_score(y_test,y_prob[:,1])"
      ]
    },
    {
      "cell_type": "code",
      "execution_count": null,
      "metadata": {
        "colab": {
          "base_uri": "https://localhost:8080/"
        },
        "id": "6IAlExJU2KZf",
        "outputId": "3b4a2ece-9017-4d33-e945-e26b84913d2f"
      },
      "outputs": [
        {
          "name": "stdout",
          "output_type": "stream",
          "text": [
            "              precision    recall  f1-score   support\n",
            "\n",
            "           0       0.87      0.90      0.89     28472\n",
            "           1       0.61      0.54      0.57      8065\n",
            "\n",
            "    accuracy                           0.82     36537\n",
            "   macro avg       0.74      0.72      0.73     36537\n",
            "weighted avg       0.82      0.82      0.82     36537\n",
            "\n"
          ]
        }
      ],
      "source": [
        "print(classification_report(y_test,y_pred))"
      ]
    },
    {
      "cell_type": "code",
      "execution_count": null,
      "metadata": {
        "colab": {
          "background_save": true,
          "base_uri": "https://localhost:8080/"
        },
        "id": "B7kAGFv62Wb2",
        "outputId": "9ecc283d-6fb2-437f-d68a-16832ca4440d"
      },
      "outputs": [
        {
          "name": "stdout",
          "output_type": "stream",
          "text": [
            "Fitting 5 folds for each of 5 candidates, totalling 25 fits\n",
            "[CV 1/5; 1/5] START algorithm=auto, metric=euclidean, n_neighbors=100, p=2, weights=uniform\n",
            "[CV 1/5; 1/5] END algorithm=auto, metric=euclidean, n_neighbors=100, p=2, weights=uniform;, score=(train=0.654, test=0.647) total time=  43.8s\n",
            "[CV 2/5; 1/5] START algorithm=auto, metric=euclidean, n_neighbors=100, p=2, weights=uniform\n",
            "[CV 2/5; 1/5] END algorithm=auto, metric=euclidean, n_neighbors=100, p=2, weights=uniform;, score=(train=0.655, test=0.648) total time=  34.9s\n",
            "[CV 3/5; 1/5] START algorithm=auto, metric=euclidean, n_neighbors=100, p=2, weights=uniform\n",
            "[CV 3/5; 1/5] END algorithm=auto, metric=euclidean, n_neighbors=100, p=2, weights=uniform;, score=(train=0.652, test=0.642) total time=  34.9s\n",
            "[CV 4/5; 1/5] START algorithm=auto, metric=euclidean, n_neighbors=100, p=2, weights=uniform\n",
            "[CV 4/5; 1/5] END algorithm=auto, metric=euclidean, n_neighbors=100, p=2, weights=uniform;, score=(train=0.653, test=0.647) total time=  35.5s\n",
            "[CV 5/5; 1/5] START algorithm=auto, metric=euclidean, n_neighbors=100, p=2, weights=uniform\n",
            "[CV 5/5; 1/5] END algorithm=auto, metric=euclidean, n_neighbors=100, p=2, weights=uniform;, score=(train=0.653, test=0.648) total time=  38.3s\n",
            "[CV 1/5; 2/5] START algorithm=brute, metric=manhattan, n_neighbors=100, p=1, weights=uniform\n",
            "[CV 1/5; 2/5] END algorithm=brute, metric=manhattan, n_neighbors=100, p=1, weights=uniform;, score=(train=0.644, test=0.637) total time= 1.9min\n",
            "[CV 2/5; 2/5] START algorithm=brute, metric=manhattan, n_neighbors=100, p=1, weights=uniform\n",
            "[CV 2/5; 2/5] END algorithm=brute, metric=manhattan, n_neighbors=100, p=1, weights=uniform;, score=(train=0.643, test=0.634) total time= 2.1min\n",
            "[CV 3/5; 2/5] START algorithm=brute, metric=manhattan, n_neighbors=100, p=1, weights=uniform\n",
            "[CV 3/5; 2/5] END algorithm=brute, metric=manhattan, n_neighbors=100, p=1, weights=uniform;, score=(train=0.644, test=0.631) total time= 1.7min\n",
            "[CV 4/5; 2/5] START algorithm=brute, metric=manhattan, n_neighbors=100, p=1, weights=uniform\n",
            "[CV 4/5; 2/5] END algorithm=brute, metric=manhattan, n_neighbors=100, p=1, weights=uniform;, score=(train=0.642, test=0.636) total time= 2.0min\n",
            "[CV 5/5; 2/5] START algorithm=brute, metric=manhattan, n_neighbors=100, p=1, weights=uniform\n",
            "[CV 5/5; 2/5] END algorithm=brute, metric=manhattan, n_neighbors=100, p=1, weights=uniform;, score=(train=0.643, test=0.636) total time= 1.8min\n",
            "[CV 1/5; 3/5] START algorithm=auto, metric=manhattan, n_neighbors=100, p=2, weights=distance\n",
            "[CV 1/5; 3/5] END algorithm=auto, metric=manhattan, n_neighbors=100, p=2, weights=distance;, score=(train=1.000, test=0.809) total time= 1.9min\n",
            "[CV 2/5; 3/5] START algorithm=auto, metric=manhattan, n_neighbors=100, p=2, weights=distance\n",
            "[CV 2/5; 3/5] END algorithm=auto, metric=manhattan, n_neighbors=100, p=2, weights=distance;, score=(train=1.000, test=0.810) total time= 1.9min\n",
            "[CV 3/5; 3/5] START algorithm=auto, metric=manhattan, n_neighbors=100, p=2, weights=distance\n",
            "[CV 3/5; 3/5] END algorithm=auto, metric=manhattan, n_neighbors=100, p=2, weights=distance;, score=(train=1.000, test=0.810) total time= 1.7min\n",
            "[CV 4/5; 3/5] START algorithm=auto, metric=manhattan, n_neighbors=100, p=2, weights=distance\n",
            "[CV 4/5; 3/5] END algorithm=auto, metric=manhattan, n_neighbors=100, p=2, weights=distance;, score=(train=1.000, test=0.923) total time= 1.8min\n",
            "[CV 5/5; 3/5] START algorithm=auto, metric=manhattan, n_neighbors=100, p=2, weights=distance\n"
          ]
        }
      ],
      "source": [
        "## doing a grid search\n",
        "from sklearn.model_selection import RandomizedSearchCV\n",
        "knn_clf= KNeighborsClassifier()\n",
        "parameters= {'n_neighbors':[10,40,50,100,120,150,200],'weights':['uniform', 'distance'],'algorithm':['auto', 'ball_tree', 'kd_tree', 'brute'],'metric':['manhattan','euclidean'],'p':[1,2]}\n",
        "knn_grid_model= RandomizedSearchCV(estimator=knn_clf,param_distributions=parameters,scoring='f1',cv=5,return_train_score=True,verbose=10,error_score=0,n_iter=5)\n",
        "knn_grid_model.fit(X_train,y_train)"
      ]
    },
    {
      "cell_type": "code",
      "execution_count": null,
      "metadata": {
        "id": "woCJRqbAdUBA"
      },
      "outputs": [],
      "source": [
        "knn_grid_model.best_params_"
      ]
    },
    {
      "cell_type": "code",
      "execution_count": null,
      "metadata": {
        "id": "9BOng9GOPDpY"
      },
      "outputs": [],
      "source": [
        "knn_grid_model.best_score_"
      ]
    },
    {
      "cell_type": "code",
      "execution_count": null,
      "metadata": {
        "id": "h44Er0DVPHNj"
      },
      "outputs": [],
      "source": [
        "knn_clf= KNeighborsClassifier(algorithm='auto',metric= 'euclidean',n_neighbors= 40,p= 2,weights= 'distance')\n",
        "knn_clf.fit(X_train,y_train)\n",
        "y_pred= knn_clf.predict(X_test)\n",
        "y_prob= knn_clf.predict_proba(X_test)\n"
      ]
    },
    {
      "cell_type": "code",
      "execution_count": null,
      "metadata": {
        "id": "ymph10ZlPdf5"
      },
      "outputs": [],
      "source": [
        "plot_confusion_matrix(knn_clf,X_test,y_test)"
      ]
    },
    {
      "cell_type": "code",
      "execution_count": null,
      "metadata": {
        "id": "p_N8rBzFP0KI"
      },
      "outputs": [],
      "source": [
        "print(classification_report(y_test,y_pred))"
      ]
    },
    {
      "cell_type": "code",
      "execution_count": null,
      "metadata": {
        "id": "sNOCGd90QGGU"
      },
      "outputs": [],
      "source": [
        "print(roc_auc_score(y_test,y_prob[:,1]))"
      ]
    },
    {
      "cell_type": "markdown",
      "metadata": {
        "id": "nGIyx-m_QVe_"
      },
      "source": [
        "### even after grid search for knn, model did not gives us expected results than logistic regression (modified)"
      ]
    },
    {
      "cell_type": "markdown",
      "metadata": {
        "id": "c40GlopSvrNx"
      },
      "source": [
        "#### Random Forest Classifier"
      ]
    },
    {
      "cell_type": "code",
      "execution_count": null,
      "metadata": {
        "colab": {
          "base_uri": "https://localhost:8080/",
          "height": 423
        },
        "id": "19os4ZRgHoGr",
        "outputId": "42d3a163-c8cc-4ff7-bac9-4ce7cf7fa945"
      },
      "outputs": [
        {
          "data": {
            "text/html": [
              "\n",
              "  <div id=\"df-64594789-62ee-4cac-8670-c2e25fe4fab1\">\n",
              "    <div class=\"colab-df-container\">\n",
              "      <div>\n",
              "<style scoped>\n",
              "    .dataframe tbody tr th:only-of-type {\n",
              "        vertical-align: middle;\n",
              "    }\n",
              "\n",
              "    .dataframe tbody tr th {\n",
              "        vertical-align: top;\n",
              "    }\n",
              "\n",
              "    .dataframe thead th {\n",
              "        text-align: right;\n",
              "    }\n",
              "</style>\n",
              "<table border=\"1\" class=\"dataframe\">\n",
              "  <thead>\n",
              "    <tr style=\"text-align: right;\">\n",
              "      <th></th>\n",
              "      <th>Location</th>\n",
              "      <th>Rainfall</th>\n",
              "      <th>WindGustDir</th>\n",
              "      <th>WindGustSpeed</th>\n",
              "      <th>RainToday</th>\n",
              "      <th>RainTomorrow</th>\n",
              "      <th>Month</th>\n",
              "      <th>Year</th>\n",
              "      <th>Average Temp</th>\n",
              "      <th>Average Humidity</th>\n",
              "    </tr>\n",
              "  </thead>\n",
              "  <tbody>\n",
              "    <tr>\n",
              "      <th>0</th>\n",
              "      <td>Albury</td>\n",
              "      <td>0.6</td>\n",
              "      <td>W</td>\n",
              "      <td>44.0</td>\n",
              "      <td>No</td>\n",
              "      <td>No</td>\n",
              "      <td>12</td>\n",
              "      <td>2008</td>\n",
              "      <td>18.15</td>\n",
              "      <td>46.5</td>\n",
              "    </tr>\n",
              "    <tr>\n",
              "      <th>1</th>\n",
              "      <td>Albury</td>\n",
              "      <td>0.0</td>\n",
              "      <td>WNW</td>\n",
              "      <td>44.0</td>\n",
              "      <td>No</td>\n",
              "      <td>No</td>\n",
              "      <td>12</td>\n",
              "      <td>2008</td>\n",
              "      <td>16.25</td>\n",
              "      <td>34.5</td>\n",
              "    </tr>\n",
              "    <tr>\n",
              "      <th>2</th>\n",
              "      <td>Albury</td>\n",
              "      <td>0.0</td>\n",
              "      <td>WSW</td>\n",
              "      <td>46.0</td>\n",
              "      <td>No</td>\n",
              "      <td>No</td>\n",
              "      <td>12</td>\n",
              "      <td>2008</td>\n",
              "      <td>19.30</td>\n",
              "      <td>34.0</td>\n",
              "    </tr>\n",
              "    <tr>\n",
              "      <th>3</th>\n",
              "      <td>Albury</td>\n",
              "      <td>0.0</td>\n",
              "      <td>NE</td>\n",
              "      <td>24.0</td>\n",
              "      <td>No</td>\n",
              "      <td>No</td>\n",
              "      <td>12</td>\n",
              "      <td>2008</td>\n",
              "      <td>18.60</td>\n",
              "      <td>30.5</td>\n",
              "    </tr>\n",
              "    <tr>\n",
              "      <th>4</th>\n",
              "      <td>Albury</td>\n",
              "      <td>1.0</td>\n",
              "      <td>W</td>\n",
              "      <td>41.0</td>\n",
              "      <td>No</td>\n",
              "      <td>No</td>\n",
              "      <td>12</td>\n",
              "      <td>2008</td>\n",
              "      <td>24.90</td>\n",
              "      <td>57.5</td>\n",
              "    </tr>\n",
              "    <tr>\n",
              "      <th>...</th>\n",
              "      <td>...</td>\n",
              "      <td>...</td>\n",
              "      <td>...</td>\n",
              "      <td>...</td>\n",
              "      <td>...</td>\n",
              "      <td>...</td>\n",
              "      <td>...</td>\n",
              "      <td>...</td>\n",
              "      <td>...</td>\n",
              "      <td>...</td>\n",
              "    </tr>\n",
              "    <tr>\n",
              "      <th>145454</th>\n",
              "      <td>Uluru</td>\n",
              "      <td>0.0</td>\n",
              "      <td>E</td>\n",
              "      <td>31.0</td>\n",
              "      <td>No</td>\n",
              "      <td>No</td>\n",
              "      <td>6</td>\n",
              "      <td>2017</td>\n",
              "      <td>12.65</td>\n",
              "      <td>43.0</td>\n",
              "    </tr>\n",
              "    <tr>\n",
              "      <th>145455</th>\n",
              "      <td>Uluru</td>\n",
              "      <td>0.0</td>\n",
              "      <td>E</td>\n",
              "      <td>31.0</td>\n",
              "      <td>No</td>\n",
              "      <td>No</td>\n",
              "      <td>6</td>\n",
              "      <td>2017</td>\n",
              "      <td>13.10</td>\n",
              "      <td>37.5</td>\n",
              "    </tr>\n",
              "    <tr>\n",
              "      <th>145456</th>\n",
              "      <td>Uluru</td>\n",
              "      <td>0.0</td>\n",
              "      <td>NNW</td>\n",
              "      <td>22.0</td>\n",
              "      <td>No</td>\n",
              "      <td>No</td>\n",
              "      <td>6</td>\n",
              "      <td>2017</td>\n",
              "      <td>14.45</td>\n",
              "      <td>38.5</td>\n",
              "    </tr>\n",
              "    <tr>\n",
              "      <th>145457</th>\n",
              "      <td>Uluru</td>\n",
              "      <td>0.0</td>\n",
              "      <td>N</td>\n",
              "      <td>37.0</td>\n",
              "      <td>No</td>\n",
              "      <td>No</td>\n",
              "      <td>6</td>\n",
              "      <td>2017</td>\n",
              "      <td>16.15</td>\n",
              "      <td>38.5</td>\n",
              "    </tr>\n",
              "    <tr>\n",
              "      <th>145458</th>\n",
              "      <td>Uluru</td>\n",
              "      <td>0.0</td>\n",
              "      <td>SE</td>\n",
              "      <td>28.0</td>\n",
              "      <td>No</td>\n",
              "      <td>No</td>\n",
              "      <td>6</td>\n",
              "      <td>2017</td>\n",
              "      <td>17.40</td>\n",
              "      <td>37.5</td>\n",
              "    </tr>\n",
              "  </tbody>\n",
              "</table>\n",
              "<p>121790 rows × 10 columns</p>\n",
              "</div>\n",
              "      <button class=\"colab-df-convert\" onclick=\"convertToInteractive('df-64594789-62ee-4cac-8670-c2e25fe4fab1')\"\n",
              "              title=\"Convert this dataframe to an interactive table.\"\n",
              "              style=\"display:none;\">\n",
              "        \n",
              "  <svg xmlns=\"http://www.w3.org/2000/svg\" height=\"24px\"viewBox=\"0 0 24 24\"\n",
              "       width=\"24px\">\n",
              "    <path d=\"M0 0h24v24H0V0z\" fill=\"none\"/>\n",
              "    <path d=\"M18.56 5.44l.94 2.06.94-2.06 2.06-.94-2.06-.94-.94-2.06-.94 2.06-2.06.94zm-11 1L8.5 8.5l.94-2.06 2.06-.94-2.06-.94L8.5 2.5l-.94 2.06-2.06.94zm10 10l.94 2.06.94-2.06 2.06-.94-2.06-.94-.94-2.06-.94 2.06-2.06.94z\"/><path d=\"M17.41 7.96l-1.37-1.37c-.4-.4-.92-.59-1.43-.59-.52 0-1.04.2-1.43.59L10.3 9.45l-7.72 7.72c-.78.78-.78 2.05 0 2.83L4 21.41c.39.39.9.59 1.41.59.51 0 1.02-.2 1.41-.59l7.78-7.78 2.81-2.81c.8-.78.8-2.07 0-2.86zM5.41 20L4 18.59l7.72-7.72 1.47 1.35L5.41 20z\"/>\n",
              "  </svg>\n",
              "      </button>\n",
              "      \n",
              "  <style>\n",
              "    .colab-df-container {\n",
              "      display:flex;\n",
              "      flex-wrap:wrap;\n",
              "      gap: 12px;\n",
              "    }\n",
              "\n",
              "    .colab-df-convert {\n",
              "      background-color: #E8F0FE;\n",
              "      border: none;\n",
              "      border-radius: 50%;\n",
              "      cursor: pointer;\n",
              "      display: none;\n",
              "      fill: #1967D2;\n",
              "      height: 32px;\n",
              "      padding: 0 0 0 0;\n",
              "      width: 32px;\n",
              "    }\n",
              "\n",
              "    .colab-df-convert:hover {\n",
              "      background-color: #E2EBFA;\n",
              "      box-shadow: 0px 1px 2px rgba(60, 64, 67, 0.3), 0px 1px 3px 1px rgba(60, 64, 67, 0.15);\n",
              "      fill: #174EA6;\n",
              "    }\n",
              "\n",
              "    [theme=dark] .colab-df-convert {\n",
              "      background-color: #3B4455;\n",
              "      fill: #D2E3FC;\n",
              "    }\n",
              "\n",
              "    [theme=dark] .colab-df-convert:hover {\n",
              "      background-color: #434B5C;\n",
              "      box-shadow: 0px 1px 3px 1px rgba(0, 0, 0, 0.15);\n",
              "      filter: drop-shadow(0px 1px 2px rgba(0, 0, 0, 0.3));\n",
              "      fill: #FFFFFF;\n",
              "    }\n",
              "  </style>\n",
              "\n",
              "      <script>\n",
              "        const buttonEl =\n",
              "          document.querySelector('#df-64594789-62ee-4cac-8670-c2e25fe4fab1 button.colab-df-convert');\n",
              "        buttonEl.style.display =\n",
              "          google.colab.kernel.accessAllowed ? 'block' : 'none';\n",
              "\n",
              "        async function convertToInteractive(key) {\n",
              "          const element = document.querySelector('#df-64594789-62ee-4cac-8670-c2e25fe4fab1');\n",
              "          const dataTable =\n",
              "            await google.colab.kernel.invokeFunction('convertToInteractive',\n",
              "                                                     [key], {});\n",
              "          if (!dataTable) return;\n",
              "\n",
              "          const docLinkHtml = 'Like what you see? Visit the ' +\n",
              "            '<a target=\"_blank\" href=https://colab.research.google.com/notebooks/data_table.ipynb>data table notebook</a>'\n",
              "            + ' to learn more about interactive tables.';\n",
              "          element.innerHTML = '';\n",
              "          dataTable['output_type'] = 'display_data';\n",
              "          await google.colab.output.renderOutput(dataTable, element);\n",
              "          const docLink = document.createElement('div');\n",
              "          docLink.innerHTML = docLinkHtml;\n",
              "          element.appendChild(docLink);\n",
              "        }\n",
              "      </script>\n",
              "    </div>\n",
              "  </div>\n",
              "  "
            ],
            "text/plain": [
              "       Location  Rainfall WindGustDir  ...  Year Average Temp Average Humidity\n",
              "0        Albury       0.6           W  ...  2008        18.15             46.5\n",
              "1        Albury       0.0         WNW  ...  2008        16.25             34.5\n",
              "2        Albury       0.0         WSW  ...  2008        19.30             34.0\n",
              "3        Albury       0.0          NE  ...  2008        18.60             30.5\n",
              "4        Albury       1.0           W  ...  2008        24.90             57.5\n",
              "...         ...       ...         ...  ...   ...          ...              ...\n",
              "145454    Uluru       0.0           E  ...  2017        12.65             43.0\n",
              "145455    Uluru       0.0           E  ...  2017        13.10             37.5\n",
              "145456    Uluru       0.0         NNW  ...  2017        14.45             38.5\n",
              "145457    Uluru       0.0           N  ...  2017        16.15             38.5\n",
              "145458    Uluru       0.0          SE  ...  2017        17.40             37.5\n",
              "\n",
              "[121790 rows x 10 columns]"
            ]
          },
          "execution_count": 78,
          "metadata": {},
          "output_type": "execute_result"
        }
      ],
      "source": [
        "rain_df"
      ]
    },
    {
      "cell_type": "code",
      "execution_count": null,
      "metadata": {
        "id": "H9zLv7OdJxYE"
      },
      "outputs": [],
      "source": [
        ""
      ]
    },
    {
      "cell_type": "code",
      "execution_count": null,
      "metadata": {
        "id": "216Jc8-oQLIy"
      },
      "outputs": [],
      "source": [
        "from sklearn.ensemble import RandomForestClassifier\n",
        "from sklearn.preprocessing import LabelEncoder\n",
        "\n",
        "le= LabelEncoder()\n",
        "\n",
        "rain_rf= rain_df.copy()\n",
        "rain_rf=rain_rf[rain_rf['Average Humidity']>0]\n",
        "rain_rf['RainToday']= np.where(rain_rf['RainToday']=='Yes',1,0)\n",
        "rain_rf['RainTomorrow']= np.where(rain_rf['RainTomorrow']=='Yes',1,0)\n",
        "rain_rf[['WindGustDir','Location']]= rain_rf[['WindGustDir','Location']].apply(le.fit_transform)\n",
        "rain_rf= outlier_removal(rain_rf,'Average Humidity')\n",
        "rain_rf= outlier_removal(rain_rf,'Average Temp')\n"
      ]
    },
    {
      "cell_type": "code",
      "execution_count": null,
      "metadata": {
        "colab": {
          "base_uri": "https://localhost:8080/",
          "height": 423
        },
        "id": "rZsOX3lBIaxV",
        "outputId": "b2b3b3db-fb12-4720-a9fa-f638204dbcb2"
      },
      "outputs": [
        {
          "data": {
            "text/html": [
              "\n",
              "  <div id=\"df-d60ec892-2f1a-4faa-8ad0-9fade9f5cc41\">\n",
              "    <div class=\"colab-df-container\">\n",
              "      <div>\n",
              "<style scoped>\n",
              "    .dataframe tbody tr th:only-of-type {\n",
              "        vertical-align: middle;\n",
              "    }\n",
              "\n",
              "    .dataframe tbody tr th {\n",
              "        vertical-align: top;\n",
              "    }\n",
              "\n",
              "    .dataframe thead th {\n",
              "        text-align: right;\n",
              "    }\n",
              "</style>\n",
              "<table border=\"1\" class=\"dataframe\">\n",
              "  <thead>\n",
              "    <tr style=\"text-align: right;\">\n",
              "      <th></th>\n",
              "      <th>Location</th>\n",
              "      <th>Rainfall</th>\n",
              "      <th>WindGustDir</th>\n",
              "      <th>WindGustSpeed</th>\n",
              "      <th>RainToday</th>\n",
              "      <th>RainTomorrow</th>\n",
              "      <th>Month</th>\n",
              "      <th>Year</th>\n",
              "      <th>Average Temp</th>\n",
              "      <th>Average Humidity</th>\n",
              "    </tr>\n",
              "  </thead>\n",
              "  <tbody>\n",
              "    <tr>\n",
              "      <th>0</th>\n",
              "      <td>1</td>\n",
              "      <td>0.6</td>\n",
              "      <td>13</td>\n",
              "      <td>44.0</td>\n",
              "      <td>0</td>\n",
              "      <td>0</td>\n",
              "      <td>12</td>\n",
              "      <td>2008</td>\n",
              "      <td>18.15</td>\n",
              "      <td>46.5</td>\n",
              "    </tr>\n",
              "    <tr>\n",
              "      <th>1</th>\n",
              "      <td>1</td>\n",
              "      <td>0.0</td>\n",
              "      <td>14</td>\n",
              "      <td>44.0</td>\n",
              "      <td>0</td>\n",
              "      <td>0</td>\n",
              "      <td>12</td>\n",
              "      <td>2008</td>\n",
              "      <td>16.25</td>\n",
              "      <td>34.5</td>\n",
              "    </tr>\n",
              "    <tr>\n",
              "      <th>2</th>\n",
              "      <td>1</td>\n",
              "      <td>0.0</td>\n",
              "      <td>15</td>\n",
              "      <td>46.0</td>\n",
              "      <td>0</td>\n",
              "      <td>0</td>\n",
              "      <td>12</td>\n",
              "      <td>2008</td>\n",
              "      <td>19.30</td>\n",
              "      <td>34.0</td>\n",
              "    </tr>\n",
              "    <tr>\n",
              "      <th>3</th>\n",
              "      <td>1</td>\n",
              "      <td>0.0</td>\n",
              "      <td>4</td>\n",
              "      <td>24.0</td>\n",
              "      <td>0</td>\n",
              "      <td>0</td>\n",
              "      <td>12</td>\n",
              "      <td>2008</td>\n",
              "      <td>18.60</td>\n",
              "      <td>30.5</td>\n",
              "    </tr>\n",
              "    <tr>\n",
              "      <th>4</th>\n",
              "      <td>1</td>\n",
              "      <td>1.0</td>\n",
              "      <td>13</td>\n",
              "      <td>41.0</td>\n",
              "      <td>0</td>\n",
              "      <td>0</td>\n",
              "      <td>12</td>\n",
              "      <td>2008</td>\n",
              "      <td>24.90</td>\n",
              "      <td>57.5</td>\n",
              "    </tr>\n",
              "    <tr>\n",
              "      <th>...</th>\n",
              "      <td>...</td>\n",
              "      <td>...</td>\n",
              "      <td>...</td>\n",
              "      <td>...</td>\n",
              "      <td>...</td>\n",
              "      <td>...</td>\n",
              "      <td>...</td>\n",
              "      <td>...</td>\n",
              "      <td>...</td>\n",
              "      <td>...</td>\n",
              "    </tr>\n",
              "    <tr>\n",
              "      <th>145454</th>\n",
              "      <td>39</td>\n",
              "      <td>0.0</td>\n",
              "      <td>0</td>\n",
              "      <td>31.0</td>\n",
              "      <td>0</td>\n",
              "      <td>0</td>\n",
              "      <td>6</td>\n",
              "      <td>2017</td>\n",
              "      <td>12.65</td>\n",
              "      <td>43.0</td>\n",
              "    </tr>\n",
              "    <tr>\n",
              "      <th>145455</th>\n",
              "      <td>39</td>\n",
              "      <td>0.0</td>\n",
              "      <td>0</td>\n",
              "      <td>31.0</td>\n",
              "      <td>0</td>\n",
              "      <td>0</td>\n",
              "      <td>6</td>\n",
              "      <td>2017</td>\n",
              "      <td>13.10</td>\n",
              "      <td>37.5</td>\n",
              "    </tr>\n",
              "    <tr>\n",
              "      <th>145456</th>\n",
              "      <td>39</td>\n",
              "      <td>0.0</td>\n",
              "      <td>6</td>\n",
              "      <td>22.0</td>\n",
              "      <td>0</td>\n",
              "      <td>0</td>\n",
              "      <td>6</td>\n",
              "      <td>2017</td>\n",
              "      <td>14.45</td>\n",
              "      <td>38.5</td>\n",
              "    </tr>\n",
              "    <tr>\n",
              "      <th>145457</th>\n",
              "      <td>39</td>\n",
              "      <td>0.0</td>\n",
              "      <td>3</td>\n",
              "      <td>37.0</td>\n",
              "      <td>0</td>\n",
              "      <td>0</td>\n",
              "      <td>6</td>\n",
              "      <td>2017</td>\n",
              "      <td>16.15</td>\n",
              "      <td>38.5</td>\n",
              "    </tr>\n",
              "    <tr>\n",
              "      <th>145458</th>\n",
              "      <td>39</td>\n",
              "      <td>0.0</td>\n",
              "      <td>9</td>\n",
              "      <td>28.0</td>\n",
              "      <td>0</td>\n",
              "      <td>0</td>\n",
              "      <td>6</td>\n",
              "      <td>2017</td>\n",
              "      <td>17.40</td>\n",
              "      <td>37.5</td>\n",
              "    </tr>\n",
              "  </tbody>\n",
              "</table>\n",
              "<p>121004 rows × 10 columns</p>\n",
              "</div>\n",
              "      <button class=\"colab-df-convert\" onclick=\"convertToInteractive('df-d60ec892-2f1a-4faa-8ad0-9fade9f5cc41')\"\n",
              "              title=\"Convert this dataframe to an interactive table.\"\n",
              "              style=\"display:none;\">\n",
              "        \n",
              "  <svg xmlns=\"http://www.w3.org/2000/svg\" height=\"24px\"viewBox=\"0 0 24 24\"\n",
              "       width=\"24px\">\n",
              "    <path d=\"M0 0h24v24H0V0z\" fill=\"none\"/>\n",
              "    <path d=\"M18.56 5.44l.94 2.06.94-2.06 2.06-.94-2.06-.94-.94-2.06-.94 2.06-2.06.94zm-11 1L8.5 8.5l.94-2.06 2.06-.94-2.06-.94L8.5 2.5l-.94 2.06-2.06.94zm10 10l.94 2.06.94-2.06 2.06-.94-2.06-.94-.94-2.06-.94 2.06-2.06.94z\"/><path d=\"M17.41 7.96l-1.37-1.37c-.4-.4-.92-.59-1.43-.59-.52 0-1.04.2-1.43.59L10.3 9.45l-7.72 7.72c-.78.78-.78 2.05 0 2.83L4 21.41c.39.39.9.59 1.41.59.51 0 1.02-.2 1.41-.59l7.78-7.78 2.81-2.81c.8-.78.8-2.07 0-2.86zM5.41 20L4 18.59l7.72-7.72 1.47 1.35L5.41 20z\"/>\n",
              "  </svg>\n",
              "      </button>\n",
              "      \n",
              "  <style>\n",
              "    .colab-df-container {\n",
              "      display:flex;\n",
              "      flex-wrap:wrap;\n",
              "      gap: 12px;\n",
              "    }\n",
              "\n",
              "    .colab-df-convert {\n",
              "      background-color: #E8F0FE;\n",
              "      border: none;\n",
              "      border-radius: 50%;\n",
              "      cursor: pointer;\n",
              "      display: none;\n",
              "      fill: #1967D2;\n",
              "      height: 32px;\n",
              "      padding: 0 0 0 0;\n",
              "      width: 32px;\n",
              "    }\n",
              "\n",
              "    .colab-df-convert:hover {\n",
              "      background-color: #E2EBFA;\n",
              "      box-shadow: 0px 1px 2px rgba(60, 64, 67, 0.3), 0px 1px 3px 1px rgba(60, 64, 67, 0.15);\n",
              "      fill: #174EA6;\n",
              "    }\n",
              "\n",
              "    [theme=dark] .colab-df-convert {\n",
              "      background-color: #3B4455;\n",
              "      fill: #D2E3FC;\n",
              "    }\n",
              "\n",
              "    [theme=dark] .colab-df-convert:hover {\n",
              "      background-color: #434B5C;\n",
              "      box-shadow: 0px 1px 3px 1px rgba(0, 0, 0, 0.15);\n",
              "      filter: drop-shadow(0px 1px 2px rgba(0, 0, 0, 0.3));\n",
              "      fill: #FFFFFF;\n",
              "    }\n",
              "  </style>\n",
              "\n",
              "      <script>\n",
              "        const buttonEl =\n",
              "          document.querySelector('#df-d60ec892-2f1a-4faa-8ad0-9fade9f5cc41 button.colab-df-convert');\n",
              "        buttonEl.style.display =\n",
              "          google.colab.kernel.accessAllowed ? 'block' : 'none';\n",
              "\n",
              "        async function convertToInteractive(key) {\n",
              "          const element = document.querySelector('#df-d60ec892-2f1a-4faa-8ad0-9fade9f5cc41');\n",
              "          const dataTable =\n",
              "            await google.colab.kernel.invokeFunction('convertToInteractive',\n",
              "                                                     [key], {});\n",
              "          if (!dataTable) return;\n",
              "\n",
              "          const docLinkHtml = 'Like what you see? Visit the ' +\n",
              "            '<a target=\"_blank\" href=https://colab.research.google.com/notebooks/data_table.ipynb>data table notebook</a>'\n",
              "            + ' to learn more about interactive tables.';\n",
              "          element.innerHTML = '';\n",
              "          dataTable['output_type'] = 'display_data';\n",
              "          await google.colab.output.renderOutput(dataTable, element);\n",
              "          const docLink = document.createElement('div');\n",
              "          docLink.innerHTML = docLinkHtml;\n",
              "          element.appendChild(docLink);\n",
              "        }\n",
              "      </script>\n",
              "    </div>\n",
              "  </div>\n",
              "  "
            ],
            "text/plain": [
              "        Location  Rainfall  WindGustDir  ...  Year  Average Temp  Average Humidity\n",
              "0              1       0.6           13  ...  2008         18.15              46.5\n",
              "1              1       0.0           14  ...  2008         16.25              34.5\n",
              "2              1       0.0           15  ...  2008         19.30              34.0\n",
              "3              1       0.0            4  ...  2008         18.60              30.5\n",
              "4              1       1.0           13  ...  2008         24.90              57.5\n",
              "...          ...       ...          ...  ...   ...           ...               ...\n",
              "145454        39       0.0            0  ...  2017         12.65              43.0\n",
              "145455        39       0.0            0  ...  2017         13.10              37.5\n",
              "145456        39       0.0            6  ...  2017         14.45              38.5\n",
              "145457        39       0.0            3  ...  2017         16.15              38.5\n",
              "145458        39       0.0            9  ...  2017         17.40              37.5\n",
              "\n",
              "[121004 rows x 10 columns]"
            ]
          },
          "execution_count": 80,
          "metadata": {},
          "output_type": "execute_result"
        }
      ],
      "source": [
        "rain_rf"
      ]
    },
    {
      "cell_type": "code",
      "execution_count": null,
      "metadata": {
        "colab": {
          "base_uri": "https://localhost:8080/"
        },
        "id": "nU24lH0WJmSR",
        "outputId": "0c4170a5-7984-4504-bdf6-9b5915a01e6b"
      },
      "outputs": [
        {
          "data": {
            "text/plain": [
              "RandomForestClassifier(random_state=1)"
            ]
          },
          "execution_count": 111,
          "metadata": {},
          "output_type": "execute_result"
        }
      ],
      "source": [
        "from sklearn.model_selection import train_test_split\n",
        "X= rain_rf.drop(['Rainfall','RainTomorrow','Month','Year'],axis=1)\n",
        "y= rain_rf['RainTomorrow']\n",
        "X_train,X_test,y_train,y_test= train_test_split(X,y,test_size=0.3,stratify=y,random_state=1)\n",
        "train_oversample= RandomOverSampler(sampling_strategy=0.5)\n",
        "X_train,y_train= train_oversample.fit_resample(X_train,y_train)\n",
        "rf_clf= RandomForestClassifier(random_state=1)\n",
        "rf_clf.fit(X_train,y_train)"
      ]
    },
    {
      "cell_type": "code",
      "execution_count": null,
      "metadata": {
        "id": "aZwLgMFhMcrK"
      },
      "outputs": [],
      "source": [
        "y_pred= rf_clf.predict(X_test)\n",
        "y_prob= rf_clf.predict_proba(X_test)"
      ]
    },
    {
      "cell_type": "code",
      "execution_count": null,
      "metadata": {
        "colab": {
          "base_uri": "https://localhost:8080/",
          "height": 351
        },
        "id": "LQjEZqDPMrei",
        "outputId": "c22a7794-351b-4410-9d88-c73f830f6c0c"
      },
      "outputs": [
        {
          "name": "stderr",
          "output_type": "stream",
          "text": [
            "/usr/local/lib/python3.7/dist-packages/sklearn/utils/deprecation.py:87: FutureWarning: Function plot_confusion_matrix is deprecated; Function `plot_confusion_matrix` is deprecated in 1.0 and will be removed in 1.2. Use one of the class methods: ConfusionMatrixDisplay.from_predictions or ConfusionMatrixDisplay.from_estimator.\n",
            "  warnings.warn(msg, category=FutureWarning)\n"
          ]
        },
        {
          "data": {
            "text/plain": [
              "<sklearn.metrics._plot.confusion_matrix.ConfusionMatrixDisplay at 0x7f4d80405b90>"
            ]
          },
          "execution_count": 91,
          "metadata": {},
          "output_type": "execute_result"
        },
        {
          "data": {
            "image/png": "[encoded data removed]",
            "text/plain": [
              "<Figure size 432x288 with 2 Axes>"
            ]
          },
          "metadata": {},
          "output_type": "display_data"
        }
      ],
      "source": [
        "from sklearn.metrics import plot_confusion_matrix,classification_report\n",
        "plot_confusion_matrix(rf_clf,X_test,y_test)"
      ]
    },
    {
      "cell_type": "code",
      "execution_count": null,
      "metadata": {
        "colab": {
          "base_uri": "https://localhost:8080/"
        },
        "id": "NiAuqo2MMwrD",
        "outputId": "445c96fe-372e-4c22-91d0-f98dcceda26a"
      },
      "outputs": [
        {
          "name": "stdout",
          "output_type": "stream",
          "text": [
            "              precision    recall  f1-score   support\n",
            "\n",
            "           0       0.87      0.92      0.90     28259\n",
            "           1       0.66      0.52      0.58      8043\n",
            "\n",
            "    accuracy                           0.83     36302\n",
            "   macro avg       0.77      0.72      0.74     36302\n",
            "weighted avg       0.82      0.83      0.83     36302\n",
            "\n"
          ]
        }
      ],
      "source": [
        "print(classification_report(y_test,y_pred))"
      ]
    },
    {
      "cell_type": "code",
      "execution_count": null,
      "metadata": {
        "colab": {
          "base_uri": "https://localhost:8080/"
        },
        "id": "Y_WKRXziM3Yo",
        "outputId": "8aa38121-a395-485a-ab88-dc30eaec8025"
      },
      "outputs": [
        {
          "name": "stdout",
          "output_type": "stream",
          "text": [
            "Fitting 5 folds for each of 15 candidates, totalling 75 fits\n",
            "[CV 1/5; 1/15] START criterion=entropy, max_depth=20, min_samples_leaf=250, n_estimators=100\n",
            "[CV 1/5; 1/15] END criterion=entropy, max_depth=20, min_samples_leaf=250, n_estimators=100;, score=(train=0.576, test=0.563) total time=   9.8s\n",
            "[CV 2/5; 1/15] START criterion=entropy, max_depth=20, min_samples_leaf=250, n_estimators=100\n",
            "[CV 2/5; 1/15] END criterion=entropy, max_depth=20, min_samples_leaf=250, n_estimators=100;, score=(train=0.571, test=0.568) total time=   6.0s\n",
            "[CV 3/5; 1/15] START criterion=entropy, max_depth=20, min_samples_leaf=250, n_estimators=100\n",
            "[CV 3/5; 1/15] END criterion=entropy, max_depth=20, min_samples_leaf=250, n_estimators=100;, score=(train=0.577, test=0.564) total time=   6.0s\n",
            "[CV 4/5; 1/15] START criterion=entropy, max_depth=20, min_samples_leaf=250, n_estimators=100\n",
            "[CV 4/5; 1/15] END criterion=entropy, max_depth=20, min_samples_leaf=250, n_estimators=100;, score=(train=0.571, test=0.575) total time=   5.8s\n",
            "[CV 5/5; 1/15] START criterion=entropy, max_depth=20, min_samples_leaf=250, n_estimators=100\n",
            "[CV 5/5; 1/15] END criterion=entropy, max_depth=20, min_samples_leaf=250, n_estimators=100;, score=(train=0.568, test=0.571) total time=   6.0s\n",
            "[CV 1/5; 2/15] START criterion=entropy, max_depth=10, min_samples_leaf=100, n_estimators=900\n",
            "[CV 1/5; 2/15] END criterion=entropy, max_depth=10, min_samples_leaf=100, n_estimators=900;, score=(train=0.594, test=0.577) total time=  57.6s\n",
            "[CV 2/5; 2/15] START criterion=entropy, max_depth=10, min_samples_leaf=100, n_estimators=900\n",
            "[CV 2/5; 2/15] END criterion=entropy, max_depth=10, min_samples_leaf=100, n_estimators=900;, score=(train=0.587, test=0.581) total time=  58.8s\n",
            "[CV 3/5; 2/15] START criterion=entropy, max_depth=10, min_samples_leaf=100, n_estimators=900\n",
            "[CV 3/5; 2/15] END criterion=entropy, max_depth=10, min_samples_leaf=100, n_estimators=900;, score=(train=0.592, test=0.576) total time=  57.8s\n",
            "[CV 4/5; 2/15] START criterion=entropy, max_depth=10, min_samples_leaf=100, n_estimators=900\n",
            "[CV 4/5; 2/15] END criterion=entropy, max_depth=10, min_samples_leaf=100, n_estimators=900;, score=(train=0.585, test=0.584) total time=  58.5s\n",
            "[CV 5/5; 2/15] START criterion=entropy, max_depth=10, min_samples_leaf=100, n_estimators=900\n",
            "[CV 5/5; 2/15] END criterion=entropy, max_depth=10, min_samples_leaf=100, n_estimators=900;, score=(train=0.584, test=0.589) total time=  59.0s\n",
            "[CV 1/5; 3/15] START criterion=gini, max_depth=10, min_samples_leaf=300, n_estimators=100\n",
            "[CV 1/5; 3/15] END criterion=gini, max_depth=10, min_samples_leaf=300, n_estimators=100;, score=(train=0.576, test=0.566) total time=   5.6s\n",
            "[CV 2/5; 3/15] START criterion=gini, max_depth=10, min_samples_leaf=300, n_estimators=100\n",
            "[CV 2/5; 3/15] END criterion=gini, max_depth=10, min_samples_leaf=300, n_estimators=100;, score=(train=0.568, test=0.568) total time=   5.7s\n",
            "[CV 3/5; 3/15] START criterion=gini, max_depth=10, min_samples_leaf=300, n_estimators=100\n",
            "[CV 3/5; 3/15] END criterion=gini, max_depth=10, min_samples_leaf=300, n_estimators=100;, score=(train=0.573, test=0.562) total time=   5.7s\n",
            "[CV 4/5; 3/15] START criterion=gini, max_depth=10, min_samples_leaf=300, n_estimators=100\n",
            "[CV 4/5; 3/15] END criterion=gini, max_depth=10, min_samples_leaf=300, n_estimators=100;, score=(train=0.568, test=0.569) total time=   5.6s\n",
            "[CV 5/5; 3/15] START criterion=gini, max_depth=10, min_samples_leaf=300, n_estimators=100\n",
            "[CV 5/5; 3/15] END criterion=gini, max_depth=10, min_samples_leaf=300, n_estimators=100;, score=(train=0.567, test=0.569) total time=   5.9s\n",
            "[CV 1/5; 4/15] START criterion=gini, max_depth=10, min_samples_leaf=350, n_estimators=1300\n",
            "[CV 1/5; 4/15] END criterion=gini, max_depth=10, min_samples_leaf=350, n_estimators=1300;, score=(train=0.570, test=0.561) total time= 1.2min\n",
            "[CV 2/5; 4/15] START criterion=gini, max_depth=10, min_samples_leaf=350, n_estimators=1300\n",
            "[CV 2/5; 4/15] END criterion=gini, max_depth=10, min_samples_leaf=350, n_estimators=1300;, score=(train=0.566, test=0.566) total time= 1.2min\n",
            "[CV 3/5; 4/15] START criterion=gini, max_depth=10, min_samples_leaf=350, n_estimators=1300\n",
            "[CV 3/5; 4/15] END criterion=gini, max_depth=10, min_samples_leaf=350, n_estimators=1300;, score=(train=0.573, test=0.563) total time= 1.2min\n",
            "[CV 4/5; 4/15] START criterion=gini, max_depth=10, min_samples_leaf=350, n_estimators=1300\n",
            "[CV 4/5; 4/15] END criterion=gini, max_depth=10, min_samples_leaf=350, n_estimators=1300;, score=(train=0.566, test=0.568) total time= 1.2min\n",
            "[CV 5/5; 4/15] START criterion=gini, max_depth=10, min_samples_leaf=350, n_estimators=1300\n",
            "[CV 5/5; 4/15] END criterion=gini, max_depth=10, min_samples_leaf=350, n_estimators=1300;, score=(train=0.568, test=0.571) total time= 1.2min\n",
            "[CV 1/5; 5/15] START criterion=entropy, max_depth=10, min_samples_leaf=350, n_estimators=900\n",
            "[CV 1/5; 5/15] END criterion=entropy, max_depth=10, min_samples_leaf=350, n_estimators=900;, score=(train=0.572, test=0.562) total time=  49.4s\n",
            "[CV 2/5; 5/15] START criterion=entropy, max_depth=10, min_samples_leaf=350, n_estimators=900\n",
            "[CV 2/5; 5/15] END criterion=entropy, max_depth=10, min_samples_leaf=350, n_estimators=900;, score=(train=0.563, test=0.564) total time=  48.2s\n",
            "[CV 3/5; 5/15] START criterion=entropy, max_depth=10, min_samples_leaf=350, n_estimators=900\n",
            "[CV 3/5; 5/15] END criterion=entropy, max_depth=10, min_samples_leaf=350, n_estimators=900;, score=(train=0.571, test=0.560) total time=  48.3s\n",
            "[CV 4/5; 5/15] START criterion=entropy, max_depth=10, min_samples_leaf=350, n_estimators=900\n",
            "[CV 4/5; 5/15] END criterion=entropy, max_depth=10, min_samples_leaf=350, n_estimators=900;, score=(train=0.564, test=0.566) total time=  48.6s\n",
            "[CV 5/5; 5/15] START criterion=entropy, max_depth=10, min_samples_leaf=350, n_estimators=900\n",
            "[CV 5/5; 5/15] END criterion=entropy, max_depth=10, min_samples_leaf=350, n_estimators=900;, score=(train=0.564, test=0.567) total time=  48.4s\n",
            "[CV 1/5; 6/15] START criterion=gini, max_depth=3, min_samples_leaf=150, n_estimators=100\n",
            "[CV 1/5; 6/15] END criterion=gini, max_depth=3, min_samples_leaf=150, n_estimators=100;, score=(train=0.474, test=0.464) total time=   3.0s\n",
            "[CV 2/5; 6/15] START criterion=gini, max_depth=3, min_samples_leaf=150, n_estimators=100\n",
            "[CV 2/5; 6/15] END criterion=gini, max_depth=3, min_samples_leaf=150, n_estimators=100;, score=(train=0.471, test=0.475) total time=   3.0s\n",
            "[CV 3/5; 6/15] START criterion=gini, max_depth=3, min_samples_leaf=150, n_estimators=100\n",
            "[CV 3/5; 6/15] END criterion=gini, max_depth=3, min_samples_leaf=150, n_estimators=100;, score=(train=0.466, test=0.463) total time=   3.0s\n",
            "[CV 4/5; 6/15] START criterion=gini, max_depth=3, min_samples_leaf=150, n_estimators=100\n",
            "[CV 4/5; 6/15] END criterion=gini, max_depth=3, min_samples_leaf=150, n_estimators=100;, score=(train=0.465, test=0.464) total time=   3.0s\n",
            "[CV 5/5; 6/15] START criterion=gini, max_depth=3, min_samples_leaf=150, n_estimators=100\n",
            "[CV 5/5; 6/15] END criterion=gini, max_depth=3, min_samples_leaf=150, n_estimators=100;, score=(train=0.462, test=0.464) total time=   3.0s\n",
            "[CV 1/5; 7/15] START criterion=gini, max_depth=10, min_samples_leaf=350, n_estimators=500\n",
            "[CV 1/5; 7/15] END criterion=gini, max_depth=10, min_samples_leaf=350, n_estimators=500;, score=(train=0.569, test=0.560) total time=  26.9s\n",
            "[CV 2/5; 7/15] START criterion=gini, max_depth=10, min_samples_leaf=350, n_estimators=500\n",
            "[CV 2/5; 7/15] END criterion=gini, max_depth=10, min_samples_leaf=350, n_estimators=500;, score=(train=0.564, test=0.564) total time=  26.9s\n",
            "[CV 3/5; 7/15] START criterion=gini, max_depth=10, min_samples_leaf=350, n_estimators=500\n",
            "[CV 3/5; 7/15] END criterion=gini, max_depth=10, min_samples_leaf=350, n_estimators=500;, score=(train=0.574, test=0.564) total time=  26.3s\n",
            "[CV 4/5; 7/15] START criterion=gini, max_depth=10, min_samples_leaf=350, n_estimators=500\n",
            "[CV 4/5; 7/15] END criterion=gini, max_depth=10, min_samples_leaf=350, n_estimators=500;, score=(train=0.566, test=0.568) total time=  27.0s\n",
            "[CV 5/5; 7/15] START criterion=gini, max_depth=10, min_samples_leaf=350, n_estimators=500\n",
            "[CV 5/5; 7/15] END criterion=gini, max_depth=10, min_samples_leaf=350, n_estimators=500;, score=(train=0.569, test=0.572) total time=  26.8s\n",
            "[CV 1/5; 8/15] START criterion=gini, max_depth=5, min_samples_leaf=100, n_estimators=1300\n",
            "[CV 1/5; 8/15] END criterion=gini, max_depth=5, min_samples_leaf=100, n_estimators=1300;, score=(train=0.534, test=0.524) total time=  52.4s\n",
            "[CV 2/5; 8/15] START criterion=gini, max_depth=5, min_samples_leaf=100, n_estimators=1300\n",
            "[CV 2/5; 8/15] END criterion=gini, max_depth=5, min_samples_leaf=100, n_estimators=1300;, score=(train=0.531, test=0.534) total time=  52.3s\n",
            "[CV 3/5; 8/15] START criterion=gini, max_depth=5, min_samples_leaf=100, n_estimators=1300\n",
            "[CV 3/5; 8/15] END criterion=gini, max_depth=5, min_samples_leaf=100, n_estimators=1300;, score=(train=0.539, test=0.527) total time=  54.6s\n",
            "[CV 4/5; 8/15] START criterion=gini, max_depth=5, min_samples_leaf=100, n_estimators=1300\n",
            "[CV 4/5; 8/15] END criterion=gini, max_depth=5, min_samples_leaf=100, n_estimators=1300;, score=(train=0.529, test=0.532) total time=  57.8s\n",
            "[CV 5/5; 8/15] START criterion=gini, max_depth=5, min_samples_leaf=100, n_estimators=1300\n",
            "[CV 5/5; 8/15] END criterion=gini, max_depth=5, min_samples_leaf=100, n_estimators=1300;, score=(train=0.528, test=0.532) total time=  59.0s\n",
            "[CV 1/5; 9/15] START criterion=entropy, max_depth=8, min_samples_leaf=100, n_estimators=900\n",
            "[CV 1/5; 9/15] END criterion=entropy, max_depth=8, min_samples_leaf=100, n_estimators=900;, score=(train=0.573, test=0.559) total time=  55.6s\n",
            "[CV 2/5; 9/15] START criterion=entropy, max_depth=8, min_samples_leaf=100, n_estimators=900\n",
            "[CV 2/5; 9/15] END criterion=entropy, max_depth=8, min_samples_leaf=100, n_estimators=900;, score=(train=0.567, test=0.563) total time=  54.6s\n",
            "[CV 3/5; 9/15] START criterion=entropy, max_depth=8, min_samples_leaf=100, n_estimators=900\n",
            "[CV 3/5; 9/15] END criterion=entropy, max_depth=8, min_samples_leaf=100, n_estimators=900;, score=(train=0.576, test=0.562) total time=  54.8s\n",
            "[CV 4/5; 9/15] START criterion=entropy, max_depth=8, min_samples_leaf=100, n_estimators=900\n",
            "[CV 4/5; 9/15] END criterion=entropy, max_depth=8, min_samples_leaf=100, n_estimators=900;, score=(train=0.567, test=0.572) total time=  51.5s\n",
            "[CV 5/5; 9/15] START criterion=entropy, max_depth=8, min_samples_leaf=100, n_estimators=900\n",
            "[CV 5/5; 9/15] END criterion=entropy, max_depth=8, min_samples_leaf=100, n_estimators=900;, score=(train=0.569, test=0.573) total time=  51.6s\n",
            "[CV 1/5; 10/15] START criterion=entropy, max_depth=20, min_samples_leaf=350, n_estimators=500\n",
            "[CV 1/5; 10/15] END criterion=entropy, max_depth=20, min_samples_leaf=350, n_estimators=500;, score=(train=0.571, test=0.562) total time=  28.5s\n",
            "[CV 2/5; 10/15] START criterion=entropy, max_depth=20, min_samples_leaf=350, n_estimators=500\n",
            "[CV 2/5; 10/15] END criterion=entropy, max_depth=20, min_samples_leaf=350, n_estimators=500;, score=(train=0.563, test=0.565) total time=  28.8s\n",
            "[CV 3/5; 10/15] START criterion=entropy, max_depth=20, min_samples_leaf=350, n_estimators=500\n",
            "[CV 3/5; 10/15] END criterion=entropy, max_depth=20, min_samples_leaf=350, n_estimators=500;, score=(train=0.573, test=0.562) total time=  28.7s\n",
            "[CV 4/5; 10/15] START criterion=entropy, max_depth=20, min_samples_leaf=350, n_estimators=500\n",
            "[CV 4/5; 10/15] END criterion=entropy, max_depth=20, min_samples_leaf=350, n_estimators=500;, score=(train=0.565, test=0.566) total time=  28.6s\n",
            "[CV 5/5; 10/15] START criterion=entropy, max_depth=20, min_samples_leaf=350, n_estimators=500\n",
            "[CV 5/5; 10/15] END criterion=entropy, max_depth=20, min_samples_leaf=350, n_estimators=500;, score=(train=0.566, test=0.568) total time=  29.0s\n",
            "[CV 1/5; 11/15] START criterion=entropy, max_depth=20, min_samples_leaf=300, n_estimators=100\n",
            "[CV 1/5; 11/15] END criterion=entropy, max_depth=20, min_samples_leaf=300, n_estimators=100;, score=(train=0.575, test=0.565) total time=   6.1s\n",
            "[CV 2/5; 11/15] START criterion=entropy, max_depth=20, min_samples_leaf=300, n_estimators=100\n",
            "[CV 2/5; 11/15] END criterion=entropy, max_depth=20, min_samples_leaf=300, n_estimators=100;, score=(train=0.570, test=0.570) total time=   6.0s\n",
            "[CV 3/5; 11/15] START criterion=entropy, max_depth=20, min_samples_leaf=300, n_estimators=100\n",
            "[CV 3/5; 11/15] END criterion=entropy, max_depth=20, min_samples_leaf=300, n_estimators=100;, score=(train=0.572, test=0.561) total time=   5.9s\n",
            "[CV 4/5; 11/15] START criterion=entropy, max_depth=20, min_samples_leaf=300, n_estimators=100\n",
            "[CV 4/5; 11/15] END criterion=entropy, max_depth=20, min_samples_leaf=300, n_estimators=100;, score=(train=0.573, test=0.574) total time=   5.9s\n",
            "[CV 5/5; 11/15] START criterion=entropy, max_depth=20, min_samples_leaf=300, n_estimators=100\n",
            "[CV 5/5; 11/15] END criterion=entropy, max_depth=20, min_samples_leaf=300, n_estimators=100;, score=(train=0.571, test=0.575) total time=   5.8s\n",
            "[CV 1/5; 12/15] START criterion=entropy, max_depth=3, min_samples_leaf=100, n_estimators=1300\n",
            "[CV 1/5; 12/15] END criterion=entropy, max_depth=3, min_samples_leaf=100, n_estimators=1300;, score=(train=0.473, test=0.462) total time=  39.3s\n",
            "[CV 2/5; 12/15] START criterion=entropy, max_depth=3, min_samples_leaf=100, n_estimators=1300\n",
            "[CV 2/5; 12/15] END criterion=entropy, max_depth=3, min_samples_leaf=100, n_estimators=1300;, score=(train=0.470, test=0.473) total time=  39.0s\n",
            "[CV 3/5; 12/15] START criterion=entropy, max_depth=3, min_samples_leaf=100, n_estimators=1300\n",
            "[CV 3/5; 12/15] END criterion=entropy, max_depth=3, min_samples_leaf=100, n_estimators=1300;, score=(train=0.476, test=0.476) total time=  38.8s\n",
            "[CV 4/5; 12/15] START criterion=entropy, max_depth=3, min_samples_leaf=100, n_estimators=1300\n",
            "[CV 4/5; 12/15] END criterion=entropy, max_depth=3, min_samples_leaf=100, n_estimators=1300;, score=(train=0.472, test=0.476) total time=  39.5s\n",
            "[CV 5/5; 12/15] START criterion=entropy, max_depth=3, min_samples_leaf=100, n_estimators=1300\n",
            "[CV 5/5; 12/15] END criterion=entropy, max_depth=3, min_samples_leaf=100, n_estimators=1300;, score=(train=0.468, test=0.469) total time=  38.9s\n",
            "[CV 1/5; 13/15] START criterion=entropy, max_depth=10, min_samples_leaf=150, n_estimators=900\n",
            "[CV 1/5; 13/15] END criterion=entropy, max_depth=10, min_samples_leaf=150, n_estimators=900;, score=(train=0.585, test=0.570) total time=  54.4s\n",
            "[CV 2/5; 13/15] START criterion=entropy, max_depth=10, min_samples_leaf=150, n_estimators=900\n",
            "[CV 2/5; 13/15] END criterion=entropy, max_depth=10, min_samples_leaf=150, n_estimators=900;, score=(train=0.582, test=0.576) total time=  54.3s\n",
            "[CV 3/5; 13/15] START criterion=entropy, max_depth=10, min_samples_leaf=150, n_estimators=900\n",
            "[CV 3/5; 13/15] END criterion=entropy, max_depth=10, min_samples_leaf=150, n_estimators=900;, score=(train=0.586, test=0.574) total time=  53.8s\n",
            "[CV 4/5; 13/15] START criterion=entropy, max_depth=10, min_samples_leaf=150, n_estimators=900\n",
            "[CV 4/5; 13/15] END criterion=entropy, max_depth=10, min_samples_leaf=150, n_estimators=900;, score=(train=0.579, test=0.582) total time=  53.3s\n",
            "[CV 5/5; 13/15] START criterion=entropy, max_depth=10, min_samples_leaf=150, n_estimators=900\n",
            "[CV 5/5; 13/15] END criterion=entropy, max_depth=10, min_samples_leaf=150, n_estimators=900;, score=(train=0.578, test=0.583) total time=  53.9s\n",
            "[CV 1/5; 14/15] START criterion=gini, max_depth=5, min_samples_leaf=200, n_estimators=900\n",
            "[CV 1/5; 14/15] END criterion=gini, max_depth=5, min_samples_leaf=200, n_estimators=900;, score=(train=0.535, test=0.525) total time=  35.6s\n",
            "[CV 2/5; 14/15] START criterion=gini, max_depth=5, min_samples_leaf=200, n_estimators=900\n",
            "[CV 2/5; 14/15] END criterion=gini, max_depth=5, min_samples_leaf=200, n_estimators=900;, score=(train=0.530, test=0.534) total time=  35.4s\n",
            "[CV 3/5; 14/15] START criterion=gini, max_depth=5, min_samples_leaf=200, n_estimators=900\n",
            "[CV 3/5; 14/15] END criterion=gini, max_depth=5, min_samples_leaf=200, n_estimators=900;, score=(train=0.537, test=0.525) total time=  35.6s\n",
            "[CV 4/5; 14/15] START criterion=gini, max_depth=5, min_samples_leaf=200, n_estimators=900\n",
            "[CV 4/5; 14/15] END criterion=gini, max_depth=5, min_samples_leaf=200, n_estimators=900;, score=(train=0.529, test=0.532) total time=  35.8s\n",
            "[CV 5/5; 14/15] START criterion=gini, max_depth=5, min_samples_leaf=200, n_estimators=900\n",
            "[CV 5/5; 14/15] END criterion=gini, max_depth=5, min_samples_leaf=200, n_estimators=900;, score=(train=0.527, test=0.531) total time=  35.7s\n",
            "[CV 1/5; 15/15] START criterion=entropy, max_depth=10, min_samples_leaf=300, n_estimators=100\n",
            "[CV 1/5; 15/15] END criterion=entropy, max_depth=10, min_samples_leaf=300, n_estimators=100;, score=(train=0.577, test=0.564) total time=   5.6s\n",
            "[CV 2/5; 15/15] START criterion=entropy, max_depth=10, min_samples_leaf=300, n_estimators=100\n",
            "[CV 2/5; 15/15] END criterion=entropy, max_depth=10, min_samples_leaf=300, n_estimators=100;, score=(train=0.569, test=0.567) total time=   5.6s\n",
            "[CV 3/5; 15/15] START criterion=entropy, max_depth=10, min_samples_leaf=300, n_estimators=100\n",
            "[CV 3/5; 15/15] END criterion=entropy, max_depth=10, min_samples_leaf=300, n_estimators=100;, score=(train=0.575, test=0.567) total time=   5.5s\n",
            "[CV 4/5; 15/15] START criterion=entropy, max_depth=10, min_samples_leaf=300, n_estimators=100\n",
            "[CV 4/5; 15/15] END criterion=entropy, max_depth=10, min_samples_leaf=300, n_estimators=100;, score=(train=0.566, test=0.568) total time=   5.7s\n",
            "[CV 5/5; 15/15] START criterion=entropy, max_depth=10, min_samples_leaf=300, n_estimators=100\n",
            "[CV 5/5; 15/15] END criterion=entropy, max_depth=10, min_samples_leaf=300, n_estimators=100;, score=(train=0.566, test=0.568) total time=   5.7s\n"
          ]
        },
        {
          "data": {
            "text/plain": [
              "RandomizedSearchCV(cv=5, error_score=0,\n",
              "                   estimator=RandomForestClassifier(random_state=1), n_iter=15,\n",
              "                   param_distributions={'criterion': ['gini', 'entropy'],\n",
              "                                        'max_depth': [3, 5, 8, 10, 20],\n",
              "                                        'min_samples_leaf': [100, 150, 200, 250,\n",
              "                                                             300, 350],\n",
              "                                        'n_estimators': [100, 500, 900, 1300]},\n",
              "                   random_state=1, return_train_score=True, scoring='recall',\n",
              "                   verbose=10)"
            ]
          },
          "execution_count": 48,
          "metadata": {},
          "output_type": "execute_result"
        }
      ],
      "source": [
        "from sklearn.model_selection import RandomizedSearchCV\n",
        "cv=5\n",
        "estimator= RandomForestClassifier(random_state=1)\n",
        "param= {'n_estimators':[i for i in range(100,1500,400)],'criterion':['gini', 'entropy'],'max_depth':[3,5,8,10,20],'min_samples_leaf':[i for i in range(100,400,50)]}\n",
        "random_rf_model= RandomizedSearchCV(estimator=estimator,param_distributions=param,cv=cv,scoring='recall',n_iter=15,verbose=10,error_score=0,return_train_score=True,random_state=1)\n",
        "random_rf_model.fit(X_train,y_train)\n"
      ]
    },
    {
      "cell_type": "code",
      "execution_count": null,
      "metadata": {
        "colab": {
          "base_uri": "https://localhost:8080/"
        },
        "id": "cgHyuXUxTmyt",
        "outputId": "2c17ba20-f669-40f7-d717-b8491606b388"
      },
      "outputs": [
        {
          "data": {
            "text/plain": [
              "{'criterion': 'entropy',\n",
              " 'max_depth': 10,\n",
              " 'min_samples_leaf': 100,\n",
              " 'n_estimators': 900}"
            ]
          },
          "execution_count": 49,
          "metadata": {},
          "output_type": "execute_result"
        }
      ],
      "source": [
        "random_rf_model.best_params_"
      ]
    },
    {
      "cell_type": "code",
      "execution_count": null,
      "metadata": {
        "colab": {
          "base_uri": "https://localhost:8080/"
        },
        "id": "AEFkgvb2TrQa",
        "outputId": "b8223a8b-02cb-4a4e-fca7-9219c9719498"
      },
      "outputs": [
        {
          "data": {
            "text/plain": [
              "RandomForestClassifier(criterion='entropy', max_depth=10, min_samples_leaf=100,\n",
              "                       n_estimators=900, random_state=1)"
            ]
          },
          "execution_count": 97,
          "metadata": {},
          "output_type": "execute_result"
        }
      ],
      "source": [
        "rf_model= RandomForestClassifier(criterion='entropy',max_depth=10,min_samples_leaf=100,n_estimators=900,random_state=1)\n",
        "rf_model.fit(X_train,y_train)"
      ]
    },
    {
      "cell_type": "code",
      "execution_count": null,
      "metadata": {
        "id": "B2IfOYwCTzqs"
      },
      "outputs": [],
      "source": [
        "y_pred=rf_model.predict(X_test) \n",
        "y_prob= rf_model.predict_proba(X_test)\n"
      ]
    },
    {
      "cell_type": "code",
      "execution_count": null,
      "metadata": {
        "colab": {
          "base_uri": "https://localhost:8080/"
        },
        "id": "FsdnByqK8YtL",
        "outputId": "87c3253a-d1db-42ab-e405-4b6dbe76a8a2"
      },
      "outputs": [
        {
          "name": "stdout",
          "output_type": "stream",
          "text": [
            "0.827915817310341\n"
          ]
        }
      ],
      "source": [
        "from sklearn.metrics import accuracy_score\n",
        "print(accuracy_score(y_test,y_pred))"
      ]
    },
    {
      "cell_type": "code",
      "execution_count": null,
      "metadata": {
        "colab": {
          "base_uri": "https://localhost:8080/"
        },
        "id": "bDaZ_P5P8k-h",
        "outputId": "8c80d53d-228e-46a4-cfe2-bd8375f6cd2c"
      },
      "outputs": [
        {
          "name": "stdout",
          "output_type": "stream",
          "text": [
            "0.801377134710468\n"
          ]
        }
      ],
      "source": [
        "y_trainpred= rf_model.predict(X_train)\n",
        "print(accuracy_score(y_train,y_trainpred))"
      ]
    },
    {
      "cell_type": "code",
      "execution_count": null,
      "metadata": {
        "colab": {
          "base_uri": "https://localhost:8080/",
          "height": 351
        },
        "id": "crnNRudMUVYQ",
        "outputId": "8a3d7165-e714-4f79-8b36-f4319331bf00"
      },
      "outputs": [
        {
          "name": "stderr",
          "output_type": "stream",
          "text": [
            "/usr/local/lib/python3.7/dist-packages/sklearn/utils/deprecation.py:87: FutureWarning: Function plot_confusion_matrix is deprecated; Function `plot_confusion_matrix` is deprecated in 1.0 and will be removed in 1.2. Use one of the class methods: ConfusionMatrixDisplay.from_predictions or ConfusionMatrixDisplay.from_estimator.\n",
            "  warnings.warn(msg, category=FutureWarning)\n"
          ]
        },
        {
          "data": {
            "text/plain": [
              "<sklearn.metrics._plot.confusion_matrix.ConfusionMatrixDisplay at 0x7f4d802cde90>"
            ]
          },
          "execution_count": 101,
          "metadata": {},
          "output_type": "execute_result"
        },
        {
          "data": {
            "image/png": "[encoded data removed]",
            "text/plain": [
              "<Figure size 432x288 with 2 Axes>"
            ]
          },
          "metadata": {},
          "output_type": "display_data"
        }
      ],
      "source": [
        "plot_confusion_matrix(rf_model,X_test,y_test)"
      ]
    },
    {
      "cell_type": "code",
      "execution_count": null,
      "metadata": {
        "colab": {
          "base_uri": "https://localhost:8080/"
        },
        "id": "dbsRE5Y8Udd3",
        "outputId": "8ad30a84-a38b-4ba7-8c76-1674a7274173"
      },
      "outputs": [
        {
          "name": "stdout",
          "output_type": "stream",
          "text": [
            "              precision    recall  f1-score   support\n",
            "\n",
            "           0       0.88      0.90      0.89     28259\n",
            "           1       0.62      0.57      0.60      8043\n",
            "\n",
            "    accuracy                           0.83     36302\n",
            "   macro avg       0.75      0.74      0.74     36302\n",
            "weighted avg       0.82      0.83      0.83     36302\n",
            "\n"
          ]
        }
      ],
      "source": [
        "print(classification_report(y_test,y_pred))"
      ]
    },
    {
      "cell_type": "markdown",
      "metadata": {
        "id": "shzg9_xZizd7"
      },
      "source": [
        "#### Random Forest classifier was almost nearer to the results of logistic regression "
      ]
    },
    {
      "cell_type": "markdown",
      "metadata": {
        "id": "slLwsedGkuJT"
      },
      "source": [
        "### Adaboost classifier"
      ]
    },
    {
      "cell_type": "code",
      "execution_count": null,
      "metadata": {
        "colab": {
          "base_uri": "https://localhost:8080/"
        },
        "id": "c3mfaDUxkstt",
        "outputId": "b9e5d295-fcc9-4f7a-8192-881f92231fc3"
      },
      "outputs": [
        {
          "data": {
            "text/plain": [
              "AdaBoostClassifier(learning_rate=1.5, n_estimators=100, random_state=1)"
            ]
          },
          "execution_count": 112,
          "metadata": {},
          "output_type": "execute_result"
        }
      ],
      "source": [
        "from sklearn.ensemble import AdaBoostClassifier\n",
        "\n",
        "adaboost_clf=AdaBoostClassifier(n_estimators=100,random_state=1,learning_rate=1.5)\n",
        "adaboost_clf.fit(X_train,y_train)\n",
        "\n",
        "\n"
      ]
    },
    {
      "cell_type": "code",
      "execution_count": null,
      "metadata": {
        "colab": {
          "base_uri": "https://localhost:8080/",
          "height": 354
        },
        "id": "WFM6yoOFmMN0",
        "outputId": "61a41c41-2fd2-4cd9-ff3e-986362783de1"
      },
      "outputs": [
        {
          "name": "stderr",
          "output_type": "stream",
          "text": [
            "/usr/local/lib/python3.7/dist-packages/sklearn/utils/deprecation.py:87: FutureWarning: Function plot_confusion_matrix is deprecated; Function `plot_confusion_matrix` is deprecated in 1.0 and will be removed in 1.2. Use one of the class methods: ConfusionMatrixDisplay.from_predictions or ConfusionMatrixDisplay.from_estimator.\n",
            "  warnings.warn(msg, category=FutureWarning)\n"
          ]
        },
        {
          "data": {
            "text/plain": [
              "<sklearn.metrics._plot.confusion_matrix.ConfusionMatrixDisplay at 0x7f4d77077490>"
            ]
          },
          "execution_count": 113,
          "metadata": {},
          "output_type": "execute_result"
        },
        {
          "data": {
            "image/png": "[encoded data removed]",
            "text/plain": [
              "<Figure size 432x288 with 2 Axes>"
            ]
          },
          "metadata": {},
          "output_type": "display_data"
        }
      ],
      "source": [
        "y_pred= adaboost_clf.predict(X_test)\n",
        "y_prob= adaboost_clf.predict_proba(X_test)\n",
        "plot_confusion_matrix(adaboost_clf,X_test,y_test)"
      ]
    },
    {
      "cell_type": "code",
      "execution_count": null,
      "metadata": {
        "colab": {
          "base_uri": "https://localhost:8080/"
        },
        "id": "Ij8HgAslmmY-",
        "outputId": "624208ed-78e6-4961-e6a1-d5d9ae84d75c"
      },
      "outputs": [
        {
          "name": "stdout",
          "output_type": "stream",
          "text": [
            "              precision    recall  f1-score   support\n",
            "\n",
            "           0       0.89      0.89      0.89     28259\n",
            "           1       0.61      0.60      0.60      8043\n",
            "\n",
            "    accuracy                           0.83     36302\n",
            "   macro avg       0.75      0.74      0.75     36302\n",
            "weighted avg       0.82      0.83      0.82     36302\n",
            "\n"
          ]
        }
      ],
      "source": [
        "print(classification_report(y_test,y_pred))"
      ]
    },
    {
      "cell_type": "code",
      "execution_count": null,
      "metadata": {
        "colab": {
          "base_uri": "https://localhost:8080/"
        },
        "id": "-plyEC5Nmyj9",
        "outputId": "d89c7716-c16f-4142-9062-920261b2f859"
      },
      "outputs": [
        {
          "name": "stdout",
          "output_type": "stream",
          "text": [
            "Fitting 5 folds for each of 6 candidates, totalling 30 fits\n",
            "[CV 1/5; 1/6] START base_estimator__max_depth=3, learning_rate=2.5, n_estimators=600\n",
            "[CV 1/5; 1/6] END base_estimator__max_depth=3, learning_rate=2.5, n_estimators=600;, score=(train=0.285, test=0.292) total time= 1.3min\n",
            "[CV 2/5; 1/6] START base_estimator__max_depth=3, learning_rate=2.5, n_estimators=600\n",
            "[CV 2/5; 1/6] END base_estimator__max_depth=3, learning_rate=2.5, n_estimators=600;, score=(train=0.264, test=0.261) total time=  35.0s\n",
            "[CV 3/5; 1/6] START base_estimator__max_depth=3, learning_rate=2.5, n_estimators=600\n",
            "[CV 3/5; 1/6] END base_estimator__max_depth=3, learning_rate=2.5, n_estimators=600;, score=(train=0.335, test=0.330) total time=  50.2s\n",
            "[CV 4/5; 1/6] START base_estimator__max_depth=3, learning_rate=2.5, n_estimators=600\n",
            "[CV 4/5; 1/6] END base_estimator__max_depth=3, learning_rate=2.5, n_estimators=600;, score=(train=0.335, test=0.336) total time=  44.2s\n",
            "[CV 5/5; 1/6] START base_estimator__max_depth=3, learning_rate=2.5, n_estimators=600\n",
            "[CV 5/5; 1/6] END base_estimator__max_depth=3, learning_rate=2.5, n_estimators=600;, score=(train=0.361, test=0.365) total time= 2.6min\n",
            "[CV 1/5; 2/6] START base_estimator__max_depth=8, learning_rate=2.5, n_estimators=1000\n",
            "[CV 1/5; 2/6] END base_estimator__max_depth=8, learning_rate=2.5, n_estimators=1000;, score=(train=0.520, test=0.511) total time= 1.1min\n",
            "[CV 2/5; 2/6] START base_estimator__max_depth=8, learning_rate=2.5, n_estimators=1000\n",
            "[CV 2/5; 2/6] END base_estimator__max_depth=8, learning_rate=2.5, n_estimators=1000;, score=(train=0.421, test=0.404) total time= 1.1min\n",
            "[CV 3/5; 2/6] START base_estimator__max_depth=8, learning_rate=2.5, n_estimators=1000\n",
            "[CV 3/5; 2/6] END base_estimator__max_depth=8, learning_rate=2.5, n_estimators=1000;, score=(train=0.499, test=0.483) total time= 4.3min\n",
            "[CV 4/5; 2/6] START base_estimator__max_depth=8, learning_rate=2.5, n_estimators=1000\n",
            "[CV 4/5; 2/6] END base_estimator__max_depth=8, learning_rate=2.5, n_estimators=1000;, score=(train=0.396, test=0.394) total time=  57.3s\n",
            "[CV 5/5; 2/6] START base_estimator__max_depth=8, learning_rate=2.5, n_estimators=1000\n",
            "[CV 5/5; 2/6] END base_estimator__max_depth=8, learning_rate=2.5, n_estimators=1000;, score=(train=0.527, test=0.519) total time=  39.1s\n",
            "[CV 1/5; 3/6] START base_estimator__max_depth=7, learning_rate=2.5, n_estimators=600\n",
            "[CV 1/5; 3/6] END base_estimator__max_depth=7, learning_rate=2.5, n_estimators=600;, score=(train=0.403, test=0.401) total time=  39.0s\n",
            "[CV 2/5; 3/6] START base_estimator__max_depth=7, learning_rate=2.5, n_estimators=600\n",
            "[CV 2/5; 3/6] END base_estimator__max_depth=7, learning_rate=2.5, n_estimators=600;, score=(train=0.481, test=0.469) total time=  39.6s\n",
            "[CV 3/5; 3/6] START base_estimator__max_depth=7, learning_rate=2.5, n_estimators=600\n",
            "[CV 3/5; 3/6] END base_estimator__max_depth=7, learning_rate=2.5, n_estimators=600;, score=(train=0.429, test=0.416) total time=  22.9s\n",
            "[CV 4/5; 3/6] START base_estimator__max_depth=7, learning_rate=2.5, n_estimators=600\n",
            "[CV 4/5; 3/6] END base_estimator__max_depth=7, learning_rate=2.5, n_estimators=600;, score=(train=0.434, test=0.427) total time=  35.2s\n",
            "[CV 5/5; 3/6] START base_estimator__max_depth=7, learning_rate=2.5, n_estimators=600\n",
            "[CV 5/5; 3/6] END base_estimator__max_depth=7, learning_rate=2.5, n_estimators=600;, score=(train=0.434, test=0.434) total time=  21.6s\n",
            "[CV 1/5; 4/6] START base_estimator__max_depth=8, learning_rate=0.8, n_estimators=400\n",
            "[CV 1/5; 4/6] END base_estimator__max_depth=8, learning_rate=0.8, n_estimators=400;, score=(train=1.000, test=0.777) total time= 1.4min\n",
            "[CV 2/5; 4/6] START base_estimator__max_depth=8, learning_rate=0.8, n_estimators=400\n",
            "[CV 2/5; 4/6] END base_estimator__max_depth=8, learning_rate=0.8, n_estimators=400;, score=(train=1.000, test=0.781) total time= 1.4min\n",
            "[CV 3/5; 4/6] START base_estimator__max_depth=8, learning_rate=0.8, n_estimators=400\n",
            "[CV 3/5; 4/6] END base_estimator__max_depth=8, learning_rate=0.8, n_estimators=400;, score=(train=1.000, test=0.783) total time= 1.4min\n",
            "[CV 4/5; 4/6] START base_estimator__max_depth=8, learning_rate=0.8, n_estimators=400\n",
            "[CV 4/5; 4/6] END base_estimator__max_depth=8, learning_rate=0.8, n_estimators=400;, score=(train=1.000, test=0.895) total time= 1.4min\n",
            "[CV 5/5; 4/6] START base_estimator__max_depth=8, learning_rate=0.8, n_estimators=400\n",
            "[CV 5/5; 4/6] END base_estimator__max_depth=8, learning_rate=0.8, n_estimators=400;, score=(train=1.000, test=0.896) total time= 1.4min\n",
            "[CV 1/5; 5/6] START base_estimator__max_depth=4, learning_rate=1.5, n_estimators=200\n",
            "[CV 1/5; 5/6] END base_estimator__max_depth=4, learning_rate=1.5, n_estimators=200;, score=(train=0.733, test=0.676) total time=  25.6s\n",
            "[CV 2/5; 5/6] START base_estimator__max_depth=4, learning_rate=1.5, n_estimators=200\n",
            "[CV 2/5; 5/6] END base_estimator__max_depth=4, learning_rate=1.5, n_estimators=200;, score=(train=0.731, test=0.678) total time=  25.3s\n",
            "[CV 3/5; 5/6] START base_estimator__max_depth=4, learning_rate=1.5, n_estimators=200\n",
            "[CV 3/5; 5/6] END base_estimator__max_depth=4, learning_rate=1.5, n_estimators=200;, score=(train=0.733, test=0.671) total time=  26.6s\n",
            "[CV 4/5; 5/6] START base_estimator__max_depth=4, learning_rate=1.5, n_estimators=200\n",
            "[CV 4/5; 5/6] END base_estimator__max_depth=4, learning_rate=1.5, n_estimators=200;, score=(train=0.729, test=0.699) total time=  26.0s\n",
            "[CV 5/5; 5/6] START base_estimator__max_depth=4, learning_rate=1.5, n_estimators=200\n",
            "[CV 5/5; 5/6] END base_estimator__max_depth=4, learning_rate=1.5, n_estimators=200;, score=(train=0.724, test=0.695) total time=  25.8s\n",
            "[CV 1/5; 6/6] START base_estimator__max_depth=8, learning_rate=0.6, n_estimators=1000\n",
            "[CV 1/5; 6/6] END base_estimator__max_depth=8, learning_rate=0.6, n_estimators=1000;, score=(train=1.000, test=0.786) total time= 3.5min\n",
            "[CV 2/5; 6/6] START base_estimator__max_depth=8, learning_rate=0.6, n_estimators=1000\n",
            "[CV 2/5; 6/6] END base_estimator__max_depth=8, learning_rate=0.6, n_estimators=1000;, score=(train=1.000, test=0.787) total time= 3.4min\n",
            "[CV 3/5; 6/6] START base_estimator__max_depth=8, learning_rate=0.6, n_estimators=1000\n",
            "[CV 3/5; 6/6] END base_estimator__max_depth=8, learning_rate=0.6, n_estimators=1000;, score=(train=1.000, test=0.794) total time= 3.4min\n",
            "[CV 4/5; 6/6] START base_estimator__max_depth=8, learning_rate=0.6, n_estimators=1000\n",
            "[CV 4/5; 6/6] END base_estimator__max_depth=8, learning_rate=0.6, n_estimators=1000;, score=(train=1.000, test=0.905) total time= 3.4min\n",
            "[CV 5/5; 6/6] START base_estimator__max_depth=8, learning_rate=0.6, n_estimators=1000\n",
            "[CV 5/5; 6/6] END base_estimator__max_depth=8, learning_rate=0.6, n_estimators=1000;, score=(train=1.000, test=0.907) total time= 3.2min\n"
          ]
        },
        {
          "data": {
            "text/plain": [
              "RandomizedSearchCV(cv=5, error_score=0,\n",
              "                   estimator=AdaBoostClassifier(base_estimator=DecisionTreeClassifier(random_state=0),\n",
              "                                                random_state=1),\n",
              "                   n_iter=6,\n",
              "                   param_distributions={'base_estimator__max_depth': [2, 3, 4,\n",
              "                                                                      5, 6, 7,\n",
              "                                                                      8],\n",
              "                                        'learning_rate': [0.2, 0.6, 0.8, 1.0,\n",
              "                                                          1.5, 2, 2.5],\n",
              "                                        'n_estimators': [200, 400, 600, 800,\n",
              "                                                         1000]},\n",
              "                   random_state=1, return_train_score=True, scoring='f1',\n",
              "                   verbose=10)"
            ]
          },
          "execution_count": 148,
          "metadata": {},
          "output_type": "execute_result"
        }
      ],
      "source": [
        "### let's do the grid search of adaboost\n",
        "from sklearn.model_selection import RandomizedSearchCV\n",
        "from sklearn.tree import DecisionTreeClassifier\n",
        "estimator_model= AdaBoostClassifier(base_estimator=DecisionTreeClassifier(random_state=0),random_state=1)\n",
        "parameters= {'base_estimator__max_depth':[2,3,4,5,6,7,8],'learning_rate':[0.2,0.6,0.8,1.0,1.5,2,2.5],'n_estimators':[200,400,600,800,1000]}\n",
        "random_model_clf= RandomizedSearchCV(estimator=estimator_model,param_distributions=parameters,n_iter=6,scoring='f1',verbose=10,return_train_score=True,cv=5,error_score=0,random_state=1)\n",
        "random_model_clf.fit(X_train,y_train)"
      ]
    },
    {
      "cell_type": "code",
      "execution_count": null,
      "metadata": {
        "colab": {
          "base_uri": "https://localhost:8080/"
        },
        "id": "qN4llSocp9d0",
        "outputId": "7365c1e6-8af7-4ced-cb46-411a38b83d22"
      },
      "outputs": [
        {
          "data": {
            "text/plain": [
              "0.8356170281694976"
            ]
          },
          "execution_count": 149,
          "metadata": {},
          "output_type": "execute_result"
        }
      ],
      "source": [
        "random_model_clf.best_score_"
      ]
    },
    {
      "cell_type": "code",
      "execution_count": null,
      "metadata": {
        "colab": {
          "base_uri": "https://localhost:8080/"
        },
        "id": "j0RfBu4A5pw_",
        "outputId": "9d3a1528-7493-4015-cb2d-985723ba29cd"
      },
      "outputs": [
        {
          "data": {
            "text/plain": [
              "{'base_estimator__max_depth': 8, 'learning_rate': 0.6, 'n_estimators': 1000}"
            ]
          },
          "execution_count": 131,
          "metadata": {},
          "output_type": "execute_result"
        }
      ],
      "source": [
        "random_model_clf.best_params_"
      ]
    },
    {
      "cell_type": "code",
      "execution_count": null,
      "metadata": {
        "colab": {
          "base_uri": "https://localhost:8080/"
        },
        "id": "rY6JS9S_518L",
        "outputId": "61ff541e-926a-4d9a-f474-7dd80a8ebcc1"
      },
      "outputs": [
        {
          "data": {
            "text/plain": [
              "AdaBoostClassifier(base_estimator=DecisionTreeClassifier(max_depth=8,\n",
              "                                                         random_state=0),\n",
              "                   learning_rate=0.6, n_estimators=1000, random_state=1)"
            ]
          },
          "execution_count": 150,
          "metadata": {},
          "output_type": "execute_result"
        }
      ],
      "source": [
        "adaboost_clf=AdaBoostClassifier(base_estimator=DecisionTreeClassifier(max_depth=8,random_state=0),random_state=1,n_estimators=1000,learning_rate=0.6)\n",
        "adaboost_clf.fit(X_train,y_train)"
      ]
    },
    {
      "cell_type": "code",
      "execution_count": null,
      "metadata": {
        "colab": {
          "base_uri": "https://localhost:8080/",
          "height": 351
        },
        "id": "xaptfIKL6Iot",
        "outputId": "8ae14ad1-17b0-4ff8-b12c-aa6fa82a5d92"
      },
      "outputs": [
        {
          "name": "stderr",
          "output_type": "stream",
          "text": [
            "/usr/local/lib/python3.7/dist-packages/sklearn/utils/deprecation.py:87: FutureWarning: Function plot_confusion_matrix is deprecated; Function `plot_confusion_matrix` is deprecated in 1.0 and will be removed in 1.2. Use one of the class methods: ConfusionMatrixDisplay.from_predictions or ConfusionMatrixDisplay.from_estimator.\n",
            "  warnings.warn(msg, category=FutureWarning)\n"
          ]
        },
        {
          "data": {
            "text/plain": [
              "<sklearn.metrics._plot.confusion_matrix.ConfusionMatrixDisplay at 0x7f4d749fba90>"
            ]
          },
          "execution_count": 151,
          "metadata": {},
          "output_type": "execute_result"
        },
        {
          "data": {
            "image/png": "[encoded data removed]",
            "text/plain": [
              "<Figure size 432x288 with 2 Axes>"
            ]
          },
          "metadata": {},
          "output_type": "display_data"
        }
      ],
      "source": [
        "y_pred= adaboost_clf.predict(X_test)\n",
        "y_prob= adaboost_clf.predict_proba(X_test)\n",
        "plot_confusion_matrix(adaboost_clf,X_test,y_test)"
      ]
    },
    {
      "cell_type": "code",
      "execution_count": null,
      "metadata": {
        "colab": {
          "base_uri": "https://localhost:8080/"
        },
        "id": "dcA9wbH36NVQ",
        "outputId": "41c247a1-61a3-497c-f8a3-bcb7c8a4880f"
      },
      "outputs": [
        {
          "name": "stdout",
          "output_type": "stream",
          "text": [
            "              precision    recall  f1-score   support\n",
            "\n",
            "           0       0.86      0.92      0.89     28259\n",
            "           1       0.62      0.49      0.55      8043\n",
            "\n",
            "    accuracy                           0.82     36302\n",
            "   macro avg       0.74      0.70      0.72     36302\n",
            "weighted avg       0.81      0.82      0.81     36302\n",
            "\n"
          ]
        }
      ],
      "source": [
        "print(classification_report(y_test,y_pred))"
      ]
    },
    {
      "cell_type": "markdown",
      "metadata": {
        "id": "7bK1c2-kAaBQ"
      },
      "source": [
        "### XGBoost classifier"
      ]
    },
    {
      "cell_type": "code",
      "execution_count": null,
      "metadata": {
        "colab": {
          "base_uri": "https://localhost:8080/"
        },
        "id": "7lGw6ueFQ3Wz",
        "outputId": "bc1a8399-f491-4e2a-e110-11673728ac7d"
      },
      "outputs": [
        {
          "name": "stdout",
          "output_type": "stream",
          "text": [
            "Requirement already satisfied: XGBoost in /usr/local/lib/python3.7/dist-packages (0.90)\n",
            "Requirement already satisfied: numpy in /usr/local/lib/python3.7/dist-packages (from XGBoost) (1.21.5)\n",
            "Requirement already satisfied: scipy in /usr/local/lib/python3.7/dist-packages (from XGBoost) (1.4.1)\n"
          ]
        }
      ],
      "source": [
        "!pip install XGBoost"
      ]
    },
    {
      "cell_type": "code",
      "execution_count": null,
      "metadata": {
        "id": "yW24qULfAgFG"
      },
      "outputs": [],
      "source": [
        "import xgboost as xgb\n",
        "from sklearn.preprocessing import LabelEncoder\n",
        "\n",
        "le= LabelEncoder()\n",
        "\n",
        "rain_boost= rain_df.copy()\n",
        "rain_boost=rain_boost[rain_boost['Average Humidity']>0]\n",
        "rain_boost['RainToday']= np.where(rain_boost['RainToday']=='Yes',1,0)\n",
        "rain_boost['RainTomorrow']= np.where(rain_boost['RainTomorrow']=='Yes',1,0)\n",
        "rain_boost[['WindGustDir','Location']]= rain_boost[['WindGustDir','Location']].apply(le.fit_transform)\n",
        "rain_boost= outlier_removal(rain_boost,'Average Humidity')\n",
        "rain_boost= outlier_removal(rain_boost,'Average Temp')"
      ]
    },
    {
      "cell_type": "code",
      "execution_count": null,
      "metadata": {
        "id": "nG-4DasqCD_X"
      },
      "outputs": [],
      "source": [
        "from sklearn.model_selection import train_test_split\n",
        "from sklearn.preprocessing import StandardScaler\n",
        "X= rain_boost.drop(['Rainfall','RainTomorrow','Month','Year'],axis=1)\n",
        "y= rain_boost['RainTomorrow']\n",
        "X_train,X_test,y_train,y_test= train_test_split(X,y,test_size=0.3,stratify=y,random_state=1)\n",
        "train_oversample= RandomOverSampler(sampling_strategy=0.5)\n",
        "X_train,y_train= train_oversample.fit_resample(X_train,y_train)\n",
        "sc_scaler= StandardScaler()\n",
        "X_train[['WindGustSpeed','Average Temp','Average Humidity']]= sc_scaler.fit_transform(X_train[['WindGustSpeed','Average Temp','Average Humidity']])\n",
        "X_test[['WindGustSpeed','Average Temp','Average Humidity']]= sc_scaler.transform(X_test[['WindGustSpeed','Average Temp','Average Humidity']])"
      ]
    },
    {
      "cell_type": "code",
      "execution_count": null,
      "metadata": {
        "colab": {
          "base_uri": "https://localhost:8080/"
        },
        "id": "x4hciy-DCNoD",
        "outputId": "b967a937-9efa-487b-db3f-c2087058aaea"
      },
      "outputs": [
        {
          "data": {
            "text/plain": [
              "XGBClassifier()"
            ]
          },
          "execution_count": 105,
          "metadata": {},
          "output_type": "execute_result"
        }
      ],
      "source": [
        "xgb_clf= xgb.XGBClassifier()\n",
        "xgb_clf.fit(X_train,y_train)"
      ]
    },
    {
      "cell_type": "code",
      "execution_count": null,
      "metadata": {
        "id": "BYKVe9wLCW1_"
      },
      "outputs": [],
      "source": [
        "y_pred= xgb_clf.predict(X_test)\n",
        "y_prob= xgb_clf.predict_proba(X_test)\n"
      ]
    },
    {
      "cell_type": "code",
      "execution_count": null,
      "metadata": {
        "colab": {
          "base_uri": "https://localhost:8080/",
          "height": 352
        },
        "id": "-lSxRs6lClKx",
        "outputId": "3e566cac-c4d1-487a-d2c5-8caacdcdd1b1"
      },
      "outputs": [
        {
          "name": "stderr",
          "output_type": "stream",
          "text": [
            "/usr/local/lib/python3.7/dist-packages/sklearn/utils/deprecation.py:87: FutureWarning: Function plot_confusion_matrix is deprecated; Function `plot_confusion_matrix` is deprecated in 1.0 and will be removed in 1.2. Use one of the class methods: ConfusionMatrixDisplay.from_predictions or ConfusionMatrixDisplay.from_estimator.\n",
            "  warnings.warn(msg, category=FutureWarning)\n"
          ]
        },
        {
          "data": {
            "text/plain": [
              "<sklearn.metrics._plot.confusion_matrix.ConfusionMatrixDisplay at 0x7f4d80001790>"
            ]
          },
          "execution_count": 107,
          "metadata": {},
          "output_type": "execute_result"
        },
        {
          "data": {
            "image/png": "[encoded data removed]",
            "text/plain": [
              "<Figure size 432x288 with 2 Axes>"
            ]
          },
          "metadata": {},
          "output_type": "display_data"
        }
      ],
      "source": [
        "from sklearn.metrics import classification_report,plot_confusion_matrix,accuracy_score\n",
        "plot_confusion_matrix(xgb_clf,X_test,y_test)"
      ]
    },
    {
      "cell_type": "code",
      "execution_count": null,
      "metadata": {
        "colab": {
          "base_uri": "https://localhost:8080/"
        },
        "id": "XqSgtSTsC8cZ",
        "outputId": "db72219e-8f46-46ac-b0fa-2c9c60e475b3"
      },
      "outputs": [
        {
          "name": "stdout",
          "output_type": "stream",
          "text": [
            "              precision    recall  f1-score   support\n",
            "\n",
            "           0       0.88      0.90      0.89     28259\n",
            "           1       0.62      0.59      0.60      8043\n",
            "\n",
            "    accuracy                           0.83     36302\n",
            "   macro avg       0.75      0.74      0.75     36302\n",
            "weighted avg       0.83      0.83      0.83     36302\n",
            "\n"
          ]
        }
      ],
      "source": [
        "print(classification_report(y_test,y_pred))"
      ]
    },
    {
      "cell_type": "markdown",
      "source": [
        "#### Logistics Regressions seems to have better results after transforming the features\n",
        "\n",
        "#### SVC classifier seems to have good precision values for positive classes but less recall values \n",
        "\n",
        "#### KNN classifier is also seems to be performing but not much performing better than logistic regression\n",
        "\n",
        "#### RandomForest Classifier seems to be not performing better than logistic regression\n",
        "\n",
        "#### Adaboost classifier seems to have same results as the logistic regression\n",
        "\n",
        "#### Xgboost seems to be performing not better than others....."
      ],
      "metadata": {
        "id": "iC1OZfBCODJh"
      }
    },
    {
      "cell_type": "code",
      "source": [
        ""
      ],
      "metadata": {
        "id": "qwi_uOIKR2Jc"
      },
      "execution_count": null,
      "outputs": []
    }
  ],
  "metadata": {
    "colab": {
      "collapsed_sections": [],
      "name": "RainFall_Prediction_Australia_CLF.ipynb",
      "provenance": []
    },
    "kernelspec": {
      "display_name": "Python 3",
      "language": "python",
      "name": "python3"
    },
    "language_info": {
      "codemirror_mode": {
        "name": "ipython",
        "version": 3
      },
      "file_extension": ".py",
      "mimetype": "text/x-python",
      "name": "python",
      "nbconvert_exporter": "python",
      "pygments_lexer": "ipython3",
      "version": "3.8.5"
    }
  },
  "nbformat": 4,
  "nbformat_minor": 0
}